{
 "cells": [
  {
   "cell_type": "markdown",
   "metadata": {},
   "source": [
    "## Roots of non-linear functions, interpolations and more\n",
    "\n",
    "You want a notebook, you have it."
   ]
  },
  {
   "cell_type": "markdown",
   "metadata": {},
   "source": [
    "I don't know about all these packages. I will only call the packages when we need them so you have a good idea about what we are using. Turns out we don't need many."
   ]
  },
  {
   "cell_type": "code",
   "execution_count": 46,
   "metadata": {},
   "outputs": [],
   "source": [
    "\n",
    "# import DelimitedFiles: writedlm, readdlm;\n",
    "#import QuantEcon: MarkovChain, simulate, tauchen, gridmake;\n",
    "#import Formatting: printfmt;\n",
    "#import Random: seed!;\n",
    "#import Optim: optimize, minimizer;\n",
    "#using UnPack;\n",
    "\n",
    "#using StatsBase;\n",
    "#using Roots;\n",
    "\n"
   ]
  },
  {
   "cell_type": "code",
   "execution_count": 47,
   "metadata": {},
   "outputs": [],
   "source": [
    "using Plots\n",
    "using LinearAlgebra"
   ]
  },
  {
   "cell_type": "markdown",
   "metadata": {},
   "source": [
    "### Step 1: Create a function and plot it."
   ]
  },
  {
   "cell_type": "code",
   "execution_count": 48,
   "metadata": {},
   "outputs": [
    {
     "data": {
      "image/png": "[encoded data removed]",
      "image/svg+xml": [
       "<?xml version=\"1.0\" encoding=\"utf-8\"?>\n",
       "<svg xmlns=\"http://www.w3.org/2000/svg\" xmlns:xlink=\"http://www.w3.org/1999/xlink\" width=\"600\" height=\"400\" viewBox=\"0 0 2400 1600\">\n",
       "<defs>\n",
       "  <clipPath id=\"clip290\">\n",
       "    <rect x=\"0\" y=\"0\" width=\"2400\" height=\"1600\"/>\n",
       "  </clipPath>\n",
       "</defs>\n",
       "<path clip-path=\"url(#clip290)\" d=\"M0 1600 L2400 1600 L2400 0 L0 0  Z\" fill=\"#ffffff\" fill-rule=\"evenodd\" fill-opacity=\"1\"/>\n",
       "<defs>\n",
       "  <clipPath id=\"clip291\">\n",
       "    <rect x=\"480\" y=\"0\" width=\"1681\" height=\"1600\"/>\n",
       "  </clipPath>\n",
       "</defs>\n",
       "<path clip-path=\"url(#clip290)\" d=\"M209.029 1486.45 L2352.76 1486.45 L2352.76 47.2441 L209.029 47.2441  Z\" fill=\"#ffffff\" fill-rule=\"evenodd\" fill-opacity=\"1\"/>\n",
       "<defs>\n",
       "  <clipPath id=\"clip292\">\n",
       "    <rect x=\"209\" y=\"47\" width=\"2145\" height=\"1440\"/>\n",
       "  </clipPath>\n",
       "</defs>\n",
       "<polyline clip-path=\"url(#clip292)\" style=\"stroke:#000000; stroke-linecap:round; stroke-linejoin:round; stroke-width:2; stroke-opacity:0.1; fill:none\" points=\"269.7,1486.45 269.7,47.2441 \"/>\n",
       "<polyline clip-path=\"url(#clip292)\" style=\"stroke:#000000; stroke-linecap:round; stroke-linejoin:round; stroke-width:2; stroke-opacity:0.1; fill:none\" points=\"775.296,1486.45 775.296,47.2441 \"/>\n",
       "<polyline clip-path=\"url(#clip292)\" style=\"stroke:#000000; stroke-linecap:round; stroke-linejoin:round; stroke-width:2; stroke-opacity:0.1; fill:none\" points=\"1280.89,1486.45 1280.89,47.2441 \"/>\n",
       "<polyline clip-path=\"url(#clip292)\" style=\"stroke:#000000; stroke-linecap:round; stroke-linejoin:round; stroke-width:2; stroke-opacity:0.1; fill:none\" points=\"1786.49,1486.45 1786.49,47.2441 \"/>\n",
       "<polyline clip-path=\"url(#clip292)\" style=\"stroke:#000000; stroke-linecap:round; stroke-linejoin:round; stroke-width:2; stroke-opacity:0.1; fill:none\" points=\"2292.08,1486.45 2292.08,47.2441 \"/>\n",
       "<polyline clip-path=\"url(#clip290)\" style=\"stroke:#000000; stroke-linecap:round; stroke-linejoin:round; stroke-width:4; stroke-opacity:1; fill:none\" points=\"209.029,1486.45 2352.76,1486.45 \"/>\n",
       "<polyline clip-path=\"url(#clip290)\" style=\"stroke:#000000; stroke-linecap:round; stroke-linejoin:round; stroke-width:4; stroke-opacity:1; fill:none\" points=\"269.7,1486.45 269.7,1467.55 \"/>\n",
       "<polyline clip-path=\"url(#clip290)\" style=\"stroke:#000000; stroke-linecap:round; stroke-linejoin:round; stroke-width:4; stroke-opacity:1; fill:none\" points=\"775.296,1486.45 775.296,1467.55 \"/>\n",
       "<polyline clip-path=\"url(#clip290)\" style=\"stroke:#000000; stroke-linecap:round; stroke-linejoin:round; stroke-width:4; stroke-opacity:1; fill:none\" points=\"1280.89,1486.45 1280.89,1467.55 \"/>\n",
       "<polyline clip-path=\"url(#clip290)\" style=\"stroke:#000000; stroke-linecap:round; stroke-linejoin:round; stroke-width:4; stroke-opacity:1; fill:none\" points=\"1786.49,1486.45 1786.49,1467.55 \"/>\n",
       "<polyline clip-path=\"url(#clip290)\" style=\"stroke:#000000; stroke-linecap:round; stroke-linejoin:round; stroke-width:4; stroke-opacity:1; fill:none\" points=\"2292.08,1486.45 2292.08,1467.55 \"/>\n",
       "<path clip-path=\"url(#clip290)\" d=\"M223.763 1532.02 L253.439 1532.02 L253.439 1535.95 L223.763 1535.95 L223.763 1532.02 Z\" fill=\"#000000\" fill-rule=\"nonzero\" fill-opacity=\"1\" /><path clip-path=\"url(#clip290)\" d=\"M264.341 1544.91 L271.98 1544.91 L271.98 1518.55 L263.67 1520.21 L263.67 1515.95 L271.934 1514.29 L276.61 1514.29 L276.61 1544.91 L284.249 1544.91 L284.249 1548.85 L264.341 1548.85 L264.341 1544.91 Z\" fill=\"#000000\" fill-rule=\"nonzero\" fill-opacity=\"1\" /><path clip-path=\"url(#clip290)\" d=\"M303.693 1517.37 Q300.082 1517.37 298.253 1520.93 Q296.448 1524.47 296.448 1531.6 Q296.448 1538.71 298.253 1542.27 Q300.082 1545.82 303.693 1545.82 Q307.327 1545.82 309.133 1542.27 Q310.961 1538.71 310.961 1531.6 Q310.961 1524.47 309.133 1520.93 Q307.327 1517.37 303.693 1517.37 M303.693 1513.66 Q309.503 1513.66 312.559 1518.27 Q315.637 1522.85 315.637 1531.6 Q315.637 1540.33 312.559 1544.94 Q309.503 1549.52 303.693 1549.52 Q297.883 1549.52 294.804 1544.94 Q291.749 1540.33 291.749 1531.6 Q291.749 1522.85 294.804 1518.27 Q297.883 1513.66 303.693 1513.66 Z\" fill=\"#000000\" fill-rule=\"nonzero\" fill-opacity=\"1\" /><path clip-path=\"url(#clip290)\" d=\"M744.937 1532.02 L774.613 1532.02 L774.613 1535.95 L744.937 1535.95 L744.937 1532.02 Z\" fill=\"#000000\" fill-rule=\"nonzero\" fill-opacity=\"1\" /><path clip-path=\"url(#clip290)\" d=\"M784.752 1514.29 L803.108 1514.29 L803.108 1518.22 L789.034 1518.22 L789.034 1526.7 Q790.053 1526.35 791.072 1526.19 Q792.09 1526 793.109 1526 Q798.896 1526 802.275 1529.17 Q805.655 1532.34 805.655 1537.76 Q805.655 1543.34 802.183 1546.44 Q798.71 1549.52 792.391 1549.52 Q790.215 1549.52 787.947 1549.15 Q785.701 1548.78 783.294 1548.04 L783.294 1543.34 Q785.377 1544.47 787.599 1545.03 Q789.822 1545.58 792.298 1545.58 Q796.303 1545.58 798.641 1543.48 Q800.979 1541.37 800.979 1537.76 Q800.979 1534.15 798.641 1532.04 Q796.303 1529.94 792.298 1529.94 Q790.423 1529.94 788.548 1530.35 Q786.697 1530.77 784.752 1531.65 L784.752 1514.29 Z\" fill=\"#000000\" fill-rule=\"nonzero\" fill-opacity=\"1\" /><path clip-path=\"url(#clip290)\" d=\"M1280.89 1517.37 Q1277.28 1517.37 1275.45 1520.93 Q1273.65 1524.47 1273.65 1531.6 Q1273.65 1538.71 1275.45 1542.27 Q1277.28 1545.82 1280.89 1545.82 Q1284.53 1545.82 1286.33 1542.27 Q1288.16 1538.71 1288.16 1531.6 Q1288.16 1524.47 1286.33 1520.93 Q1284.53 1517.37 1280.89 1517.37 M1280.89 1513.66 Q1286.7 1513.66 1289.76 1518.27 Q1292.84 1522.85 1292.84 1531.6 Q1292.84 1540.33 1289.76 1544.94 Q1286.7 1549.52 1280.89 1549.52 Q1275.08 1549.52 1272 1544.94 Q1268.95 1540.33 1268.95 1531.6 Q1268.95 1522.85 1272 1518.27 Q1275.08 1513.66 1280.89 1513.66 Z\" fill=\"#000000\" fill-rule=\"nonzero\" fill-opacity=\"1\" /><path clip-path=\"url(#clip290)\" d=\"M1776.77 1514.29 L1795.12 1514.29 L1795.12 1518.22 L1781.05 1518.22 L1781.05 1526.7 Q1782.07 1526.35 1783.09 1526.19 Q1784.1 1526 1785.12 1526 Q1790.91 1526 1794.29 1529.17 Q1797.67 1532.34 1797.67 1537.76 Q1797.67 1543.34 1794.2 1546.44 Q1790.72 1549.52 1784.4 1549.52 Q1782.23 1549.52 1779.96 1549.15 Q1777.72 1548.78 1775.31 1548.04 L1775.31 1543.34 Q1777.39 1544.47 1779.61 1545.03 Q1781.84 1545.58 1784.31 1545.58 Q1788.32 1545.58 1790.65 1543.48 Q1792.99 1541.37 1792.99 1537.76 Q1792.99 1534.15 1790.65 1532.04 Q1788.32 1529.94 1784.31 1529.94 Q1782.44 1529.94 1780.56 1530.35 Q1778.71 1530.77 1776.77 1531.65 L1776.77 1514.29 Z\" fill=\"#000000\" fill-rule=\"nonzero\" fill-opacity=\"1\" /><path clip-path=\"url(#clip290)\" d=\"M2266.77 1544.91 L2274.41 1544.91 L2274.41 1518.55 L2266.1 1520.21 L2266.1 1515.95 L2274.36 1514.29 L2279.04 1514.29 L2279.04 1544.91 L2286.68 1544.91 L2286.68 1548.85 L2266.77 1548.85 L2266.77 1544.91 Z\" fill=\"#000000\" fill-rule=\"nonzero\" fill-opacity=\"1\" /><path clip-path=\"url(#clip290)\" d=\"M2306.12 1517.37 Q2302.51 1517.37 2300.68 1520.93 Q2298.88 1524.47 2298.88 1531.6 Q2298.88 1538.71 2300.68 1542.27 Q2302.51 1545.82 2306.12 1545.82 Q2309.76 1545.82 2311.56 1542.27 Q2313.39 1538.71 2313.39 1531.6 Q2313.39 1524.47 2311.56 1520.93 Q2309.76 1517.37 2306.12 1517.37 M2306.12 1513.66 Q2311.93 1513.66 2314.99 1518.27 Q2318.07 1522.85 2318.07 1531.6 Q2318.07 1540.33 2314.99 1544.94 Q2311.93 1549.52 2306.12 1549.52 Q2300.31 1549.52 2297.23 1544.94 Q2294.18 1540.33 2294.18 1531.6 Q2294.18 1522.85 2297.23 1518.27 Q2300.31 1513.66 2306.12 1513.66 Z\" fill=\"#000000\" fill-rule=\"nonzero\" fill-opacity=\"1\" /><polyline clip-path=\"url(#clip292)\" style=\"stroke:#000000; stroke-linecap:round; stroke-linejoin:round; stroke-width:2; stroke-opacity:0.1; fill:none\" points=\"209.029,1293.07 2352.76,1293.07 \"/>\n",
       "<polyline clip-path=\"url(#clip292)\" style=\"stroke:#000000; stroke-linecap:round; stroke-linejoin:round; stroke-width:2; stroke-opacity:0.1; fill:none\" points=\"209.029,891.356 2352.76,891.356 \"/>\n",
       "<polyline clip-path=\"url(#clip292)\" style=\"stroke:#000000; stroke-linecap:round; stroke-linejoin:round; stroke-width:2; stroke-opacity:0.1; fill:none\" points=\"209.029,489.646 2352.76,489.646 \"/>\n",
       "<polyline clip-path=\"url(#clip292)\" style=\"stroke:#000000; stroke-linecap:round; stroke-linejoin:round; stroke-width:2; stroke-opacity:0.1; fill:none\" points=\"209.029,87.9361 2352.76,87.9361 \"/>\n",
       "<polyline clip-path=\"url(#clip290)\" style=\"stroke:#000000; stroke-linecap:round; stroke-linejoin:round; stroke-width:4; stroke-opacity:1; fill:none\" points=\"209.029,1486.45 209.029,47.2441 \"/>\n",
       "<polyline clip-path=\"url(#clip290)\" style=\"stroke:#000000; stroke-linecap:round; stroke-linejoin:round; stroke-width:4; stroke-opacity:1; fill:none\" points=\"209.029,1293.07 227.926,1293.07 \"/>\n",
       "<polyline clip-path=\"url(#clip290)\" style=\"stroke:#000000; stroke-linecap:round; stroke-linejoin:round; stroke-width:4; stroke-opacity:1; fill:none\" points=\"209.029,891.356 227.926,891.356 \"/>\n",
       "<polyline clip-path=\"url(#clip290)\" style=\"stroke:#000000; stroke-linecap:round; stroke-linejoin:round; stroke-width:4; stroke-opacity:1; fill:none\" points=\"209.029,489.646 227.926,489.646 \"/>\n",
       "<polyline clip-path=\"url(#clip290)\" style=\"stroke:#000000; stroke-linecap:round; stroke-linejoin:round; stroke-width:4; stroke-opacity:1; fill:none\" points=\"209.029,87.9361 227.926,87.9361 \"/>\n",
       "<path clip-path=\"url(#clip290)\" d=\"M50.9921 1293.52 L80.6679 1293.52 L80.6679 1297.45 L50.9921 1297.45 L50.9921 1293.52 Z\" fill=\"#000000\" fill-rule=\"nonzero\" fill-opacity=\"1\" /><path clip-path=\"url(#clip290)\" d=\"M91.5706 1306.41 L99.2095 1306.41 L99.2095 1280.05 L90.8993 1281.71 L90.8993 1277.45 L99.1632 1275.79 L103.839 1275.79 L103.839 1306.41 L111.478 1306.41 L111.478 1310.35 L91.5706 1310.35 L91.5706 1306.41 Z\" fill=\"#000000\" fill-rule=\"nonzero\" fill-opacity=\"1\" /><path clip-path=\"url(#clip290)\" d=\"M120.969 1275.79 L139.325 1275.79 L139.325 1279.72 L125.251 1279.72 L125.251 1288.19 Q126.27 1287.85 127.288 1287.68 Q128.307 1287.5 129.325 1287.5 Q135.112 1287.5 138.492 1290.67 Q141.871 1293.84 141.871 1299.26 Q141.871 1304.84 138.399 1307.94 Q134.927 1311.02 128.607 1311.02 Q126.432 1311.02 124.163 1310.65 Q121.918 1310.28 119.51 1309.54 L119.51 1304.84 Q121.594 1305.97 123.816 1306.53 Q126.038 1307.08 128.515 1307.08 Q132.519 1307.08 134.857 1304.98 Q137.195 1302.87 137.195 1299.26 Q137.195 1295.65 134.857 1293.54 Q132.519 1291.43 128.515 1291.43 Q126.64 1291.43 124.765 1291.85 Q122.913 1292.27 120.969 1293.15 L120.969 1275.79 Z\" fill=\"#000000\" fill-rule=\"nonzero\" fill-opacity=\"1\" /><path clip-path=\"url(#clip290)\" d=\"M161.084 1278.86 Q157.473 1278.86 155.644 1282.43 Q153.839 1285.97 153.839 1293.1 Q153.839 1300.21 155.644 1303.77 Q157.473 1307.31 161.084 1307.31 Q164.718 1307.31 166.524 1303.77 Q168.353 1300.21 168.353 1293.1 Q168.353 1285.97 166.524 1282.43 Q164.718 1278.86 161.084 1278.86 M161.084 1275.16 Q166.894 1275.16 169.95 1279.77 Q173.029 1284.35 173.029 1293.1 Q173.029 1301.83 169.95 1306.43 Q166.894 1311.02 161.084 1311.02 Q155.274 1311.02 152.195 1306.43 Q149.14 1301.83 149.14 1293.1 Q149.14 1284.35 152.195 1279.77 Q155.274 1275.16 161.084 1275.16 Z\" fill=\"#000000\" fill-rule=\"nonzero\" fill-opacity=\"1\" /><path clip-path=\"url(#clip290)\" d=\"M50.9921 891.807 L80.6679 891.807 L80.6679 895.743 L50.9921 895.743 L50.9921 891.807 Z\" fill=\"#000000\" fill-rule=\"nonzero\" fill-opacity=\"1\" /><path clip-path=\"url(#clip290)\" d=\"M91.5706 904.701 L99.2095 904.701 L99.2095 878.335 L90.8993 880.002 L90.8993 875.743 L99.1632 874.076 L103.839 874.076 L103.839 904.701 L111.478 904.701 L111.478 908.636 L91.5706 908.636 L91.5706 904.701 Z\" fill=\"#000000\" fill-rule=\"nonzero\" fill-opacity=\"1\" /><path clip-path=\"url(#clip290)\" d=\"M130.922 877.155 Q127.311 877.155 125.482 880.719 Q123.677 884.261 123.677 891.391 Q123.677 898.497 125.482 902.062 Q127.311 905.604 130.922 905.604 Q134.556 905.604 136.362 902.062 Q138.191 898.497 138.191 891.391 Q138.191 884.261 136.362 880.719 Q134.556 877.155 130.922 877.155 M130.922 873.451 Q136.732 873.451 139.788 878.057 Q142.867 882.641 142.867 891.391 Q142.867 900.118 139.788 904.724 Q136.732 909.307 130.922 909.307 Q125.112 909.307 122.033 904.724 Q118.978 900.118 118.978 891.391 Q118.978 882.641 122.033 878.057 Q125.112 873.451 130.922 873.451 Z\" fill=\"#000000\" fill-rule=\"nonzero\" fill-opacity=\"1\" /><path clip-path=\"url(#clip290)\" d=\"M161.084 877.155 Q157.473 877.155 155.644 880.719 Q153.839 884.261 153.839 891.391 Q153.839 898.497 155.644 902.062 Q157.473 905.604 161.084 905.604 Q164.718 905.604 166.524 902.062 Q168.353 898.497 168.353 891.391 Q168.353 884.261 166.524 880.719 Q164.718 877.155 161.084 877.155 M161.084 873.451 Q166.894 873.451 169.95 878.057 Q173.029 882.641 173.029 891.391 Q173.029 900.118 169.95 904.724 Q166.894 909.307 161.084 909.307 Q155.274 909.307 152.195 904.724 Q149.14 900.118 149.14 891.391 Q149.14 882.641 152.195 878.057 Q155.274 873.451 161.084 873.451 Z\" fill=\"#000000\" fill-rule=\"nonzero\" fill-opacity=\"1\" /><path clip-path=\"url(#clip290)\" d=\"M81.154 490.097 L110.83 490.097 L110.83 494.033 L81.154 494.033 L81.154 490.097 Z\" fill=\"#000000\" fill-rule=\"nonzero\" fill-opacity=\"1\" /><path clip-path=\"url(#clip290)\" d=\"M120.969 472.366 L139.325 472.366 L139.325 476.301 L125.251 476.301 L125.251 484.773 Q126.27 484.426 127.288 484.264 Q128.307 484.079 129.325 484.079 Q135.112 484.079 138.492 487.25 Q141.871 490.422 141.871 495.838 Q141.871 501.417 138.399 504.519 Q134.927 507.597 128.607 507.597 Q126.432 507.597 124.163 507.227 Q121.918 506.857 119.51 506.116 L119.51 501.417 Q121.594 502.551 123.816 503.107 Q126.038 503.662 128.515 503.662 Q132.519 503.662 134.857 501.556 Q137.195 499.449 137.195 495.838 Q137.195 492.227 134.857 490.121 Q132.519 488.014 128.515 488.014 Q126.64 488.014 124.765 488.431 Q122.913 488.847 120.969 489.727 L120.969 472.366 Z\" fill=\"#000000\" fill-rule=\"nonzero\" fill-opacity=\"1\" /><path clip-path=\"url(#clip290)\" d=\"M161.084 475.445 Q157.473 475.445 155.644 479.01 Q153.839 482.551 153.839 489.681 Q153.839 496.787 155.644 500.352 Q157.473 503.894 161.084 503.894 Q164.718 503.894 166.524 500.352 Q168.353 496.787 168.353 489.681 Q168.353 482.551 166.524 479.01 Q164.718 475.445 161.084 475.445 M161.084 471.741 Q166.894 471.741 169.95 476.348 Q173.029 480.931 173.029 489.681 Q173.029 498.408 169.95 503.014 Q166.894 507.597 161.084 507.597 Q155.274 507.597 152.195 503.014 Q149.14 498.408 149.14 489.681 Q149.14 480.931 152.195 476.348 Q155.274 471.741 161.084 471.741 Z\" fill=\"#000000\" fill-rule=\"nonzero\" fill-opacity=\"1\" /><path clip-path=\"url(#clip290)\" d=\"M161.084 73.7348 Q157.473 73.7348 155.644 77.2996 Q153.839 80.8412 153.839 87.9708 Q153.839 95.0773 155.644 98.6421 Q157.473 102.184 161.084 102.184 Q164.718 102.184 166.524 98.6421 Q168.353 95.0773 168.353 87.9708 Q168.353 80.8412 166.524 77.2996 Q164.718 73.7348 161.084 73.7348 M161.084 70.0311 Q166.894 70.0311 169.95 74.6376 Q173.029 79.2209 173.029 87.9708 Q173.029 96.6976 169.95 101.304 Q166.894 105.887 161.084 105.887 Q155.274 105.887 152.195 101.304 Q149.14 96.6976 149.14 87.9708 Q149.14 79.2209 152.195 74.6376 Q155.274 70.0311 161.084 70.0311 Z\" fill=\"#000000\" fill-rule=\"nonzero\" fill-opacity=\"1\" /><polyline clip-path=\"url(#clip292)\" style=\"stroke:#009af9; stroke-linecap:round; stroke-linejoin:round; stroke-width:4; stroke-opacity:1; fill:none\" points=\"269.7,1445.72 290.128,1403.84 310.556,1362.63 330.984,1322.07 351.413,1282.16 371.841,1242.91 392.269,1204.32 412.697,1166.38 433.125,1129.1 453.553,1092.48 473.981,1056.51 494.409,1021.19 514.838,986.534 535.266,952.532 555.694,919.185 576.122,886.494 596.55,854.459 616.978,823.08 637.406,792.356 657.834,762.288 678.263,732.876 698.691,704.12 719.119,676.02 739.547,648.575 759.975,621.786 780.403,595.653 800.831,570.176 821.259,545.354 841.688,521.189 862.116,497.679 882.544,474.824 902.972,452.626 923.4,431.084 943.828,410.197 964.256,389.966 984.684,370.391 1005.11,351.471 1025.54,333.207 1045.97,315.6 1066.4,298.648 1086.83,282.351 1107.25,266.711 1127.68,251.726 1148.11,237.397 1168.54,223.724 1188.97,210.707 1209.39,198.345 1229.82,186.639 1250.25,175.589 1270.68,165.195 1291.11,155.457 1311.53,146.374 1331.96,137.947 1352.39,130.176 1372.82,123.061 1393.25,116.601 1413.68,110.798 1434.1,105.65 1454.53,101.158 1474.96,97.3212 1495.39,94.1407 1515.82,91.6159 1536.24,89.7469 1556.67,88.5337 1577.1,87.9763 1597.53,88.0746 1617.96,88.8288 1638.38,90.2387 1658.81,92.3045 1679.24,95.026 1699.67,98.4033 1720.1,102.436 1740.53,107.125 1760.95,112.47 1781.38,118.47 1801.81,125.127 1822.24,132.439 1842.67,140.406 1863.09,149.03 1883.52,158.309 1903.95,168.244 1924.38,178.835 1944.81,190.082 1965.23,201.985 1985.66,214.543 2006.09,227.757 2026.52,241.627 2046.95,256.153 2067.38,271.334 2087.8,287.171 2108.23,303.664 2128.66,320.813 2149.09,338.618 2169.52,357.078 2189.94,376.194 2210.37,395.966 2230.8,416.394 2251.23,437.477 2271.66,459.217 2292.08,481.612 \"/>\n",
       "<path clip-path=\"url(#clip290)\" d=\"M280.486 198.898 L547.289 198.898 L547.289 95.2176 L280.486 95.2176  Z\" fill=\"#ffffff\" fill-rule=\"evenodd\" fill-opacity=\"1\"/>\n",
       "<polyline clip-path=\"url(#clip290)\" style=\"stroke:#000000; stroke-linecap:round; stroke-linejoin:round; stroke-width:4; stroke-opacity:1; fill:none\" points=\"280.486,198.898 547.289,198.898 547.289,95.2176 280.486,95.2176 280.486,198.898 \"/>\n",
       "<polyline clip-path=\"url(#clip290)\" style=\"stroke:#009af9; stroke-linecap:round; stroke-linejoin:round; stroke-width:4; stroke-opacity:1; fill:none\" points=\"304.305,147.058 447.22,147.058 \"/>\n",
       "<path clip-path=\"url(#clip290)\" d=\"M484.882 166.745 Q483.077 171.375 481.364 172.787 Q479.651 174.199 476.78 174.199 L473.378 174.199 L473.378 170.634 L475.878 170.634 Q477.637 170.634 478.609 169.8 Q479.581 168.967 480.762 165.865 L481.526 163.921 L471.04 138.412 L475.554 138.412 L483.655 158.689 L491.757 138.412 L496.271 138.412 L484.882 166.745 Z\" fill=\"#000000\" fill-rule=\"nonzero\" fill-opacity=\"1\" /><path clip-path=\"url(#clip290)\" d=\"M503.563 160.402 L511.201 160.402 L511.201 134.037 L502.891 135.703 L502.891 131.444 L511.155 129.778 L515.831 129.778 L515.831 160.402 L523.47 160.402 L523.47 164.338 L503.563 164.338 L503.563 160.402 Z\" fill=\"#000000\" fill-rule=\"nonzero\" fill-opacity=\"1\" /></svg>\n"
      ],
      "text/html": [
       "<?xml version=\"1.0\" encoding=\"utf-8\"?>\n",
       "<svg xmlns=\"http://www.w3.org/2000/svg\" xmlns:xlink=\"http://www.w3.org/1999/xlink\" width=\"600\" height=\"400\" viewBox=\"0 0 2400 1600\">\n",
       "<defs>\n",
       "  <clipPath id=\"clip340\">\n",
       "    <rect x=\"0\" y=\"0\" width=\"2400\" height=\"1600\"/>\n",
       "  </clipPath>\n",
       "</defs>\n",
       "<path clip-path=\"url(#clip340)\" d=\"M0 1600 L2400 1600 L2400 0 L0 0  Z\" fill=\"#ffffff\" fill-rule=\"evenodd\" fill-opacity=\"1\"/>\n",
       "<defs>\n",
       "  <clipPath id=\"clip341\">\n",
       "    <rect x=\"480\" y=\"0\" width=\"1681\" height=\"1600\"/>\n",
       "  </clipPath>\n",
       "</defs>\n",
       "<path clip-path=\"url(#clip340)\" d=\"M209.029 1486.45 L2352.76 1486.45 L2352.76 47.2441 L209.029 47.2441  Z\" fill=\"#ffffff\" fill-rule=\"evenodd\" fill-opacity=\"1\"/>\n",
       "<defs>\n",
       "  <clipPath id=\"clip342\">\n",
       "    <rect x=\"209\" y=\"47\" width=\"2145\" height=\"1440\"/>\n",
       "  </clipPath>\n",
       "</defs>\n",
       "<polyline clip-path=\"url(#clip342)\" style=\"stroke:#000000; stroke-linecap:round; stroke-linejoin:round; stroke-width:2; stroke-opacity:0.1; fill:none\" points=\"269.7,1486.45 269.7,47.2441 \"/>\n",
       "<polyline clip-path=\"url(#clip342)\" style=\"stroke:#000000; stroke-linecap:round; stroke-linejoin:round; stroke-width:2; stroke-opacity:0.1; fill:none\" points=\"775.296,1486.45 775.296,47.2441 \"/>\n",
       "<polyline clip-path=\"url(#clip342)\" style=\"stroke:#000000; stroke-linecap:round; stroke-linejoin:round; stroke-width:2; stroke-opacity:0.1; fill:none\" points=\"1280.89,1486.45 1280.89,47.2441 \"/>\n",
       "<polyline clip-path=\"url(#clip342)\" style=\"stroke:#000000; stroke-linecap:round; stroke-linejoin:round; stroke-width:2; stroke-opacity:0.1; fill:none\" points=\"1786.49,1486.45 1786.49,47.2441 \"/>\n",
       "<polyline clip-path=\"url(#clip342)\" style=\"stroke:#000000; stroke-linecap:round; stroke-linejoin:round; stroke-width:2; stroke-opacity:0.1; fill:none\" points=\"2292.08,1486.45 2292.08,47.2441 \"/>\n",
       "<polyline clip-path=\"url(#clip340)\" style=\"stroke:#000000; stroke-linecap:round; stroke-linejoin:round; stroke-width:4; stroke-opacity:1; fill:none\" points=\"209.029,1486.45 2352.76,1486.45 \"/>\n",
       "<polyline clip-path=\"url(#clip340)\" style=\"stroke:#000000; stroke-linecap:round; stroke-linejoin:round; stroke-width:4; stroke-opacity:1; fill:none\" points=\"269.7,1486.45 269.7,1467.55 \"/>\n",
       "<polyline clip-path=\"url(#clip340)\" style=\"stroke:#000000; stroke-linecap:round; stroke-linejoin:round; stroke-width:4; stroke-opacity:1; fill:none\" points=\"775.296,1486.45 775.296,1467.55 \"/>\n",
       "<polyline clip-path=\"url(#clip340)\" style=\"stroke:#000000; stroke-linecap:round; stroke-linejoin:round; stroke-width:4; stroke-opacity:1; fill:none\" points=\"1280.89,1486.45 1280.89,1467.55 \"/>\n",
       "<polyline clip-path=\"url(#clip340)\" style=\"stroke:#000000; stroke-linecap:round; stroke-linejoin:round; stroke-width:4; stroke-opacity:1; fill:none\" points=\"1786.49,1486.45 1786.49,1467.55 \"/>\n",
       "<polyline clip-path=\"url(#clip340)\" style=\"stroke:#000000; stroke-linecap:round; stroke-linejoin:round; stroke-width:4; stroke-opacity:1; fill:none\" points=\"2292.08,1486.45 2292.08,1467.55 \"/>\n",
       "<path clip-path=\"url(#clip340)\" d=\"M223.763 1532.02 L253.439 1532.02 L253.439 1535.95 L223.763 1535.95 L223.763 1532.02 Z\" fill=\"#000000\" fill-rule=\"nonzero\" fill-opacity=\"1\" /><path clip-path=\"url(#clip340)\" d=\"M264.341 1544.91 L271.98 1544.91 L271.98 1518.55 L263.67 1520.21 L263.67 1515.95 L271.934 1514.29 L276.61 1514.29 L276.61 1544.91 L284.249 1544.91 L284.249 1548.85 L264.341 1548.85 L264.341 1544.91 Z\" fill=\"#000000\" fill-rule=\"nonzero\" fill-opacity=\"1\" /><path clip-path=\"url(#clip340)\" d=\"M303.693 1517.37 Q300.082 1517.37 298.253 1520.93 Q296.448 1524.47 296.448 1531.6 Q296.448 1538.71 298.253 1542.27 Q300.082 1545.82 303.693 1545.82 Q307.327 1545.82 309.133 1542.27 Q310.961 1538.71 310.961 1531.6 Q310.961 1524.47 309.133 1520.93 Q307.327 1517.37 303.693 1517.37 M303.693 1513.66 Q309.503 1513.66 312.559 1518.27 Q315.637 1522.85 315.637 1531.6 Q315.637 1540.33 312.559 1544.94 Q309.503 1549.52 303.693 1549.52 Q297.883 1549.52 294.804 1544.94 Q291.749 1540.33 291.749 1531.6 Q291.749 1522.85 294.804 1518.27 Q297.883 1513.66 303.693 1513.66 Z\" fill=\"#000000\" fill-rule=\"nonzero\" fill-opacity=\"1\" /><path clip-path=\"url(#clip340)\" d=\"M744.937 1532.02 L774.613 1532.02 L774.613 1535.95 L744.937 1535.95 L744.937 1532.02 Z\" fill=\"#000000\" fill-rule=\"nonzero\" fill-opacity=\"1\" /><path clip-path=\"url(#clip340)\" d=\"M784.752 1514.29 L803.108 1514.29 L803.108 1518.22 L789.034 1518.22 L789.034 1526.7 Q790.053 1526.35 791.072 1526.19 Q792.09 1526 793.109 1526 Q798.896 1526 802.275 1529.17 Q805.655 1532.34 805.655 1537.76 Q805.655 1543.34 802.183 1546.44 Q798.71 1549.52 792.391 1549.52 Q790.215 1549.52 787.947 1549.15 Q785.701 1548.78 783.294 1548.04 L783.294 1543.34 Q785.377 1544.47 787.599 1545.03 Q789.822 1545.58 792.298 1545.58 Q796.303 1545.58 798.641 1543.48 Q800.979 1541.37 800.979 1537.76 Q800.979 1534.15 798.641 1532.04 Q796.303 1529.94 792.298 1529.94 Q790.423 1529.94 788.548 1530.35 Q786.697 1530.77 784.752 1531.65 L784.752 1514.29 Z\" fill=\"#000000\" fill-rule=\"nonzero\" fill-opacity=\"1\" /><path clip-path=\"url(#clip340)\" d=\"M1280.89 1517.37 Q1277.28 1517.37 1275.45 1520.93 Q1273.65 1524.47 1273.65 1531.6 Q1273.65 1538.71 1275.45 1542.27 Q1277.28 1545.82 1280.89 1545.82 Q1284.53 1545.82 1286.33 1542.27 Q1288.16 1538.71 1288.16 1531.6 Q1288.16 1524.47 1286.33 1520.93 Q1284.53 1517.37 1280.89 1517.37 M1280.89 1513.66 Q1286.7 1513.66 1289.76 1518.27 Q1292.84 1522.85 1292.84 1531.6 Q1292.84 1540.33 1289.76 1544.94 Q1286.7 1549.52 1280.89 1549.52 Q1275.08 1549.52 1272 1544.94 Q1268.95 1540.33 1268.95 1531.6 Q1268.95 1522.85 1272 1518.27 Q1275.08 1513.66 1280.89 1513.66 Z\" fill=\"#000000\" fill-rule=\"nonzero\" fill-opacity=\"1\" /><path clip-path=\"url(#clip340)\" d=\"M1776.77 1514.29 L1795.12 1514.29 L1795.12 1518.22 L1781.05 1518.22 L1781.05 1526.7 Q1782.07 1526.35 1783.09 1526.19 Q1784.1 1526 1785.12 1526 Q1790.91 1526 1794.29 1529.17 Q1797.67 1532.34 1797.67 1537.76 Q1797.67 1543.34 1794.2 1546.44 Q1790.72 1549.52 1784.4 1549.52 Q1782.23 1549.52 1779.96 1549.15 Q1777.72 1548.78 1775.31 1548.04 L1775.31 1543.34 Q1777.39 1544.47 1779.61 1545.03 Q1781.84 1545.58 1784.31 1545.58 Q1788.32 1545.58 1790.65 1543.48 Q1792.99 1541.37 1792.99 1537.76 Q1792.99 1534.15 1790.65 1532.04 Q1788.32 1529.94 1784.31 1529.94 Q1782.44 1529.94 1780.56 1530.35 Q1778.71 1530.77 1776.77 1531.65 L1776.77 1514.29 Z\" fill=\"#000000\" fill-rule=\"nonzero\" fill-opacity=\"1\" /><path clip-path=\"url(#clip340)\" d=\"M2266.77 1544.91 L2274.41 1544.91 L2274.41 1518.55 L2266.1 1520.21 L2266.1 1515.95 L2274.36 1514.29 L2279.04 1514.29 L2279.04 1544.91 L2286.68 1544.91 L2286.68 1548.85 L2266.77 1548.85 L2266.77 1544.91 Z\" fill=\"#000000\" fill-rule=\"nonzero\" fill-opacity=\"1\" /><path clip-path=\"url(#clip340)\" d=\"M2306.12 1517.37 Q2302.51 1517.37 2300.68 1520.93 Q2298.88 1524.47 2298.88 1531.6 Q2298.88 1538.71 2300.68 1542.27 Q2302.51 1545.82 2306.12 1545.82 Q2309.76 1545.82 2311.56 1542.27 Q2313.39 1538.71 2313.39 1531.6 Q2313.39 1524.47 2311.56 1520.93 Q2309.76 1517.37 2306.12 1517.37 M2306.12 1513.66 Q2311.93 1513.66 2314.99 1518.27 Q2318.07 1522.85 2318.07 1531.6 Q2318.07 1540.33 2314.99 1544.94 Q2311.93 1549.52 2306.12 1549.52 Q2300.31 1549.52 2297.23 1544.94 Q2294.18 1540.33 2294.18 1531.6 Q2294.18 1522.85 2297.23 1518.27 Q2300.31 1513.66 2306.12 1513.66 Z\" fill=\"#000000\" fill-rule=\"nonzero\" fill-opacity=\"1\" /><polyline clip-path=\"url(#clip342)\" style=\"stroke:#000000; stroke-linecap:round; stroke-linejoin:round; stroke-width:2; stroke-opacity:0.1; fill:none\" points=\"209.029,1293.07 2352.76,1293.07 \"/>\n",
       "<polyline clip-path=\"url(#clip342)\" style=\"stroke:#000000; stroke-linecap:round; stroke-linejoin:round; stroke-width:2; stroke-opacity:0.1; fill:none\" points=\"209.029,891.356 2352.76,891.356 \"/>\n",
       "<polyline clip-path=\"url(#clip342)\" style=\"stroke:#000000; stroke-linecap:round; stroke-linejoin:round; stroke-width:2; stroke-opacity:0.1; fill:none\" points=\"209.029,489.646 2352.76,489.646 \"/>\n",
       "<polyline clip-path=\"url(#clip342)\" style=\"stroke:#000000; stroke-linecap:round; stroke-linejoin:round; stroke-width:2; stroke-opacity:0.1; fill:none\" points=\"209.029,87.9361 2352.76,87.9361 \"/>\n",
       "<polyline clip-path=\"url(#clip340)\" style=\"stroke:#000000; stroke-linecap:round; stroke-linejoin:round; stroke-width:4; stroke-opacity:1; fill:none\" points=\"209.029,1486.45 209.029,47.2441 \"/>\n",
       "<polyline clip-path=\"url(#clip340)\" style=\"stroke:#000000; stroke-linecap:round; stroke-linejoin:round; stroke-width:4; stroke-opacity:1; fill:none\" points=\"209.029,1293.07 227.926,1293.07 \"/>\n",
       "<polyline clip-path=\"url(#clip340)\" style=\"stroke:#000000; stroke-linecap:round; stroke-linejoin:round; stroke-width:4; stroke-opacity:1; fill:none\" points=\"209.029,891.356 227.926,891.356 \"/>\n",
       "<polyline clip-path=\"url(#clip340)\" style=\"stroke:#000000; stroke-linecap:round; stroke-linejoin:round; stroke-width:4; stroke-opacity:1; fill:none\" points=\"209.029,489.646 227.926,489.646 \"/>\n",
       "<polyline clip-path=\"url(#clip340)\" style=\"stroke:#000000; stroke-linecap:round; stroke-linejoin:round; stroke-width:4; stroke-opacity:1; fill:none\" points=\"209.029,87.9361 227.926,87.9361 \"/>\n",
       "<path clip-path=\"url(#clip340)\" d=\"M50.9921 1293.52 L80.6679 1293.52 L80.6679 1297.45 L50.9921 1297.45 L50.9921 1293.52 Z\" fill=\"#000000\" fill-rule=\"nonzero\" fill-opacity=\"1\" /><path clip-path=\"url(#clip340)\" d=\"M91.5706 1306.41 L99.2095 1306.41 L99.2095 1280.05 L90.8993 1281.71 L90.8993 1277.45 L99.1632 1275.79 L103.839 1275.79 L103.839 1306.41 L111.478 1306.41 L111.478 1310.35 L91.5706 1310.35 L91.5706 1306.41 Z\" fill=\"#000000\" fill-rule=\"nonzero\" fill-opacity=\"1\" /><path clip-path=\"url(#clip340)\" d=\"M120.969 1275.79 L139.325 1275.79 L139.325 1279.72 L125.251 1279.72 L125.251 1288.19 Q126.27 1287.85 127.288 1287.68 Q128.307 1287.5 129.325 1287.5 Q135.112 1287.5 138.492 1290.67 Q141.871 1293.84 141.871 1299.26 Q141.871 1304.84 138.399 1307.94 Q134.927 1311.02 128.607 1311.02 Q126.432 1311.02 124.163 1310.65 Q121.918 1310.28 119.51 1309.54 L119.51 1304.84 Q121.594 1305.97 123.816 1306.53 Q126.038 1307.08 128.515 1307.08 Q132.519 1307.08 134.857 1304.98 Q137.195 1302.87 137.195 1299.26 Q137.195 1295.65 134.857 1293.54 Q132.519 1291.43 128.515 1291.43 Q126.64 1291.43 124.765 1291.85 Q122.913 1292.27 120.969 1293.15 L120.969 1275.79 Z\" fill=\"#000000\" fill-rule=\"nonzero\" fill-opacity=\"1\" /><path clip-path=\"url(#clip340)\" d=\"M161.084 1278.86 Q157.473 1278.86 155.644 1282.43 Q153.839 1285.97 153.839 1293.1 Q153.839 1300.21 155.644 1303.77 Q157.473 1307.31 161.084 1307.31 Q164.718 1307.31 166.524 1303.77 Q168.353 1300.21 168.353 1293.1 Q168.353 1285.97 166.524 1282.43 Q164.718 1278.86 161.084 1278.86 M161.084 1275.16 Q166.894 1275.16 169.95 1279.77 Q173.029 1284.35 173.029 1293.1 Q173.029 1301.83 169.95 1306.43 Q166.894 1311.02 161.084 1311.02 Q155.274 1311.02 152.195 1306.43 Q149.14 1301.83 149.14 1293.1 Q149.14 1284.35 152.195 1279.77 Q155.274 1275.16 161.084 1275.16 Z\" fill=\"#000000\" fill-rule=\"nonzero\" fill-opacity=\"1\" /><path clip-path=\"url(#clip340)\" d=\"M50.9921 891.807 L80.6679 891.807 L80.6679 895.743 L50.9921 895.743 L50.9921 891.807 Z\" fill=\"#000000\" fill-rule=\"nonzero\" fill-opacity=\"1\" /><path clip-path=\"url(#clip340)\" d=\"M91.5706 904.701 L99.2095 904.701 L99.2095 878.335 L90.8993 880.002 L90.8993 875.743 L99.1632 874.076 L103.839 874.076 L103.839 904.701 L111.478 904.701 L111.478 908.636 L91.5706 908.636 L91.5706 904.701 Z\" fill=\"#000000\" fill-rule=\"nonzero\" fill-opacity=\"1\" /><path clip-path=\"url(#clip340)\" d=\"M130.922 877.155 Q127.311 877.155 125.482 880.719 Q123.677 884.261 123.677 891.391 Q123.677 898.497 125.482 902.062 Q127.311 905.604 130.922 905.604 Q134.556 905.604 136.362 902.062 Q138.191 898.497 138.191 891.391 Q138.191 884.261 136.362 880.719 Q134.556 877.155 130.922 877.155 M130.922 873.451 Q136.732 873.451 139.788 878.057 Q142.867 882.641 142.867 891.391 Q142.867 900.118 139.788 904.724 Q136.732 909.307 130.922 909.307 Q125.112 909.307 122.033 904.724 Q118.978 900.118 118.978 891.391 Q118.978 882.641 122.033 878.057 Q125.112 873.451 130.922 873.451 Z\" fill=\"#000000\" fill-rule=\"nonzero\" fill-opacity=\"1\" /><path clip-path=\"url(#clip340)\" d=\"M161.084 877.155 Q157.473 877.155 155.644 880.719 Q153.839 884.261 153.839 891.391 Q153.839 898.497 155.644 902.062 Q157.473 905.604 161.084 905.604 Q164.718 905.604 166.524 902.062 Q168.353 898.497 168.353 891.391 Q168.353 884.261 166.524 880.719 Q164.718 877.155 161.084 877.155 M161.084 873.451 Q166.894 873.451 169.95 878.057 Q173.029 882.641 173.029 891.391 Q173.029 900.118 169.95 904.724 Q166.894 909.307 161.084 909.307 Q155.274 909.307 152.195 904.724 Q149.14 900.118 149.14 891.391 Q149.14 882.641 152.195 878.057 Q155.274 873.451 161.084 873.451 Z\" fill=\"#000000\" fill-rule=\"nonzero\" fill-opacity=\"1\" /><path clip-path=\"url(#clip340)\" d=\"M81.154 490.097 L110.83 490.097 L110.83 494.033 L81.154 494.033 L81.154 490.097 Z\" fill=\"#000000\" fill-rule=\"nonzero\" fill-opacity=\"1\" /><path clip-path=\"url(#clip340)\" d=\"M120.969 472.366 L139.325 472.366 L139.325 476.301 L125.251 476.301 L125.251 484.773 Q126.27 484.426 127.288 484.264 Q128.307 484.079 129.325 484.079 Q135.112 484.079 138.492 487.25 Q141.871 490.422 141.871 495.838 Q141.871 501.417 138.399 504.519 Q134.927 507.597 128.607 507.597 Q126.432 507.597 124.163 507.227 Q121.918 506.857 119.51 506.116 L119.51 501.417 Q121.594 502.551 123.816 503.107 Q126.038 503.662 128.515 503.662 Q132.519 503.662 134.857 501.556 Q137.195 499.449 137.195 495.838 Q137.195 492.227 134.857 490.121 Q132.519 488.014 128.515 488.014 Q126.64 488.014 124.765 488.431 Q122.913 488.847 120.969 489.727 L120.969 472.366 Z\" fill=\"#000000\" fill-rule=\"nonzero\" fill-opacity=\"1\" /><path clip-path=\"url(#clip340)\" d=\"M161.084 475.445 Q157.473 475.445 155.644 479.01 Q153.839 482.551 153.839 489.681 Q153.839 496.787 155.644 500.352 Q157.473 503.894 161.084 503.894 Q164.718 503.894 166.524 500.352 Q168.353 496.787 168.353 489.681 Q168.353 482.551 166.524 479.01 Q164.718 475.445 161.084 475.445 M161.084 471.741 Q166.894 471.741 169.95 476.348 Q173.029 480.931 173.029 489.681 Q173.029 498.408 169.95 503.014 Q166.894 507.597 161.084 507.597 Q155.274 507.597 152.195 503.014 Q149.14 498.408 149.14 489.681 Q149.14 480.931 152.195 476.348 Q155.274 471.741 161.084 471.741 Z\" fill=\"#000000\" fill-rule=\"nonzero\" fill-opacity=\"1\" /><path clip-path=\"url(#clip340)\" d=\"M161.084 73.7348 Q157.473 73.7348 155.644 77.2996 Q153.839 80.8412 153.839 87.9708 Q153.839 95.0773 155.644 98.6421 Q157.473 102.184 161.084 102.184 Q164.718 102.184 166.524 98.6421 Q168.353 95.0773 168.353 87.9708 Q168.353 80.8412 166.524 77.2996 Q164.718 73.7348 161.084 73.7348 M161.084 70.0311 Q166.894 70.0311 169.95 74.6376 Q173.029 79.2209 173.029 87.9708 Q173.029 96.6976 169.95 101.304 Q166.894 105.887 161.084 105.887 Q155.274 105.887 152.195 101.304 Q149.14 96.6976 149.14 87.9708 Q149.14 79.2209 152.195 74.6376 Q155.274 70.0311 161.084 70.0311 Z\" fill=\"#000000\" fill-rule=\"nonzero\" fill-opacity=\"1\" /><polyline clip-path=\"url(#clip342)\" style=\"stroke:#009af9; stroke-linecap:round; stroke-linejoin:round; stroke-width:4; stroke-opacity:1; fill:none\" points=\"269.7,1445.72 290.128,1403.84 310.556,1362.63 330.984,1322.07 351.413,1282.16 371.841,1242.91 392.269,1204.32 412.697,1166.38 433.125,1129.1 453.553,1092.48 473.981,1056.51 494.409,1021.19 514.838,986.534 535.266,952.532 555.694,919.185 576.122,886.494 596.55,854.459 616.978,823.08 637.406,792.356 657.834,762.288 678.263,732.876 698.691,704.12 719.119,676.02 739.547,648.575 759.975,621.786 780.403,595.653 800.831,570.176 821.259,545.354 841.688,521.189 862.116,497.679 882.544,474.824 902.972,452.626 923.4,431.084 943.828,410.197 964.256,389.966 984.684,370.391 1005.11,351.471 1025.54,333.207 1045.97,315.6 1066.4,298.648 1086.83,282.351 1107.25,266.711 1127.68,251.726 1148.11,237.397 1168.54,223.724 1188.97,210.707 1209.39,198.345 1229.82,186.639 1250.25,175.589 1270.68,165.195 1291.11,155.457 1311.53,146.374 1331.96,137.947 1352.39,130.176 1372.82,123.061 1393.25,116.601 1413.68,110.798 1434.1,105.65 1454.53,101.158 1474.96,97.3212 1495.39,94.1407 1515.82,91.6159 1536.24,89.7469 1556.67,88.5337 1577.1,87.9763 1597.53,88.0746 1617.96,88.8288 1638.38,90.2387 1658.81,92.3045 1679.24,95.026 1699.67,98.4033 1720.1,102.436 1740.53,107.125 1760.95,112.47 1781.38,118.47 1801.81,125.127 1822.24,132.439 1842.67,140.406 1863.09,149.03 1883.52,158.309 1903.95,168.244 1924.38,178.835 1944.81,190.082 1965.23,201.985 1985.66,214.543 2006.09,227.757 2026.52,241.627 2046.95,256.153 2067.38,271.334 2087.8,287.171 2108.23,303.664 2128.66,320.813 2149.09,338.618 2169.52,357.078 2189.94,376.194 2210.37,395.966 2230.8,416.394 2251.23,437.477 2271.66,459.217 2292.08,481.612 \"/>\n",
       "<path clip-path=\"url(#clip340)\" d=\"M280.486 198.898 L547.289 198.898 L547.289 95.2176 L280.486 95.2176  Z\" fill=\"#ffffff\" fill-rule=\"evenodd\" fill-opacity=\"1\"/>\n",
       "<polyline clip-path=\"url(#clip340)\" style=\"stroke:#000000; stroke-linecap:round; stroke-linejoin:round; stroke-width:4; stroke-opacity:1; fill:none\" points=\"280.486,198.898 547.289,198.898 547.289,95.2176 280.486,95.2176 280.486,198.898 \"/>\n",
       "<polyline clip-path=\"url(#clip340)\" style=\"stroke:#009af9; stroke-linecap:round; stroke-linejoin:round; stroke-width:4; stroke-opacity:1; fill:none\" points=\"304.305,147.058 447.22,147.058 \"/>\n",
       "<path clip-path=\"url(#clip340)\" d=\"M484.882 166.745 Q483.077 171.375 481.364 172.787 Q479.651 174.199 476.78 174.199 L473.378 174.199 L473.378 170.634 L475.878 170.634 Q477.637 170.634 478.609 169.8 Q479.581 168.967 480.762 165.865 L481.526 163.921 L471.04 138.412 L475.554 138.412 L483.655 158.689 L491.757 138.412 L496.271 138.412 L484.882 166.745 Z\" fill=\"#000000\" fill-rule=\"nonzero\" fill-opacity=\"1\" /><path clip-path=\"url(#clip340)\" d=\"M503.563 160.402 L511.201 160.402 L511.201 134.037 L502.891 135.703 L502.891 131.444 L511.155 129.778 L515.831 129.778 L515.831 160.402 L523.47 160.402 L523.47 164.338 L503.563 164.338 L503.563 160.402 Z\" fill=\"#000000\" fill-rule=\"nonzero\" fill-opacity=\"1\" /></svg>\n"
      ]
     },
     "metadata": {},
     "output_type": "display_data"
    }
   ],
   "source": [
    "# GOAL\n",
    "# I'm trying to see if I can approximate a function using the CompEcon package\n",
    "# and use the approximations in a nonlinear solver. \n",
    "\n",
    "################################################################################\n",
    "# Step 1: Create a function and plot it.\n",
    "# A simple function of one variable and one parameter\n",
    "function f(x, p)\n",
    "    return -(x .- p) .^ 2;\n",
    "end\n",
    "\n",
    "x = collect(range(-10, 10, length=100));\n",
    "fx = f(x, 3);\n",
    "Plots.plot(x, fx)"
   ]
  },
  {
   "cell_type": "markdown",
   "metadata": {},
   "source": [
    "Xing's note: Global variables cause performance issues in Julia. You can use a named tuple or struct.\n",
    "\n",
    "Define a named tuple. You can see I also defined the function inside the tuple.\n",
    "\n",
    "I will focus on the case where p being a vector, so we are solving a system of non-linear equations, as is common in economic applications."
   ]
  },
  {
   "cell_type": "code",
   "execution_count": 49,
   "metadata": {},
   "outputs": [
    {
     "data": {
      "text/plain": [
       "create_showcase_model"
      ]
     },
     "metadata": {},
     "output_type": "display_data"
    }
   ],
   "source": [
    "\"\"\"\n",
    "Create an instance of the model, stored as a namedtuple.\n",
    "\n",
    "\"\"\"\n",
    "function create_showcase_model(; xmin = -10.0, #beware of type\n",
    "                                 xmax = 10.0,\n",
    "                                 nx = 100,\n",
    "                                 p = [3.0, 4.0])\n",
    "        x_grid = LinRange(xmin, xmax, nx)\n",
    "        f(x, p) = - (x .- p) .^ 2  \n",
    "        return (; x_grid, f, p, nx)\n",
    "end"
   ]
  },
  {
   "cell_type": "code",
   "execution_count": 50,
   "metadata": {},
   "outputs": [
    {
     "data": {
      "text/plain": [
       "(x_grid = LinRange{Float64}(-10.0, 10.0, 100), f = var\"#f#37\"(), p = [3.0, 4.0], nx = 100)"
      ]
     },
     "metadata": {},
     "output_type": "display_data"
    }
   ],
   "source": [
    "# create the tuple \n",
    "model = create_showcase_model()\n",
    "\n",
    "# want to change some parameter? do\n",
    "# create_showcase_model(p = 4.0)"
   ]
  },
  {
   "cell_type": "markdown",
   "metadata": {},
   "source": [
    "### Step 2: Non-linear solver for zero of the function\n",
    "\n",
    "The key here is for Newton Method we need analytical or numerical first derivative of the function. For functions (or systems) that have an analytical form, you can automatically compute the first derivative by using the ```ForwardDiff``` package. \n",
    "\n",
    "``` \n",
    "    fp = x -> f(x,p) # change f into a one input funcion\n",
    "    autodiff(fp) = x -> ForwardDiff.jacobian(fp, x) # automatic differentiation of f\n",
    "```\n",
    "(Note: For a single output function, simply use ```ForwardDiff.derivative```. Here since I made f multi-variable. I use ```ForwardDiff.jacobian``` instead. )\n",
    "\n",
    "Then I use ```fp``` and ```autodiff(fp)``` to get the Jacobian at our guesses and update it with the standard Newton method rule. "
   ]
  },
  {
   "cell_type": "code",
   "execution_count": 51,
   "metadata": {},
   "outputs": [],
   "source": [
    "# Import the package to perform automatic differentiation (you might need to Pkg.add this)\n",
    "using ForwardDiff"
   ]
  },
  {
   "cell_type": "code",
   "execution_count": 52,
   "metadata": {},
   "outputs": [
    {
     "data": {
      "text/plain": [
       "Newton (generic function with 1 method)"
      ]
     },
     "metadata": {},
     "output_type": "display_data"
    }
   ],
   "source": [
    "function Newton(f;p = model.p, tol = 1e-8, maxiter = 1000)\n",
    "    x0 = zeros(eltype(p), length(p)) #initial guesses at 0.0\n",
    "    x1 = similar(x0)\n",
    "    fp = x -> f(x,p) # change f into a one input funcion\n",
    "    # automatic differentiation of f\n",
    "    autodiff(fp) = x -> ForwardDiff.jacobian(fp, x)\n",
    "    \n",
    "    iter = 0\n",
    "    error = 1.0\n",
    "    while (error > tol && iter < maxiter)\n",
    "        # not the most efficient but clear\n",
    "        J = autodiff(fp)(x0) \n",
    "        x1 = x0 .- J\\fp(x0) #or use a linear solver\n",
    "        error = maximum(abs.(x1 - x0))\n",
    "        iter += 1\n",
    "        x0 .= x1\n",
    "    end\n",
    "\n",
    "    return x1\n",
    "end\n"
   ]
  },
  {
   "cell_type": "code",
   "execution_count": 53,
   "metadata": {},
   "outputs": [
    {
     "data": {
      "text/plain": [
       "2-element Vector{Float64}:\n",
       " 2.9999999944120646\n",
       " 3.9999999925494194"
      ]
     },
     "metadata": {},
     "output_type": "display_data"
    }
   ],
   "source": [
    "Newton(f)"
   ]
  },
  {
   "cell_type": "code",
   "execution_count": 54,
   "metadata": {},
   "outputs": [],
   "source": [
    "using BenchmarkTools"
   ]
  },
  {
   "cell_type": "code",
   "execution_count": 55,
   "metadata": {},
   "outputs": [
    {
     "data": {
      "text/plain": [
       "BenchmarkTools.Trial: 10000 samples with 1 evaluation.\n",
       " Range \u001b[90m(\u001b[39m\u001b[36m\u001b[1mmin\u001b[22m\u001b[39m … \u001b[35mmax\u001b[39m\u001b[90m):  \u001b[39m\u001b[36m\u001b[1m55.667 μs\u001b[22m\u001b[39m … \u001b[35m  4.811 ms\u001b[39m  \u001b[90m┊\u001b[39m GC \u001b[90m(\u001b[39mmin … max\u001b[90m): \u001b[39m0.00% … 97.19%\n",
       " Time  \u001b[90m(\u001b[39m\u001b[34m\u001b[1mmedian\u001b[22m\u001b[39m\u001b[90m):     \u001b[39m\u001b[34m\u001b[1m57.292 μs               \u001b[22m\u001b[39m\u001b[90m┊\u001b[39m GC \u001b[90m(\u001b[39mmedian\u001b[90m):    \u001b[39m0.00%\n",
       " Time  \u001b[90m(\u001b[39m\u001b[32m\u001b[1mmean\u001b[22m\u001b[39m ± \u001b[32mσ\u001b[39m\u001b[90m):   \u001b[39m\u001b[32m\u001b[1m61.743 μs\u001b[22m\u001b[39m ± \u001b[32m132.590 μs\u001b[39m  \u001b[90m┊\u001b[39m GC \u001b[90m(\u001b[39mmean ± σ\u001b[90m):  \u001b[39m6.00% ±  2.76%\n",
       "\n",
       "  \u001b[39m \u001b[39m \u001b[39m▆\u001b[39m▅\u001b[39m▆\u001b[39m█\u001b[34m▇\u001b[39m\u001b[39m▆\u001b[39m \u001b[39m \u001b[39m \u001b[39m \u001b[39m \u001b[39m \u001b[39m \u001b[39m \u001b[39m \u001b[39m \u001b[39m \u001b[39m \u001b[39m \u001b[39m \u001b[39m \u001b[32m \u001b[39m\u001b[39m \u001b[39m \u001b[39m \u001b[39m \u001b[39m \u001b[39m \u001b[39m \u001b[39m \u001b[39m \u001b[39m \u001b[39m \u001b[39m \u001b[39m \u001b[39m \u001b[39m \u001b[39m \u001b[39m \u001b[39m \u001b[39m \u001b[39m \u001b[39m \u001b[39m \u001b[39m \u001b[39m \u001b[39m \u001b[39m \u001b[39m \u001b[39m \u001b[39m \u001b[39m \u001b[39m \u001b[39m \u001b[39m \u001b[39m \u001b[39m \u001b[39m \u001b[39m \u001b[39m \n",
       "  \u001b[39m▂\u001b[39m▆\u001b[39m█\u001b[39m█\u001b[39m█\u001b[39m█\u001b[34m█\u001b[39m\u001b[39m█\u001b[39m█\u001b[39m▆\u001b[39m▃\u001b[39m▃\u001b[39m▃\u001b[39m▂\u001b[39m▃\u001b[39m▂\u001b[39m▂\u001b[39m▂\u001b[39m▂\u001b[39m▂\u001b[39m▂\u001b[39m▂\u001b[39m▂\u001b[32m▁\u001b[39m\u001b[39m▁\u001b[39m▁\u001b[39m▁\u001b[39m▁\u001b[39m▁\u001b[39m▁\u001b[39m▁\u001b[39m▁\u001b[39m▁\u001b[39m▁\u001b[39m▁\u001b[39m▁\u001b[39m▁\u001b[39m▁\u001b[39m▁\u001b[39m▁\u001b[39m▁\u001b[39m▁\u001b[39m▁\u001b[39m▁\u001b[39m▁\u001b[39m▁\u001b[39m▁\u001b[39m▁\u001b[39m▁\u001b[39m▁\u001b[39m▁\u001b[39m▁\u001b[39m▁\u001b[39m▁\u001b[39m▁\u001b[39m▁\u001b[39m▁\u001b[39m▁\u001b[39m▁\u001b[39m▁\u001b[39m \u001b[39m▂\n",
       "  55.7 μs\u001b[90m         Histogram: frequency by time\u001b[39m         71.7 μs \u001b[0m\u001b[1m<\u001b[22m\n",
       "\n",
       " Memory estimate\u001b[90m: \u001b[39m\u001b[33m36.48 KiB\u001b[39m, allocs estimate\u001b[90m: \u001b[39m\u001b[33m671\u001b[39m."
      ]
     },
     "metadata": {},
     "output_type": "display_data"
    }
   ],
   "source": [
    "@benchmark Newton(f)"
   ]
  },
  {
   "cell_type": "markdown",
   "metadata": {},
   "source": [
    "This is an idea of what is behind the nonlinear solvers of Julia. Of course they further optimized the code to make it more efficient. \n",
    "\n",
    "The code you gave me utilized the ```NonlinearSolve``` package, which automatically calculates the analytical derivative of f to compute the root."
   ]
  },
  {
   "cell_type": "code",
   "execution_count": 56,
   "metadata": {},
   "outputs": [],
   "source": [
    "using NonlinearSolve, StaticArrays"
   ]
  },
  {
   "cell_type": "code",
   "execution_count": 57,
   "metadata": {},
   "outputs": [
    {
     "data": {
      "text/plain": [
       "u: 2-element SVector{2, Float64} with indices SOneTo(2):\n",
       " 2.999999999999318\n",
       " 3.9999999999990905"
      ]
     },
     "metadata": {},
     "output_type": "display_data"
    }
   ],
   "source": [
    "x0 = @SVector[0.0, 0.0]\n",
    "prob = NonlinearProblem(model.f, x0, model.p)\n",
    "sol = solve(prob, NewtonRaphson(), reltol=1e-8)"
   ]
  },
  {
   "cell_type": "markdown",
   "metadata": {},
   "source": [
    "Let's look at its performance."
   ]
  },
  {
   "cell_type": "code",
   "execution_count": 58,
   "metadata": {},
   "outputs": [
    {
     "data": {
      "text/plain": [
       "BenchmarkTools.Trial: 10000 samples with 1 evaluation.\n",
       " Range \u001b[90m(\u001b[39m\u001b[36m\u001b[1mmin\u001b[22m\u001b[39m … \u001b[35mmax\u001b[39m\u001b[90m):  \u001b[39m\u001b[36m\u001b[1m27.375 μs\u001b[22m\u001b[39m … \u001b[35m 4.093 ms\u001b[39m  \u001b[90m┊\u001b[39m GC \u001b[90m(\u001b[39mmin … max\u001b[90m): \u001b[39m0.00% … 97.44%\n",
       " Time  \u001b[90m(\u001b[39m\u001b[34m\u001b[1mmedian\u001b[22m\u001b[39m\u001b[90m):     \u001b[39m\u001b[34m\u001b[1m29.250 μs              \u001b[22m\u001b[39m\u001b[90m┊\u001b[39m GC \u001b[90m(\u001b[39mmedian\u001b[90m):    \u001b[39m0.00%\n",
       " Time  \u001b[90m(\u001b[39m\u001b[32m\u001b[1mmean\u001b[22m\u001b[39m ± \u001b[32mσ\u001b[39m\u001b[90m):   \u001b[39m\u001b[32m\u001b[1m32.481 μs\u001b[22m\u001b[39m ± \u001b[32m98.394 μs\u001b[39m  \u001b[90m┊\u001b[39m GC \u001b[90m(\u001b[39mmean ± σ\u001b[90m):  \u001b[39m7.30% ±  2.39%\n",
       "\n",
       "  \u001b[39m \u001b[39m▂\u001b[39m▇\u001b[39m█\u001b[39m▄\u001b[39m▆\u001b[34m▆\u001b[39m\u001b[39m▂\u001b[39m▂\u001b[39m \u001b[39m \u001b[39m \u001b[39m \u001b[39m \u001b[39m \u001b[39m \u001b[32m \u001b[39m\u001b[39m \u001b[39m \u001b[39m \u001b[39m \u001b[39m \u001b[39m \u001b[39m \u001b[39m \u001b[39m \u001b[39m \u001b[39m \u001b[39m \u001b[39m \u001b[39m \u001b[39m \u001b[39m \u001b[39m \u001b[39m \u001b[39m \u001b[39m \u001b[39m \u001b[39m \u001b[39m \u001b[39m \u001b[39m \u001b[39m \u001b[39m \u001b[39m \u001b[39m \u001b[39m \u001b[39m \u001b[39m \u001b[39m \u001b[39m \u001b[39m \u001b[39m \u001b[39m \u001b[39m \u001b[39m \u001b[39m \u001b[39m \u001b[39m \u001b[39m \u001b[39m \n",
       "  \u001b[39m▂\u001b[39m█\u001b[39m█\u001b[39m█\u001b[39m█\u001b[39m█\u001b[34m█\u001b[39m\u001b[39m█\u001b[39m█\u001b[39m▇\u001b[39m▅\u001b[39m▄\u001b[39m▄\u001b[39m▃\u001b[39m▂\u001b[39m▃\u001b[32m▂\u001b[39m\u001b[39m▂\u001b[39m▂\u001b[39m▂\u001b[39m▁\u001b[39m▁\u001b[39m▁\u001b[39m▁\u001b[39m▁\u001b[39m▁\u001b[39m▁\u001b[39m▁\u001b[39m▁\u001b[39m▁\u001b[39m▁\u001b[39m▁\u001b[39m▁\u001b[39m▁\u001b[39m▁\u001b[39m▁\u001b[39m▁\u001b[39m▁\u001b[39m▁\u001b[39m▁\u001b[39m▁\u001b[39m▁\u001b[39m▁\u001b[39m▁\u001b[39m▁\u001b[39m▁\u001b[39m▁\u001b[39m▁\u001b[39m▁\u001b[39m▁\u001b[39m▁\u001b[39m▁\u001b[39m▁\u001b[39m▁\u001b[39m▁\u001b[39m▁\u001b[39m▁\u001b[39m▁\u001b[39m▁\u001b[39m \u001b[39m▂\n",
       "  27.4 μs\u001b[90m         Histogram: frequency by time\u001b[39m          46 μs \u001b[0m\u001b[1m<\u001b[22m\n",
       "\n",
       " Memory estimate\u001b[90m: \u001b[39m\u001b[33m26.86 KiB\u001b[39m, allocs estimate\u001b[90m: \u001b[39m\u001b[33m275\u001b[39m."
      ]
     },
     "metadata": {},
     "output_type": "display_data"
    }
   ],
   "source": [
    "@benchmark solve(prob, NewtonRaphson(), reltol=1e-8)"
   ]
  },
  {
   "cell_type": "markdown",
   "metadata": {},
   "source": [
    "An alternative (which I will show is a better option) is to use the ```NLsolve``` package. The naive implementation of it uses numerical Jacobian by finite differencing."
   ]
  },
  {
   "cell_type": "code",
   "execution_count": 59,
   "metadata": {},
   "outputs": [],
   "source": [
    "using NLsolve"
   ]
  },
  {
   "cell_type": "code",
   "execution_count": 60,
   "metadata": {},
   "outputs": [
    {
     "data": {
      "text/plain": [
       "Results of Nonlinear Solver Algorithm\n",
       " * Algorithm: Trust-region with dogleg and autoscaling\n",
       " * Starting Point: [0.0, 0.0]\n",
       " * Zero: [2.999945851229831, 3.9999278016397692]\n",
       " * Inf-norm of residuals: 0.000000\n",
       " * Iterations: 19\n",
       " * Convergence: true\n",
       "   * |x - x'| < 0.0e+00: false\n",
       "   * |f(x)| < 1.0e-08: true\n",
       " * Function Calls (f): 20\n",
       " * Jacobian Calls (df/dx): 20"
      ]
     },
     "metadata": {},
     "output_type": "display_data"
    }
   ],
   "source": [
    "p = [3.0, 4.0]\n",
    "fp = x -> f(x,p) # change f into a one input funcion\n",
    "# Newton method with numerical Jacobian by finite differencing\n",
    "nlsolve(fp, [0.0, 0.0]) #[0.0, 0.0] is the initial guess"
   ]
  },
  {
   "cell_type": "code",
   "execution_count": 61,
   "metadata": {},
   "outputs": [
    {
     "data": {
      "text/plain": [
       "BenchmarkTools.Trial: 10000 samples with 1 evaluation.\n",
       " Range \u001b[90m(\u001b[39m\u001b[36m\u001b[1mmin\u001b[22m\u001b[39m … \u001b[35mmax\u001b[39m\u001b[90m):  \u001b[39m\u001b[36m\u001b[1m27.417 μs\u001b[22m\u001b[39m … \u001b[35m  4.187 ms\u001b[39m  \u001b[90m┊\u001b[39m GC \u001b[90m(\u001b[39mmin … max\u001b[90m): \u001b[39m0.00% … 97.50%\n",
       " Time  \u001b[90m(\u001b[39m\u001b[34m\u001b[1mmedian\u001b[22m\u001b[39m\u001b[90m):     \u001b[39m\u001b[34m\u001b[1m28.375 μs               \u001b[22m\u001b[39m\u001b[90m┊\u001b[39m GC \u001b[90m(\u001b[39mmedian\u001b[90m):    \u001b[39m0.00%\n",
       " Time  \u001b[90m(\u001b[39m\u001b[32m\u001b[1mmean\u001b[22m\u001b[39m ± \u001b[32mσ\u001b[39m\u001b[90m):   \u001b[39m\u001b[32m\u001b[1m32.343 μs\u001b[22m\u001b[39m ± \u001b[32m102.803 μs\u001b[39m  \u001b[90m┊\u001b[39m GC \u001b[90m(\u001b[39mmean ± σ\u001b[90m):  \u001b[39m8.29% ±  2.59%\n",
       "\n",
       "  \u001b[39m▂\u001b[39m▇\u001b[39m█\u001b[34m▆\u001b[39m\u001b[39m▅\u001b[39m▅\u001b[39m▄\u001b[39m▄\u001b[39m▄\u001b[39m▄\u001b[39m▄\u001b[39m▃\u001b[39m▂\u001b[39m▂\u001b[39m▂\u001b[39m▁\u001b[32m▂\u001b[39m\u001b[39m▂\u001b[39m▁\u001b[39m \u001b[39m▁\u001b[39m \u001b[39m \u001b[39m \u001b[39m \u001b[39m \u001b[39m \u001b[39m \u001b[39m \u001b[39m \u001b[39m \u001b[39m \u001b[39m \u001b[39m \u001b[39m \u001b[39m \u001b[39m \u001b[39m \u001b[39m \u001b[39m \u001b[39m \u001b[39m \u001b[39m \u001b[39m \u001b[39m \u001b[39m \u001b[39m \u001b[39m \u001b[39m \u001b[39m \u001b[39m \u001b[39m \u001b[39m \u001b[39m \u001b[39m \u001b[39m \u001b[39m \u001b[39m \u001b[39m \u001b[39m \u001b[39m \u001b[39m▂\n",
       "  \u001b[39m█\u001b[39m█\u001b[39m█\u001b[34m█\u001b[39m\u001b[39m█\u001b[39m█\u001b[39m█\u001b[39m█\u001b[39m█\u001b[39m█\u001b[39m█\u001b[39m█\u001b[39m█\u001b[39m█\u001b[39m█\u001b[39m█\u001b[32m█\u001b[39m\u001b[39m█\u001b[39m█\u001b[39m█\u001b[39m█\u001b[39m█\u001b[39m█\u001b[39m▇\u001b[39m▇\u001b[39m▇\u001b[39m▇\u001b[39m▇\u001b[39m▇\u001b[39m▆\u001b[39m▆\u001b[39m▅\u001b[39m▆\u001b[39m▄\u001b[39m▆\u001b[39m▅\u001b[39m▅\u001b[39m▆\u001b[39m▇\u001b[39m▆\u001b[39m▅\u001b[39m▆\u001b[39m▅\u001b[39m▅\u001b[39m▅\u001b[39m▄\u001b[39m▅\u001b[39m▅\u001b[39m▆\u001b[39m▄\u001b[39m▄\u001b[39m▄\u001b[39m▆\u001b[39m▅\u001b[39m▅\u001b[39m▅\u001b[39m▅\u001b[39m▄\u001b[39m▄\u001b[39m▄\u001b[39m \u001b[39m█\n",
       "  27.4 μs\u001b[90m       \u001b[39m\u001b[90mHistogram: \u001b[39m\u001b[90m\u001b[1mlog(\u001b[22m\u001b[39m\u001b[90mfrequency\u001b[39m\u001b[90m\u001b[1m)\u001b[22m\u001b[39m\u001b[90m by time\u001b[39m      46.2 μs \u001b[0m\u001b[1m<\u001b[22m\n",
       "\n",
       " Memory estimate\u001b[90m: \u001b[39m\u001b[33m31.03 KiB\u001b[39m, allocs estimate\u001b[90m: \u001b[39m\u001b[33m399\u001b[39m."
      ]
     },
     "metadata": {},
     "output_type": "display_data"
    }
   ],
   "source": [
    "@benchmark nlsolve(fp, [0.0, 0.0]) "
   ]
  },
  {
   "cell_type": "markdown",
   "metadata": {},
   "source": [
    "As you can see, with even with numerical differentiation ```NLsolve``` gets similar performance as the auto differentiation method in ```NonlinearSolve```. \n",
    "\n",
    "How about we also use auto differentiation in ```NLsolve```?"
   ]
  },
  {
   "cell_type": "code",
   "execution_count": 62,
   "metadata": {},
   "outputs": [
    {
     "data": {
      "text/plain": [
       "Results of Nonlinear Solver Algorithm\n",
       " * Algorithm: Trust-region with dogleg and autoscaling\n",
       " * Starting Point: [0.0, 0.0]\n",
       " * Zero: [2.9999458512298305, 3.9999278016397737]\n",
       " * Inf-norm of residuals: 0.000000\n",
       " * Iterations: 19\n",
       " * Convergence: true\n",
       "   * |x - x'| < 0.0e+00: false\n",
       "   * |f(x)| < 1.0e-08: true\n",
       " * Function Calls (f): 20\n",
       " * Jacobian Calls (df/dx): 20"
      ]
     },
     "metadata": {},
     "output_type": "display_data"
    }
   ],
   "source": [
    "nlsolve(fp, [0.0, 0.0], autodiff = :forward)"
   ]
  },
  {
   "cell_type": "code",
   "execution_count": 63,
   "metadata": {},
   "outputs": [
    {
     "data": {
      "text/plain": [
       "BenchmarkTools.Trial: 10000 samples with 1 evaluation.\n",
       " Range \u001b[90m(\u001b[39m\u001b[36m\u001b[1mmin\u001b[22m\u001b[39m … \u001b[35mmax\u001b[39m\u001b[90m):  \u001b[39m\u001b[36m\u001b[1m18.583 μs\u001b[22m\u001b[39m … \u001b[35m 3.982 ms\u001b[39m  \u001b[90m┊\u001b[39m GC \u001b[90m(\u001b[39mmin … max\u001b[90m): \u001b[39m0.00% … 98.42%\n",
       " Time  \u001b[90m(\u001b[39m\u001b[34m\u001b[1mmedian\u001b[22m\u001b[39m\u001b[90m):     \u001b[39m\u001b[34m\u001b[1m19.583 μs              \u001b[22m\u001b[39m\u001b[90m┊\u001b[39m GC \u001b[90m(\u001b[39mmedian\u001b[90m):    \u001b[39m0.00%\n",
       " Time  \u001b[90m(\u001b[39m\u001b[32m\u001b[1mmean\u001b[22m\u001b[39m ± \u001b[32mσ\u001b[39m\u001b[90m):   \u001b[39m\u001b[32m\u001b[1m21.557 μs\u001b[22m\u001b[39m ± \u001b[32m78.343 μs\u001b[39m  \u001b[90m┊\u001b[39m GC \u001b[90m(\u001b[39mmean ± σ\u001b[90m):  \u001b[39m7.20% ±  1.97%\n",
       "\n",
       "  \u001b[39m \u001b[39m▂\u001b[39m▅\u001b[39m▇\u001b[39m█\u001b[39m█\u001b[34m▇\u001b[39m\u001b[39m▆\u001b[39m▅\u001b[39m▅\u001b[39m▄\u001b[39m▄\u001b[39m▄\u001b[39m▃\u001b[39m▃\u001b[39m▂\u001b[39m▂\u001b[32m \u001b[39m\u001b[39m \u001b[39m \u001b[39m \u001b[39m \u001b[39m \u001b[39m \u001b[39m \u001b[39m \u001b[39m \u001b[39m \u001b[39m \u001b[39m \u001b[39m \u001b[39m \u001b[39m \u001b[39m \u001b[39m \u001b[39m \u001b[39m \u001b[39m \u001b[39m \u001b[39m \u001b[39m \u001b[39m \u001b[39m \u001b[39m \u001b[39m \u001b[39m \u001b[39m \u001b[39m \u001b[39m \u001b[39m \u001b[39m \u001b[39m \u001b[39m \u001b[39m \u001b[39m \u001b[39m \u001b[39m \u001b[39m \u001b[39m \u001b[39m \u001b[39m▂\n",
       "  \u001b[39m▇\u001b[39m█\u001b[39m█\u001b[39m█\u001b[39m█\u001b[39m█\u001b[34m█\u001b[39m\u001b[39m█\u001b[39m█\u001b[39m█\u001b[39m█\u001b[39m█\u001b[39m█\u001b[39m█\u001b[39m█\u001b[39m█\u001b[39m█\u001b[32m█\u001b[39m\u001b[39m█\u001b[39m█\u001b[39m█\u001b[39m▇\u001b[39m█\u001b[39m▇\u001b[39m▇\u001b[39m█\u001b[39m▇\u001b[39m▇\u001b[39m▇\u001b[39m█\u001b[39m▇\u001b[39m▆\u001b[39m▆\u001b[39m▆\u001b[39m▆\u001b[39m▆\u001b[39m▅\u001b[39m▇\u001b[39m▆\u001b[39m▃\u001b[39m▆\u001b[39m▅\u001b[39m▃\u001b[39m▆\u001b[39m▅\u001b[39m▅\u001b[39m▅\u001b[39m▄\u001b[39m▁\u001b[39m▅\u001b[39m▆\u001b[39m▄\u001b[39m▅\u001b[39m▄\u001b[39m▅\u001b[39m▄\u001b[39m▅\u001b[39m▃\u001b[39m▅\u001b[39m \u001b[39m█\n",
       "  18.6 μs\u001b[90m      \u001b[39m\u001b[90mHistogram: \u001b[39m\u001b[90m\u001b[1mlog(\u001b[22m\u001b[39m\u001b[90mfrequency\u001b[39m\u001b[90m\u001b[1m)\u001b[22m\u001b[39m\u001b[90m by time\u001b[39m        29 μs \u001b[0m\u001b[1m<\u001b[22m\n",
       "\n",
       " Memory estimate\u001b[90m: \u001b[39m\u001b[33m18.33 KiB\u001b[39m, allocs estimate\u001b[90m: \u001b[39m\u001b[33m219\u001b[39m."
      ]
     },
     "metadata": {},
     "output_type": "display_data"
    }
   ],
   "source": [
    "# since we have analytical f here, we can \n",
    "@benchmark nlsolve(fp, [0.0, 0.0], autodiff = :forward)"
   ]
  },
  {
   "cell_type": "markdown",
   "metadata": {},
   "source": [
    "Note that auto-differentiation provides better performance (more than 30% here). \n",
    "\n",
    "If you like algebra, you can also manually inputting the derivatives:"
   ]
  },
  {
   "cell_type": "code",
   "execution_count": 64,
   "metadata": {},
   "outputs": [
    {
     "data": {
      "text/plain": [
       "#46 (generic function with 1 method)"
      ]
     },
     "metadata": {},
     "output_type": "display_data"
    }
   ],
   "source": [
    "fprime(x, p) =  -2.0 * x .+ 2.0 .* p # analytical derivative\n",
    "p = [3.0, 4.0]\n",
    "fprime_p = x -> Diagonal(fprime(x, p)) #to create correct Jacobian"
   ]
  },
  {
   "cell_type": "code",
   "execution_count": 65,
   "metadata": {},
   "outputs": [
    {
     "data": {
      "text/plain": [
       "Results of Nonlinear Solver Algorithm\n",
       " * Algorithm: Trust-region with dogleg and autoscaling\n",
       " * Starting Point: [0.0, 0.0]\n",
       " * Zero: [2.9999458512298305, 3.9999278016397737]\n",
       " * Inf-norm of residuals: 0.000000\n",
       " * Iterations: 19\n",
       " * Convergence: true\n",
       "   * |x - x'| < 0.0e+00: false\n",
       "   * |f(x)| < 1.0e-08: true\n",
       " * Function Calls (f): 20\n",
       " * Jacobian Calls (df/dx): 20"
      ]
     },
     "metadata": {},
     "output_type": "display_data"
    }
   ],
   "source": [
    "nlsolve(fp, fprime_p, [0.0, 0.0])"
   ]
  },
  {
   "cell_type": "code",
   "execution_count": 66,
   "metadata": {},
   "outputs": [
    {
     "data": {
      "text/plain": [
       "BenchmarkTools.Trial: 10000 samples with 1 evaluation.\n",
       " Range \u001b[90m(\u001b[39m\u001b[36m\u001b[1mmin\u001b[22m\u001b[39m … \u001b[35mmax\u001b[39m\u001b[90m):  \u001b[39m\u001b[36m\u001b[1m18.542 μs\u001b[22m\u001b[39m … \u001b[35m 3.989 ms\u001b[39m  \u001b[90m┊\u001b[39m GC \u001b[90m(\u001b[39mmin … max\u001b[90m): \u001b[39m0.00% … 98.33%\n",
       " Time  \u001b[90m(\u001b[39m\u001b[34m\u001b[1mmedian\u001b[22m\u001b[39m\u001b[90m):     \u001b[39m\u001b[34m\u001b[1m19.167 μs              \u001b[22m\u001b[39m\u001b[90m┊\u001b[39m GC \u001b[90m(\u001b[39mmedian\u001b[90m):    \u001b[39m0.00%\n",
       " Time  \u001b[90m(\u001b[39m\u001b[32m\u001b[1mmean\u001b[22m\u001b[39m ± \u001b[32mσ\u001b[39m\u001b[90m):   \u001b[39m\u001b[32m\u001b[1m20.747 μs\u001b[22m\u001b[39m ± \u001b[32m67.761 μs\u001b[39m  \u001b[90m┊\u001b[39m GC \u001b[90m(\u001b[39mmean ± σ\u001b[90m):  \u001b[39m5.59% ±  1.70%\n",
       "\n",
       "  \u001b[39m \u001b[39m \u001b[39m \u001b[39m \u001b[39m█\u001b[39m▃\u001b[34m▃\u001b[39m\u001b[39m \u001b[39m \u001b[39m \u001b[39m \u001b[39m \u001b[39m \u001b[39m \u001b[39m \u001b[39m \u001b[39m \u001b[39m \u001b[39m \u001b[39m \u001b[39m \u001b[32m \u001b[39m\u001b[39m \u001b[39m \u001b[39m \u001b[39m \u001b[39m \u001b[39m \u001b[39m \u001b[39m \u001b[39m \u001b[39m \u001b[39m \u001b[39m \u001b[39m \u001b[39m \u001b[39m \u001b[39m \u001b[39m \u001b[39m \u001b[39m \u001b[39m \u001b[39m \u001b[39m \u001b[39m \u001b[39m \u001b[39m \u001b[39m \u001b[39m \u001b[39m \u001b[39m \u001b[39m \u001b[39m \u001b[39m \u001b[39m \u001b[39m \u001b[39m \u001b[39m \u001b[39m \u001b[39m \u001b[39m \n",
       "  \u001b[39m▂\u001b[39m▃\u001b[39m▇\u001b[39m█\u001b[39m█\u001b[39m█\u001b[34m█\u001b[39m\u001b[39m▆\u001b[39m▅\u001b[39m▃\u001b[39m▃\u001b[39m▃\u001b[39m▄\u001b[39m▃\u001b[39m▅\u001b[39m▄\u001b[39m▄\u001b[39m▃\u001b[39m▄\u001b[39m▃\u001b[39m▃\u001b[32m▃\u001b[39m\u001b[39m▂\u001b[39m▂\u001b[39m▂\u001b[39m▂\u001b[39m▂\u001b[39m▂\u001b[39m▂\u001b[39m▂\u001b[39m▂\u001b[39m▂\u001b[39m▂\u001b[39m▂\u001b[39m▂\u001b[39m▂\u001b[39m▂\u001b[39m▂\u001b[39m▂\u001b[39m▂\u001b[39m▂\u001b[39m▂\u001b[39m▂\u001b[39m▂\u001b[39m▂\u001b[39m▂\u001b[39m▂\u001b[39m▂\u001b[39m▂\u001b[39m▂\u001b[39m▂\u001b[39m▁\u001b[39m▂\u001b[39m▂\u001b[39m▂\u001b[39m▂\u001b[39m▂\u001b[39m▂\u001b[39m▂\u001b[39m \u001b[39m▃\n",
       "  18.5 μs\u001b[90m         Histogram: frequency by time\u001b[39m        24.7 μs \u001b[0m\u001b[1m<\u001b[22m\n",
       "\n",
       " Memory estimate\u001b[90m: \u001b[39m\u001b[33m17.09 KiB\u001b[39m, allocs estimate\u001b[90m: \u001b[39m\u001b[33m235\u001b[39m."
      ]
     },
     "metadata": {},
     "output_type": "display_data"
    }
   ],
   "source": [
    "@benchmark nlsolve(fp, fprime_p, [0.0, 0.0])"
   ]
  },
  {
   "cell_type": "markdown",
   "metadata": {},
   "source": [
    "Surprisingly (at least to me), manually inputting the Jacobian is not faster than automatic differentiation. Maybe this will not be the case when the non-linear system becomes complicated but in such cases I won't want to compute the analytical Jacobian anyways.\n",
    "\n",
    "Caveat: use ```NLsolve``` over ```Nonlinearsolve```  and use auto-differentiation whenever possible."
   ]
  },
  {
   "cell_type": "markdown",
   "metadata": {},
   "source": [
    "### Step 3: do linear interpolations\n",
    "\n",
    "I will use the ```Interpolations``` package. The syntax is in a more Julia styled fashion."
   ]
  },
  {
   "cell_type": "code",
   "execution_count": 67,
   "metadata": {},
   "outputs": [],
   "source": [
    "using Interpolations"
   ]
  },
  {
   "cell_type": "code",
   "execution_count": 68,
   "metadata": {},
   "outputs": [
    {
     "data": {
      "text/plain": [
       "lin_interp (generic function with 1 method)"
      ]
     },
     "metadata": {},
     "output_type": "display_data"
    }
   ],
   "source": [
    "function lin_interp(x_grid, f, p; extrapolation = false)\n",
    "    fx_value = reduce(hcat, f.(x_grid, Ref(p)))'#broadcast to get function value of every x, then turn it into the correct matrix form\n",
    "    # linear interpolation\n",
    "    itp = interpolate(fx_value, BSpline(Linear()))\n",
    "    if extrapolation\n",
    "        itp = extrapolate(itp, Reflect()) \n",
    "    end\n",
    "    \n",
    "    # quadratic interpolation: BSpline(Quadratic(Reflect(OnCell()))))\n",
    "    # cubic interpolation: BSpline(Cubic(Line(OnGrid()))))\n",
    "    \n",
    "    return scale(itp, x_grid, 1:2) # linear interpolate\n",
    "end"
   ]
  },
  {
   "cell_type": "markdown",
   "metadata": {},
   "source": [
    "Note: ```scale``` is highly performant but only works with evenly spaced grids. If you want to deal with uneven grids, check [documentation](https://juliamath.github.io/Interpolations.jl/stable/control/#Scaled-BSplines).\n",
    "\n",
    "To do extrapolations, just use `extrapolate(itp, Flat())`. \n",
    "\n",
    "Another option is to use this one line code ```linear_interpolation(x_grid, fx,extrapolation_bc=Line()) ```. This is very general as you can put arbitrary grids. It will return results for linear interpolations and extrapolations at the same time, but is less efficient."
   ]
  },
  {
   "cell_type": "code",
   "execution_count": 69,
   "metadata": {},
   "outputs": [
    {
     "data": {
      "text/plain": [
       "#49 (generic function with 1 method)"
      ]
     },
     "metadata": {},
     "output_type": "display_data"
    }
   ],
   "source": [
    "itp = lin_interp(model.x_grid, model.f, model.p)\n",
    "# wrap it into a function of x \n",
    "itp_func = x -> diag(itp(x, 1:2)')\n",
    "# need to do this to let Julia interpret it as a two output function correctly\n",
    "# I know it is not so intuitive here. With non-linear systems we don't need to do this"
   ]
  },
  {
   "cell_type": "markdown",
   "metadata": {},
   "source": [
    "### Step 4: Use the interpolated function to find the zero. "
   ]
  },
  {
   "cell_type": "code",
   "execution_count": 70,
   "metadata": {},
   "outputs": [
    {
     "data": {
      "text/plain": [
       "Results of Nonlinear Solver Algorithm\n",
       " * Algorithm: Trust-region with dogleg and autoscaling\n",
       " * Starting Point: [0.0, 0.0]\n",
       " * Zero: [2.9292982449175766, 3.9421841600676806]\n",
       " * Inf-norm of residuals: 0.005000\n",
       " * Iterations: 1000\n",
       " * Convergence: false\n",
       "   * |x - x'| < 0.0e+00: false\n",
       "   * |f(x)| < 1.0e-08: false\n",
       " * Function Calls (f): 69\n",
       " * Jacobian Calls (df/dx): 17"
      ]
     },
     "metadata": {},
     "output_type": "display_data"
    }
   ],
   "source": [
    "nlsolve(itp_func, [0.0, 0.0])"
   ]
  },
  {
   "cell_type": "markdown",
   "metadata": {},
   "source": [
    "It got close but failed to converge! How come?\n",
    "\n",
    "Well notice this particular function's root is right at its global max. That means a linear interpolation around where the true value is can get inaccurate. \n",
    "\n",
    "A quadratic (or cubic) interpolation will work. Again the documentation is [here](https://juliamath.github.io/Interpolations.jl/stable/control/)."
   ]
  },
  {
   "cell_type": "code",
   "execution_count": 71,
   "metadata": {},
   "outputs": [
    {
     "data": {
      "text/plain": [
       "spline_interp (generic function with 1 method)"
      ]
     },
     "metadata": {},
     "output_type": "display_data"
    }
   ],
   "source": [
    "function spline_interp(x_grid, f, p)\n",
    "    fx_value = reduce(hcat, f.(x_grid, Ref(p)))' #broadcast to get function value of every x, then turn it into the correct matrix form\n",
    "    itp = interpolate(fx_value, BSpline(Quadratic(Natural(OnCell()))))\n",
    "    return scale(itp, x_grid, 1:length(p)) # get all p outputs\n",
    "end\n"
   ]
  },
  {
   "cell_type": "code",
   "execution_count": 72,
   "metadata": {},
   "outputs": [
    {
     "data": {
      "text/plain": [
       "#51 (generic function with 1 method)"
      ]
     },
     "metadata": {},
     "output_type": "display_data"
    }
   ],
   "source": [
    "itp_spline = spline_interp(model.x_grid, model.f, model.p)\n",
    "# wrap it into a function of x \n",
    "itp_func_spline = x -> diag(itp_spline(x, 1:2)')"
   ]
  },
  {
   "cell_type": "code",
   "execution_count": 73,
   "metadata": {},
   "outputs": [
    {
     "data": {
      "text/plain": [
       "Results of Nonlinear Solver Algorithm\n",
       " * Algorithm: Trust-region with dogleg and autoscaling\n",
       " * Starting Point: [0.0, 0.0]\n",
       " * Zero: [2.999945851228844, 3.999927801639262]\n",
       " * Inf-norm of residuals: 0.000000\n",
       " * Iterations: 19\n",
       " * Convergence: true\n",
       "   * |x - x'| < 0.0e+00: false\n",
       "   * |f(x)| < 1.0e-08: true\n",
       " * Function Calls (f): 20\n",
       " * Jacobian Calls (df/dx): 20"
      ]
     },
     "metadata": {},
     "output_type": "display_data"
    }
   ],
   "source": [
    "nlsolve(itp_func_spline, [0.0, 0.0])"
   ]
  },
  {
   "cell_type": "markdown",
   "metadata": {},
   "source": [
    "Nice, it converged. The accuracy is still not as good again due to the feature that root coincides with local max.\n",
    "\n",
    "Let's look at the time of it."
   ]
  },
  {
   "cell_type": "code",
   "execution_count": 74,
   "metadata": {},
   "outputs": [
    {
     "data": {
      "text/plain": [
       "BenchmarkTools.Trial: 10000 samples with 1 evaluation.\n",
       " Range \u001b[90m(\u001b[39m\u001b[36m\u001b[1mmin\u001b[22m\u001b[39m … \u001b[35mmax\u001b[39m\u001b[90m):  \u001b[39m\u001b[36m\u001b[1m46.333 μs\u001b[22m\u001b[39m … \u001b[35m  4.464 ms\u001b[39m  \u001b[90m┊\u001b[39m GC \u001b[90m(\u001b[39mmin … max\u001b[90m): \u001b[39m0.00% … 97.37%\n",
       " Time  \u001b[90m(\u001b[39m\u001b[34m\u001b[1mmedian\u001b[22m\u001b[39m\u001b[90m):     \u001b[39m\u001b[34m\u001b[1m48.208 μs               \u001b[22m\u001b[39m\u001b[90m┊\u001b[39m GC \u001b[90m(\u001b[39mmedian\u001b[90m):    \u001b[39m0.00%\n",
       " Time  \u001b[90m(\u001b[39m\u001b[32m\u001b[1mmean\u001b[22m\u001b[39m ± \u001b[32mσ\u001b[39m\u001b[90m):   \u001b[39m\u001b[32m\u001b[1m52.173 μs\u001b[22m\u001b[39m ± \u001b[32m111.223 μs\u001b[39m  \u001b[90m┊\u001b[39m GC \u001b[90m(\u001b[39mmean ± σ\u001b[90m):  \u001b[39m5.57% ±  2.59%\n",
       "\n",
       "  \u001b[39m \u001b[39m \u001b[39m▅\u001b[39m▇\u001b[39m▆\u001b[39m█\u001b[34m▇\u001b[39m\u001b[39m▂\u001b[39m \u001b[39m \u001b[39m \u001b[39m \u001b[39m \u001b[39m \u001b[39m \u001b[39m \u001b[39m \u001b[39m \u001b[39m \u001b[39m \u001b[32m \u001b[39m\u001b[39m \u001b[39m \u001b[39m \u001b[39m \u001b[39m \u001b[39m \u001b[39m \u001b[39m \u001b[39m \u001b[39m \u001b[39m \u001b[39m \u001b[39m \u001b[39m \u001b[39m \u001b[39m \u001b[39m \u001b[39m \u001b[39m \u001b[39m \u001b[39m \u001b[39m \u001b[39m \u001b[39m \u001b[39m \u001b[39m \u001b[39m \u001b[39m \u001b[39m \u001b[39m \u001b[39m \u001b[39m \u001b[39m \u001b[39m \u001b[39m \u001b[39m \u001b[39m \u001b[39m \u001b[39m \u001b[39m \u001b[39m \n",
       "  \u001b[39m▂\u001b[39m▆\u001b[39m█\u001b[39m█\u001b[39m█\u001b[39m█\u001b[34m█\u001b[39m\u001b[39m█\u001b[39m▇\u001b[39m▅\u001b[39m▅\u001b[39m▄\u001b[39m▄\u001b[39m▃\u001b[39m▃\u001b[39m▃\u001b[39m▃\u001b[39m▃\u001b[39m▃\u001b[39m▂\u001b[32m▂\u001b[39m\u001b[39m▂\u001b[39m▂\u001b[39m▂\u001b[39m▂\u001b[39m▂\u001b[39m▁\u001b[39m▁\u001b[39m▁\u001b[39m▁\u001b[39m▁\u001b[39m▁\u001b[39m▁\u001b[39m▁\u001b[39m▁\u001b[39m▁\u001b[39m▁\u001b[39m▁\u001b[39m▁\u001b[39m▁\u001b[39m▁\u001b[39m▁\u001b[39m▁\u001b[39m▁\u001b[39m▁\u001b[39m▁\u001b[39m▁\u001b[39m▁\u001b[39m▁\u001b[39m▁\u001b[39m▁\u001b[39m▁\u001b[39m▁\u001b[39m▁\u001b[39m▁\u001b[39m▁\u001b[39m▁\u001b[39m▁\u001b[39m▁\u001b[39m▁\u001b[39m \u001b[39m▂\n",
       "  46.3 μs\u001b[90m         Histogram: frequency by time\u001b[39m         64.1 μs \u001b[0m\u001b[1m<\u001b[22m\n",
       "\n",
       " Memory estimate\u001b[90m: \u001b[39m\u001b[33m34.75 KiB\u001b[39m, allocs estimate\u001b[90m: \u001b[39m\u001b[33m518\u001b[39m."
      ]
     },
     "metadata": {},
     "output_type": "display_data"
    }
   ],
   "source": [
    "@benchmark nlsolve(itp_func_spline, [0.0, 0.0])"
   ]
  },
  {
   "cell_type": "markdown",
   "metadata": {},
   "source": [
    "Actually not that bad compared to linear interpolation.\n",
    "\n",
    "Just to show that linear interpolation works properly, consider another function. I will also show how you can get its fixed point."
   ]
  },
  {
   "cell_type": "code",
   "execution_count": 75,
   "metadata": {},
   "outputs": [],
   "source": [
    "g(x, p) = exp.(-x) .- p\n",
    "p = [3.0, 4.0];"
   ]
  },
  {
   "cell_type": "code",
   "execution_count": 93,
   "metadata": {},
   "outputs": [
    {
     "data": {
      "image/png": "[encoded data removed]",
      "image/svg+xml": [
       "<?xml version=\"1.0\" encoding=\"utf-8\"?>\n",
       "<svg xmlns=\"http://www.w3.org/2000/svg\" xmlns:xlink=\"http://www.w3.org/1999/xlink\" width=\"600\" height=\"400\" viewBox=\"0 0 2400 1600\">\n",
       "<defs>\n",
       "  <clipPath id=\"clip280\">\n",
       "    <rect x=\"0\" y=\"0\" width=\"2400\" height=\"1600\"/>\n",
       "  </clipPath>\n",
       "</defs>\n",
       "<path clip-path=\"url(#clip280)\" d=\"M0 1600 L2400 1600 L2400 0 L0 0  Z\" fill=\"#ffffff\" fill-rule=\"evenodd\" fill-opacity=\"1\"/>\n",
       "<defs>\n",
       "  <clipPath id=\"clip281\">\n",
       "    <rect x=\"480\" y=\"0\" width=\"1681\" height=\"1600\"/>\n",
       "  </clipPath>\n",
       "</defs>\n",
       "<path clip-path=\"url(#clip280)\" d=\"M148.057 1486.45 L2352.76 1486.45 L2352.76 47.2441 L148.057 47.2441  Z\" fill=\"#ffffff\" fill-rule=\"evenodd\" fill-opacity=\"1\"/>\n",
       "<defs>\n",
       "  <clipPath id=\"clip282\">\n",
       "    <rect x=\"148\" y=\"47\" width=\"2206\" height=\"1440\"/>\n",
       "  </clipPath>\n",
       "</defs>\n",
       "<polyline clip-path=\"url(#clip282)\" style=\"stroke:#000000; stroke-linecap:round; stroke-linejoin:round; stroke-width:2; stroke-opacity:0.1; fill:none\" points=\"210.454,1486.45 210.454,47.2441 \"/>\n",
       "<polyline clip-path=\"url(#clip282)\" style=\"stroke:#000000; stroke-linecap:round; stroke-linejoin:round; stroke-width:2; stroke-opacity:0.1; fill:none\" points=\"557.105,1486.45 557.105,47.2441 \"/>\n",
       "<polyline clip-path=\"url(#clip282)\" style=\"stroke:#000000; stroke-linecap:round; stroke-linejoin:round; stroke-width:2; stroke-opacity:0.1; fill:none\" points=\"903.755,1486.45 903.755,47.2441 \"/>\n",
       "<polyline clip-path=\"url(#clip282)\" style=\"stroke:#000000; stroke-linecap:round; stroke-linejoin:round; stroke-width:2; stroke-opacity:0.1; fill:none\" points=\"1250.41,1486.45 1250.41,47.2441 \"/>\n",
       "<polyline clip-path=\"url(#clip282)\" style=\"stroke:#000000; stroke-linecap:round; stroke-linejoin:round; stroke-width:2; stroke-opacity:0.1; fill:none\" points=\"1597.06,1486.45 1597.06,47.2441 \"/>\n",
       "<polyline clip-path=\"url(#clip282)\" style=\"stroke:#000000; stroke-linecap:round; stroke-linejoin:round; stroke-width:2; stroke-opacity:0.1; fill:none\" points=\"1943.71,1486.45 1943.71,47.2441 \"/>\n",
       "<polyline clip-path=\"url(#clip282)\" style=\"stroke:#000000; stroke-linecap:round; stroke-linejoin:round; stroke-width:2; stroke-opacity:0.1; fill:none\" points=\"2290.36,1486.45 2290.36,47.2441 \"/>\n",
       "<polyline clip-path=\"url(#clip280)\" style=\"stroke:#000000; stroke-linecap:round; stroke-linejoin:round; stroke-width:4; stroke-opacity:1; fill:none\" points=\"148.057,1486.45 2352.76,1486.45 \"/>\n",
       "<polyline clip-path=\"url(#clip280)\" style=\"stroke:#000000; stroke-linecap:round; stroke-linejoin:round; stroke-width:4; stroke-opacity:1; fill:none\" points=\"210.454,1486.45 210.454,1467.55 \"/>\n",
       "<polyline clip-path=\"url(#clip280)\" style=\"stroke:#000000; stroke-linecap:round; stroke-linejoin:round; stroke-width:4; stroke-opacity:1; fill:none\" points=\"557.105,1486.45 557.105,1467.55 \"/>\n",
       "<polyline clip-path=\"url(#clip280)\" style=\"stroke:#000000; stroke-linecap:round; stroke-linejoin:round; stroke-width:4; stroke-opacity:1; fill:none\" points=\"903.755,1486.45 903.755,1467.55 \"/>\n",
       "<polyline clip-path=\"url(#clip280)\" style=\"stroke:#000000; stroke-linecap:round; stroke-linejoin:round; stroke-width:4; stroke-opacity:1; fill:none\" points=\"1250.41,1486.45 1250.41,1467.55 \"/>\n",
       "<polyline clip-path=\"url(#clip280)\" style=\"stroke:#000000; stroke-linecap:round; stroke-linejoin:round; stroke-width:4; stroke-opacity:1; fill:none\" points=\"1597.06,1486.45 1597.06,1467.55 \"/>\n",
       "<polyline clip-path=\"url(#clip280)\" style=\"stroke:#000000; stroke-linecap:round; stroke-linejoin:round; stroke-width:4; stroke-opacity:1; fill:none\" points=\"1943.71,1486.45 1943.71,1467.55 \"/>\n",
       "<polyline clip-path=\"url(#clip280)\" style=\"stroke:#000000; stroke-linecap:round; stroke-linejoin:round; stroke-width:4; stroke-opacity:1; fill:none\" points=\"2290.36,1486.45 2290.36,1467.55 \"/>\n",
       "<path clip-path=\"url(#clip280)\" d=\"M157.48 1532.02 L187.155 1532.02 L187.155 1535.95 L157.48 1535.95 L157.48 1532.02 Z\" fill=\"#000000\" fill-rule=\"nonzero\" fill-opacity=\"1\" /><path clip-path=\"url(#clip280)\" d=\"M198.058 1544.91 L205.697 1544.91 L205.697 1518.55 L197.387 1520.21 L197.387 1515.95 L205.651 1514.29 L210.326 1514.29 L210.326 1544.91 L217.965 1544.91 L217.965 1548.85 L198.058 1548.85 L198.058 1544.91 Z\" fill=\"#000000\" fill-rule=\"nonzero\" fill-opacity=\"1\" /><path clip-path=\"url(#clip280)\" d=\"M227.41 1542.97 L232.294 1542.97 L232.294 1548.85 L227.41 1548.85 L227.41 1542.97 Z\" fill=\"#000000\" fill-rule=\"nonzero\" fill-opacity=\"1\" /><path clip-path=\"url(#clip280)\" d=\"M242.525 1514.29 L260.882 1514.29 L260.882 1518.22 L246.808 1518.22 L246.808 1526.7 Q247.826 1526.35 248.845 1526.19 Q249.863 1526 250.882 1526 Q256.669 1526 260.048 1529.17 Q263.428 1532.34 263.428 1537.76 Q263.428 1543.34 259.956 1546.44 Q256.484 1549.52 250.164 1549.52 Q247.988 1549.52 245.72 1549.15 Q243.474 1548.78 241.067 1548.04 L241.067 1543.34 Q243.15 1544.47 245.373 1545.03 Q247.595 1545.58 250.072 1545.58 Q254.076 1545.58 256.414 1543.48 Q258.752 1541.37 258.752 1537.76 Q258.752 1534.15 256.414 1532.04 Q254.076 1529.94 250.072 1529.94 Q248.197 1529.94 246.322 1530.35 Q244.47 1530.77 242.525 1531.65 L242.525 1514.29 Z\" fill=\"#000000\" fill-rule=\"nonzero\" fill-opacity=\"1\" /><path clip-path=\"url(#clip280)\" d=\"M503.633 1532.02 L533.308 1532.02 L533.308 1535.95 L503.633 1535.95 L503.633 1532.02 Z\" fill=\"#000000\" fill-rule=\"nonzero\" fill-opacity=\"1\" /><path clip-path=\"url(#clip280)\" d=\"M544.211 1544.91 L551.85 1544.91 L551.85 1518.55 L543.54 1520.21 L543.54 1515.95 L551.804 1514.29 L556.48 1514.29 L556.48 1544.91 L564.118 1544.91 L564.118 1548.85 L544.211 1548.85 L544.211 1544.91 Z\" fill=\"#000000\" fill-rule=\"nonzero\" fill-opacity=\"1\" /><path clip-path=\"url(#clip280)\" d=\"M573.563 1542.97 L578.447 1542.97 L578.447 1548.85 L573.563 1548.85 L573.563 1542.97 Z\" fill=\"#000000\" fill-rule=\"nonzero\" fill-opacity=\"1\" /><path clip-path=\"url(#clip280)\" d=\"M598.632 1517.37 Q595.021 1517.37 593.192 1520.93 Q591.387 1524.47 591.387 1531.6 Q591.387 1538.71 593.192 1542.27 Q595.021 1545.82 598.632 1545.82 Q602.266 1545.82 604.072 1542.27 Q605.901 1538.71 605.901 1531.6 Q605.901 1524.47 604.072 1520.93 Q602.266 1517.37 598.632 1517.37 M598.632 1513.66 Q604.442 1513.66 607.498 1518.27 Q610.577 1522.85 610.577 1531.6 Q610.577 1540.33 607.498 1544.94 Q604.442 1549.52 598.632 1549.52 Q592.822 1549.52 589.743 1544.94 Q586.688 1540.33 586.688 1531.6 Q586.688 1522.85 589.743 1518.27 Q592.822 1513.66 598.632 1513.66 Z\" fill=\"#000000\" fill-rule=\"nonzero\" fill-opacity=\"1\" /><path clip-path=\"url(#clip280)\" d=\"M850.781 1532.02 L880.457 1532.02 L880.457 1535.95 L850.781 1535.95 L850.781 1532.02 Z\" fill=\"#000000\" fill-rule=\"nonzero\" fill-opacity=\"1\" /><path clip-path=\"url(#clip280)\" d=\"M900.549 1517.37 Q896.938 1517.37 895.11 1520.93 Q893.304 1524.47 893.304 1531.6 Q893.304 1538.71 895.11 1542.27 Q896.938 1545.82 900.549 1545.82 Q904.184 1545.82 905.989 1542.27 Q907.818 1538.71 907.818 1531.6 Q907.818 1524.47 905.989 1520.93 Q904.184 1517.37 900.549 1517.37 M900.549 1513.66 Q906.36 1513.66 909.415 1518.27 Q912.494 1522.85 912.494 1531.6 Q912.494 1540.33 909.415 1544.94 Q906.36 1549.52 900.549 1549.52 Q894.739 1549.52 891.661 1544.94 Q888.605 1540.33 888.605 1531.6 Q888.605 1522.85 891.661 1518.27 Q894.739 1513.66 900.549 1513.66 Z\" fill=\"#000000\" fill-rule=\"nonzero\" fill-opacity=\"1\" /><path clip-path=\"url(#clip280)\" d=\"M920.711 1542.97 L925.596 1542.97 L925.596 1548.85 L920.711 1548.85 L920.711 1542.97 Z\" fill=\"#000000\" fill-rule=\"nonzero\" fill-opacity=\"1\" /><path clip-path=\"url(#clip280)\" d=\"M935.827 1514.29 L954.183 1514.29 L954.183 1518.22 L940.109 1518.22 L940.109 1526.7 Q941.128 1526.35 942.146 1526.19 Q943.165 1526 944.183 1526 Q949.97 1526 953.35 1529.17 Q956.73 1532.34 956.73 1537.76 Q956.73 1543.34 953.257 1546.44 Q949.785 1549.52 943.466 1549.52 Q941.29 1549.52 939.021 1549.15 Q936.776 1548.78 934.369 1548.04 L934.369 1543.34 Q936.452 1544.47 938.674 1545.03 Q940.896 1545.58 943.373 1545.58 Q947.378 1545.58 949.716 1543.48 Q952.054 1541.37 952.054 1537.76 Q952.054 1534.15 949.716 1532.04 Q947.378 1529.94 943.373 1529.94 Q941.498 1529.94 939.623 1530.35 Q937.771 1530.77 935.827 1531.65 L935.827 1514.29 Z\" fill=\"#000000\" fill-rule=\"nonzero\" fill-opacity=\"1\" /><path clip-path=\"url(#clip280)\" d=\"M1227.79 1517.37 Q1224.18 1517.37 1222.35 1520.93 Q1220.55 1524.47 1220.55 1531.6 Q1220.55 1538.71 1222.35 1542.27 Q1224.18 1545.82 1227.79 1545.82 Q1231.42 1545.82 1233.23 1542.27 Q1235.06 1538.71 1235.06 1531.6 Q1235.06 1524.47 1233.23 1520.93 Q1231.42 1517.37 1227.79 1517.37 M1227.79 1513.66 Q1233.6 1513.66 1236.66 1518.27 Q1239.74 1522.85 1239.74 1531.6 Q1239.74 1540.33 1236.66 1544.94 Q1233.6 1549.52 1227.79 1549.52 Q1221.98 1549.52 1218.9 1544.94 Q1215.85 1540.33 1215.85 1531.6 Q1215.85 1522.85 1218.9 1518.27 Q1221.98 1513.66 1227.79 1513.66 Z\" fill=\"#000000\" fill-rule=\"nonzero\" fill-opacity=\"1\" /><path clip-path=\"url(#clip280)\" d=\"M1247.95 1542.97 L1252.84 1542.97 L1252.84 1548.85 L1247.95 1548.85 L1247.95 1542.97 Z\" fill=\"#000000\" fill-rule=\"nonzero\" fill-opacity=\"1\" /><path clip-path=\"url(#clip280)\" d=\"M1273.02 1517.37 Q1269.41 1517.37 1267.58 1520.93 Q1265.78 1524.47 1265.78 1531.6 Q1265.78 1538.71 1267.58 1542.27 Q1269.41 1545.82 1273.02 1545.82 Q1276.66 1545.82 1278.46 1542.27 Q1280.29 1538.71 1280.29 1531.6 Q1280.29 1524.47 1278.46 1520.93 Q1276.66 1517.37 1273.02 1517.37 M1273.02 1513.66 Q1278.83 1513.66 1281.89 1518.27 Q1284.97 1522.85 1284.97 1531.6 Q1284.97 1540.33 1281.89 1544.94 Q1278.83 1549.52 1273.02 1549.52 Q1267.21 1549.52 1264.13 1544.94 Q1261.08 1540.33 1261.08 1531.6 Q1261.08 1522.85 1264.13 1518.27 Q1267.21 1513.66 1273.02 1513.66 Z\" fill=\"#000000\" fill-rule=\"nonzero\" fill-opacity=\"1\" /><path clip-path=\"url(#clip280)\" d=\"M1574.94 1517.37 Q1571.33 1517.37 1569.5 1520.93 Q1567.69 1524.47 1567.69 1531.6 Q1567.69 1538.71 1569.5 1542.27 Q1571.33 1545.82 1574.94 1545.82 Q1578.57 1545.82 1580.38 1542.27 Q1582.21 1538.71 1582.21 1531.6 Q1582.21 1524.47 1580.38 1520.93 Q1578.57 1517.37 1574.94 1517.37 M1574.94 1513.66 Q1580.75 1513.66 1583.8 1518.27 Q1586.88 1522.85 1586.88 1531.6 Q1586.88 1540.33 1583.8 1544.94 Q1580.75 1549.52 1574.94 1549.52 Q1569.13 1549.52 1566.05 1544.94 Q1562.99 1540.33 1562.99 1531.6 Q1562.99 1522.85 1566.05 1518.27 Q1569.13 1513.66 1574.94 1513.66 Z\" fill=\"#000000\" fill-rule=\"nonzero\" fill-opacity=\"1\" /><path clip-path=\"url(#clip280)\" d=\"M1595.1 1542.97 L1599.99 1542.97 L1599.99 1548.85 L1595.1 1548.85 L1595.1 1542.97 Z\" fill=\"#000000\" fill-rule=\"nonzero\" fill-opacity=\"1\" /><path clip-path=\"url(#clip280)\" d=\"M1610.22 1514.29 L1628.57 1514.29 L1628.57 1518.22 L1614.5 1518.22 L1614.5 1526.7 Q1615.52 1526.35 1616.54 1526.19 Q1617.55 1526 1618.57 1526 Q1624.36 1526 1627.74 1529.17 Q1631.12 1532.34 1631.12 1537.76 Q1631.12 1543.34 1627.65 1546.44 Q1624.18 1549.52 1617.86 1549.52 Q1615.68 1549.52 1613.41 1549.15 Q1611.17 1548.78 1608.76 1548.04 L1608.76 1543.34 Q1610.84 1544.47 1613.06 1545.03 Q1615.29 1545.58 1617.76 1545.58 Q1621.77 1545.58 1624.11 1543.48 Q1626.44 1541.37 1626.44 1537.76 Q1626.44 1534.15 1624.11 1532.04 Q1621.77 1529.94 1617.76 1529.94 Q1615.89 1529.94 1614.01 1530.35 Q1612.16 1530.77 1610.22 1531.65 L1610.22 1514.29 Z\" fill=\"#000000\" fill-rule=\"nonzero\" fill-opacity=\"1\" /><path clip-path=\"url(#clip280)\" d=\"M1910.86 1544.91 L1918.5 1544.91 L1918.5 1518.55 L1910.19 1520.21 L1910.19 1515.95 L1918.45 1514.29 L1923.13 1514.29 L1923.13 1544.91 L1930.77 1544.91 L1930.77 1548.85 L1910.86 1548.85 L1910.86 1544.91 Z\" fill=\"#000000\" fill-rule=\"nonzero\" fill-opacity=\"1\" /><path clip-path=\"url(#clip280)\" d=\"M1940.21 1542.97 L1945.1 1542.97 L1945.1 1548.85 L1940.21 1548.85 L1940.21 1542.97 Z\" fill=\"#000000\" fill-rule=\"nonzero\" fill-opacity=\"1\" /><path clip-path=\"url(#clip280)\" d=\"M1965.28 1517.37 Q1961.67 1517.37 1959.84 1520.93 Q1958.04 1524.47 1958.04 1531.6 Q1958.04 1538.71 1959.84 1542.27 Q1961.67 1545.82 1965.28 1545.82 Q1968.92 1545.82 1970.72 1542.27 Q1972.55 1538.71 1972.55 1531.6 Q1972.55 1524.47 1970.72 1520.93 Q1968.92 1517.37 1965.28 1517.37 M1965.28 1513.66 Q1971.09 1513.66 1974.15 1518.27 Q1977.23 1522.85 1977.23 1531.6 Q1977.23 1540.33 1974.15 1544.94 Q1971.09 1549.52 1965.28 1549.52 Q1959.47 1549.52 1956.39 1544.94 Q1953.34 1540.33 1953.34 1531.6 Q1953.34 1522.85 1956.39 1518.27 Q1959.47 1513.66 1965.28 1513.66 Z\" fill=\"#000000\" fill-rule=\"nonzero\" fill-opacity=\"1\" /><path clip-path=\"url(#clip280)\" d=\"M2258.01 1544.91 L2265.65 1544.91 L2265.65 1518.55 L2257.34 1520.21 L2257.34 1515.95 L2265.6 1514.29 L2270.28 1514.29 L2270.28 1544.91 L2277.92 1544.91 L2277.92 1548.85 L2258.01 1548.85 L2258.01 1544.91 Z\" fill=\"#000000\" fill-rule=\"nonzero\" fill-opacity=\"1\" /><path clip-path=\"url(#clip280)\" d=\"M2287.36 1542.97 L2292.25 1542.97 L2292.25 1548.85 L2287.36 1548.85 L2287.36 1542.97 Z\" fill=\"#000000\" fill-rule=\"nonzero\" fill-opacity=\"1\" /><path clip-path=\"url(#clip280)\" d=\"M2302.48 1514.29 L2320.83 1514.29 L2320.83 1518.22 L2306.76 1518.22 L2306.76 1526.7 Q2307.78 1526.35 2308.8 1526.19 Q2309.81 1526 2310.83 1526 Q2316.62 1526 2320 1529.17 Q2323.38 1532.34 2323.38 1537.76 Q2323.38 1543.34 2319.91 1546.44 Q2316.44 1549.52 2310.12 1549.52 Q2307.94 1549.52 2305.67 1549.15 Q2303.43 1548.78 2301.02 1548.04 L2301.02 1543.34 Q2303.1 1544.47 2305.32 1545.03 Q2307.55 1545.58 2310.02 1545.58 Q2314.03 1545.58 2316.37 1543.48 Q2318.7 1541.37 2318.7 1537.76 Q2318.7 1534.15 2316.37 1532.04 Q2314.03 1529.94 2310.02 1529.94 Q2308.15 1529.94 2306.27 1530.35 Q2304.42 1530.77 2302.48 1531.65 L2302.48 1514.29 Z\" fill=\"#000000\" fill-rule=\"nonzero\" fill-opacity=\"1\" /><polyline clip-path=\"url(#clip282)\" style=\"stroke:#000000; stroke-linecap:round; stroke-linejoin:round; stroke-width:2; stroke-opacity:0.1; fill:none\" points=\"148.057,1245.83 2352.76,1245.83 \"/>\n",
       "<polyline clip-path=\"url(#clip282)\" style=\"stroke:#000000; stroke-linecap:round; stroke-linejoin:round; stroke-width:2; stroke-opacity:0.1; fill:none\" points=\"148.057,988.527 2352.76,988.527 \"/>\n",
       "<polyline clip-path=\"url(#clip282)\" style=\"stroke:#000000; stroke-linecap:round; stroke-linejoin:round; stroke-width:2; stroke-opacity:0.1; fill:none\" points=\"148.057,731.227 2352.76,731.227 \"/>\n",
       "<polyline clip-path=\"url(#clip282)\" style=\"stroke:#000000; stroke-linecap:round; stroke-linejoin:round; stroke-width:2; stroke-opacity:0.1; fill:none\" points=\"148.057,473.927 2352.76,473.927 \"/>\n",
       "<polyline clip-path=\"url(#clip282)\" style=\"stroke:#000000; stroke-linecap:round; stroke-linejoin:round; stroke-width:2; stroke-opacity:0.1; fill:none\" points=\"148.057,216.626 2352.76,216.626 \"/>\n",
       "<polyline clip-path=\"url(#clip280)\" style=\"stroke:#000000; stroke-linecap:round; stroke-linejoin:round; stroke-width:4; stroke-opacity:1; fill:none\" points=\"148.057,1486.45 148.057,47.2441 \"/>\n",
       "<polyline clip-path=\"url(#clip280)\" style=\"stroke:#000000; stroke-linecap:round; stroke-linejoin:round; stroke-width:4; stroke-opacity:1; fill:none\" points=\"148.057,1245.83 166.954,1245.83 \"/>\n",
       "<polyline clip-path=\"url(#clip280)\" style=\"stroke:#000000; stroke-linecap:round; stroke-linejoin:round; stroke-width:4; stroke-opacity:1; fill:none\" points=\"148.057,988.527 166.954,988.527 \"/>\n",
       "<polyline clip-path=\"url(#clip280)\" style=\"stroke:#000000; stroke-linecap:round; stroke-linejoin:round; stroke-width:4; stroke-opacity:1; fill:none\" points=\"148.057,731.227 166.954,731.227 \"/>\n",
       "<polyline clip-path=\"url(#clip280)\" style=\"stroke:#000000; stroke-linecap:round; stroke-linejoin:round; stroke-width:4; stroke-opacity:1; fill:none\" points=\"148.057,473.927 166.954,473.927 \"/>\n",
       "<polyline clip-path=\"url(#clip280)\" style=\"stroke:#000000; stroke-linecap:round; stroke-linejoin:round; stroke-width:4; stroke-opacity:1; fill:none\" points=\"148.057,216.626 166.954,216.626 \"/>\n",
       "<path clip-path=\"url(#clip280)\" d=\"M50.9921 1246.28 L80.6679 1246.28 L80.6679 1250.21 L50.9921 1250.21 L50.9921 1246.28 Z\" fill=\"#000000\" fill-rule=\"nonzero\" fill-opacity=\"1\" /><path clip-path=\"url(#clip280)\" d=\"M104.927 1244.47 Q108.283 1245.19 110.158 1247.46 Q112.057 1249.73 112.057 1253.06 Q112.057 1258.18 108.538 1260.98 Q105.02 1263.78 98.5382 1263.78 Q96.3623 1263.78 94.0475 1263.34 Q91.7558 1262.92 89.3021 1262.07 L89.3021 1257.55 Q91.2465 1258.69 93.5613 1259.26 Q95.8761 1259.84 98.3993 1259.84 Q102.797 1259.84 105.089 1258.11 Q107.404 1256.37 107.404 1253.06 Q107.404 1250.01 105.251 1248.29 Q103.121 1246.56 99.3021 1246.56 L95.2743 1246.56 L95.2743 1242.71 L99.4872 1242.71 Q102.936 1242.71 104.765 1241.35 Q106.594 1239.96 106.594 1237.37 Q106.594 1234.7 104.696 1233.29 Q102.821 1231.86 99.3021 1231.86 Q97.3808 1231.86 95.1817 1232.27 Q92.9826 1232.69 90.3438 1233.57 L90.3438 1229.4 Q93.0058 1228.66 95.3206 1228.29 Q97.6585 1227.92 99.7187 1227.92 Q105.043 1227.92 108.145 1230.35 Q111.246 1232.76 111.246 1236.88 Q111.246 1239.75 109.603 1241.74 Q107.959 1243.71 104.927 1244.47 Z\" fill=\"#000000\" fill-rule=\"nonzero\" fill-opacity=\"1\" /><path clip-path=\"url(#clip280)\" d=\"M51.9412 988.978 L81.617 988.978 L81.617 992.913 L51.9412 992.913 L51.9412 988.978 Z\" fill=\"#000000\" fill-rule=\"nonzero\" fill-opacity=\"1\" /><path clip-path=\"url(#clip280)\" d=\"M95.7373 1001.87 L112.057 1001.87 L112.057 1005.81 L90.1123 1005.81 L90.1123 1001.87 Q92.7743 999.117 97.3576 994.487 Q101.964 989.835 103.145 988.492 Q105.39 985.969 106.27 984.233 Q107.172 982.474 107.172 980.784 Q107.172 978.029 105.228 976.293 Q103.307 974.557 100.205 974.557 Q98.0058 974.557 95.5521 975.321 Q93.1215 976.085 90.3438 977.636 L90.3438 972.913 Q93.1678 971.779 95.6215 971.201 Q98.0752 970.622 100.112 970.622 Q105.483 970.622 108.677 973.307 Q111.871 975.992 111.871 980.483 Q111.871 982.612 111.061 984.534 Q110.274 986.432 108.168 989.024 Q107.589 989.696 104.487 992.913 Q101.385 996.108 95.7373 1001.87 Z\" fill=\"#000000\" fill-rule=\"nonzero\" fill-opacity=\"1\" /><path clip-path=\"url(#clip280)\" d=\"M51.5708 731.678 L81.2466 731.678 L81.2466 735.613 L51.5708 735.613 L51.5708 731.678 Z\" fill=\"#000000\" fill-rule=\"nonzero\" fill-opacity=\"1\" /><path clip-path=\"url(#clip280)\" d=\"M92.1493 744.571 L99.7882 744.571 L99.7882 718.206 L91.478 719.873 L91.478 715.613 L99.7419 713.947 L104.418 713.947 L104.418 744.571 L112.057 744.571 L112.057 748.507 L92.1493 748.507 L92.1493 744.571 Z\" fill=\"#000000\" fill-rule=\"nonzero\" fill-opacity=\"1\" /><path clip-path=\"url(#clip280)\" d=\"M100.112 459.725 Q96.5011 459.725 94.6724 463.29 Q92.8669 466.832 92.8669 473.961 Q92.8669 481.068 94.6724 484.632 Q96.5011 488.174 100.112 488.174 Q103.746 488.174 105.552 484.632 Q107.381 481.068 107.381 473.961 Q107.381 466.832 105.552 463.29 Q103.746 459.725 100.112 459.725 M100.112 456.022 Q105.922 456.022 108.978 460.628 Q112.057 465.211 112.057 473.961 Q112.057 482.688 108.978 487.294 Q105.922 491.878 100.112 491.878 Q94.3021 491.878 91.2234 487.294 Q88.1679 482.688 88.1679 473.961 Q88.1679 465.211 91.2234 460.628 Q94.3021 456.022 100.112 456.022 Z\" fill=\"#000000\" fill-rule=\"nonzero\" fill-opacity=\"1\" /><path clip-path=\"url(#clip280)\" d=\"M92.1493 229.971 L99.7882 229.971 L99.7882 203.606 L91.478 205.272 L91.478 201.013 L99.7419 199.346 L104.418 199.346 L104.418 229.971 L112.057 229.971 L112.057 233.906 L92.1493 233.906 L92.1493 229.971 Z\" fill=\"#000000\" fill-rule=\"nonzero\" fill-opacity=\"1\" /><polyline clip-path=\"url(#clip282)\" style=\"stroke:#009af9; stroke-linecap:round; stroke-linejoin:round; stroke-width:4; stroke-opacity:1; fill:none\" points=\"210.454,92.6877 231.463,127.107 252.472,160.499 273.481,192.895 294.49,224.323 315.499,254.813 336.509,284.394 357.518,313.091 378.527,340.932 399.536,367.942 420.545,394.145 441.554,419.567 462.563,444.229 483.573,468.156 504.582,491.368 525.591,513.887 546.6,535.735 567.609,556.93 588.618,577.492 609.627,597.441 630.637,616.795 651.646,635.57 672.655,653.786 693.664,671.457 714.673,688.601 735.682,705.233 756.691,721.369 777.701,737.024 798.71,752.211 819.719,766.944 840.728,781.238 861.737,795.106 882.746,808.559 903.755,821.611 924.765,834.273 945.774,846.557 966.783,858.475 987.792,870.037 1008.8,881.253 1029.81,892.135 1050.82,902.693 1071.83,912.935 1092.84,922.871 1113.85,932.511 1134.86,941.863 1155.87,950.936 1176.87,959.738 1197.88,968.277 1218.89,976.561 1239.9,984.599 1260.91,992.396 1281.92,999.96 1302.93,1007.3 1323.94,1014.42 1344.95,1021.33 1365.96,1028.03 1386.97,1034.53 1407.97,1040.84 1428.98,1046.95 1449.99,1052.89 1471,1058.65 1492.01,1064.24 1513.02,1069.66 1534.03,1074.91 1555.04,1080.02 1576.05,1084.97 1597.06,1089.77 1618.07,1094.42 1639.08,1098.94 1660.08,1103.33 1681.09,1107.58 1702.1,1111.71 1723.11,1115.71 1744.12,1119.59 1765.13,1123.36 1786.14,1127.02 1807.15,1130.56 1828.16,1134 1849.17,1137.34 1870.18,1140.58 1891.19,1143.72 1912.19,1146.77 1933.2,1149.73 1954.21,1152.59 1975.22,1155.38 1996.23,1158.08 2017.24,1160.7 2038.25,1163.24 2059.26,1165.7 2080.27,1168.09 2101.28,1170.41 2122.29,1172.67 2143.29,1174.85 2164.3,1176.97 2185.31,1179.02 2206.32,1181.02 2227.33,1182.95 2248.34,1184.83 2269.35,1186.65 2290.36,1188.42 \"/>\n",
       "<polyline clip-path=\"url(#clip282)\" style=\"stroke:#e26f46; stroke-linecap:round; stroke-linejoin:round; stroke-width:4; stroke-opacity:1; fill:none\" points=\"210.454,349.988 231.463,384.407 252.472,417.799 273.481,450.195 294.49,481.623 315.499,512.114 336.509,541.694 357.518,570.391 378.527,598.232 399.536,625.242 420.545,651.445 441.554,676.867 462.563,701.529 483.573,725.456 504.582,748.668 525.591,771.188 546.6,793.035 567.609,814.23 588.618,834.793 609.627,854.741 630.637,874.095 651.646,892.87 672.655,911.086 693.664,928.757 714.673,945.901 735.682,962.534 756.691,978.67 777.701,994.324 798.71,1009.51 819.719,1024.24 840.728,1038.54 861.737,1052.41 882.746,1065.86 903.755,1078.91 924.765,1091.57 945.774,1103.86 966.783,1115.77 987.792,1127.34 1008.8,1138.55 1029.81,1149.44 1050.82,1159.99 1071.83,1170.23 1092.84,1180.17 1113.85,1189.81 1134.86,1199.16 1155.87,1208.24 1176.87,1217.04 1197.88,1225.58 1218.89,1233.86 1239.9,1241.9 1260.91,1249.7 1281.92,1257.26 1302.93,1264.6 1323.94,1271.72 1344.95,1278.63 1365.96,1285.33 1386.97,1291.83 1407.97,1298.14 1428.98,1304.25 1449.99,1310.19 1471,1315.95 1492.01,1321.54 1513.02,1326.96 1534.03,1332.21 1555.04,1337.32 1576.05,1342.27 1597.06,1347.07 1618.07,1351.72 1639.08,1356.24 1660.08,1360.63 1681.09,1364.88 1702.1,1369.01 1723.11,1373.01 1744.12,1376.9 1765.13,1380.66 1786.14,1384.32 1807.15,1387.86 1828.16,1391.3 1849.17,1394.64 1870.18,1397.88 1891.19,1401.02 1912.19,1404.07 1933.2,1407.03 1954.21,1409.9 1975.22,1412.68 1996.23,1415.38 2017.24,1418 2038.25,1420.54 2059.26,1423 2080.27,1425.39 2101.28,1427.71 2122.29,1429.97 2143.29,1432.15 2164.3,1434.27 2185.31,1436.32 2206.32,1438.32 2227.33,1440.25 2248.34,1442.13 2269.35,1443.95 2290.36,1445.72 \"/>\n",
       "<polyline clip-path=\"url(#clip282)\" style=\"stroke:#3da44d; stroke-linecap:round; stroke-linejoin:round; stroke-width:4; stroke-opacity:1; fill:none\" points=\"210.454,473.927 231.463,473.927 252.472,473.927 273.481,473.927 294.49,473.927 315.499,473.927 336.509,473.927 357.518,473.927 378.527,473.927 399.536,473.927 420.545,473.927 441.554,473.927 462.563,473.927 483.573,473.927 504.582,473.927 525.591,473.927 546.6,473.927 567.609,473.927 588.618,473.927 609.627,473.927 630.637,473.927 651.646,473.927 672.655,473.927 693.664,473.927 714.673,473.927 735.682,473.927 756.691,473.927 777.701,473.927 798.71,473.927 819.719,473.927 840.728,473.927 861.737,473.927 882.746,473.927 903.755,473.927 924.765,473.927 945.774,473.927 966.783,473.927 987.792,473.927 1008.8,473.927 1029.81,473.927 1050.82,473.927 1071.83,473.927 1092.84,473.927 1113.85,473.927 1134.86,473.927 1155.87,473.927 1176.87,473.927 1197.88,473.927 1218.89,473.927 1239.9,473.927 1260.91,473.927 1281.92,473.927 1302.93,473.927 1323.94,473.927 1344.95,473.927 1365.96,473.927 1386.97,473.927 1407.97,473.927 1428.98,473.927 1449.99,473.927 1471,473.927 1492.01,473.927 1513.02,473.927 1534.03,473.927 1555.04,473.927 1576.05,473.927 1597.06,473.927 1618.07,473.927 1639.08,473.927 1660.08,473.927 1681.09,473.927 1702.1,473.927 1723.11,473.927 1744.12,473.927 1765.13,473.927 1786.14,473.927 1807.15,473.927 1828.16,473.927 1849.17,473.927 1870.18,473.927 1891.19,473.927 1912.19,473.927 1933.2,473.927 1954.21,473.927 1975.22,473.927 1996.23,473.927 2017.24,473.927 2038.25,473.927 2059.26,473.927 2080.27,473.927 2101.28,473.927 2122.29,473.927 2143.29,473.927 2164.3,473.927 2185.31,473.927 2206.32,473.927 2227.33,473.927 2248.34,473.927 2269.35,473.927 2290.36,473.927 \"/>\n",
       "<polyline clip-path=\"url(#clip282)\" style=\"stroke:#c271d2; stroke-linecap:round; stroke-linejoin:round; stroke-width:4; stroke-opacity:1; fill:none\" points=\"210.454,859.877 231.463,852.08 252.472,844.283 273.481,836.486 294.49,828.689 315.499,820.892 336.509,813.095 357.518,805.298 378.527,797.501 399.536,789.704 420.545,781.907 441.554,774.11 462.563,766.313 483.573,758.516 504.582,750.719 525.591,742.922 546.6,735.125 567.609,727.328 588.618,719.531 609.627,711.734 630.637,703.937 651.646,696.14 672.655,688.343 693.664,680.546 714.673,672.749 735.682,664.952 756.691,657.155 777.701,649.358 798.71,641.561 819.719,633.764 840.728,625.968 861.737,618.171 882.746,610.374 903.755,602.577 924.765,594.78 945.774,586.983 966.783,579.186 987.792,571.389 1008.8,563.592 1029.81,555.795 1050.82,547.998 1071.83,540.201 1092.84,532.404 1113.85,524.607 1134.86,516.81 1155.87,509.013 1176.87,501.216 1197.88,493.419 1218.89,485.622 1239.9,477.825 1260.91,470.028 1281.92,462.231 1302.93,454.434 1323.94,446.637 1344.95,438.84 1365.96,431.043 1386.97,423.246 1407.97,415.449 1428.98,407.652 1449.99,399.855 1471,392.058 1492.01,384.261 1513.02,376.464 1534.03,368.667 1555.04,360.87 1576.05,353.073 1597.06,345.276 1618.07,337.479 1639.08,329.682 1660.08,321.886 1681.09,314.089 1702.1,306.292 1723.11,298.495 1744.12,290.698 1765.13,282.901 1786.14,275.104 1807.15,267.307 1828.16,259.51 1849.17,251.713 1870.18,243.916 1891.19,236.119 1912.19,228.322 1933.2,220.525 1954.21,212.728 1975.22,204.931 1996.23,197.134 2017.24,189.337 2038.25,181.54 2059.26,173.743 2080.27,165.946 2101.28,158.149 2122.29,150.352 2143.29,142.555 2164.3,134.758 2185.31,126.961 2206.32,119.164 2227.33,111.367 2248.34,103.57 2269.35,95.7733 2290.36,87.9763 \"/>\n",
       "<path clip-path=\"url(#clip280)\" d=\"M221.547 1438.47 L609.909 1438.47 L609.909 1282.95 L221.547 1282.95  Z\" fill=\"#ffffff\" fill-rule=\"evenodd\" fill-opacity=\"1\"/>\n",
       "<polyline clip-path=\"url(#clip280)\" style=\"stroke:#000000; stroke-linecap:round; stroke-linejoin:round; stroke-width:4; stroke-opacity:1; fill:none\" points=\"221.547,1438.47 609.909,1438.47 609.909,1282.95 221.547,1282.95 221.547,1438.47 \"/>\n",
       "<polyline clip-path=\"url(#clip280)\" style=\"stroke:#009af9; stroke-linecap:round; stroke-linejoin:round; stroke-width:4; stroke-opacity:1; fill:none\" points=\"246.043,1334.79 393.023,1334.79 \"/>\n",
       "<path clip-path=\"url(#clip280)\" d=\"M421.802 1348.19 L421.802 1361.94 L417.52 1361.94 L417.52 1326.15 L421.802 1326.15 L421.802 1330.08 Q423.145 1327.77 425.182 1326.66 Q427.242 1325.52 430.089 1325.52 Q434.811 1325.52 437.751 1329.27 Q440.714 1333.02 440.714 1339.13 Q440.714 1345.25 437.751 1349 Q434.811 1352.75 430.089 1352.75 Q427.242 1352.75 425.182 1351.63 Q423.145 1350.5 421.802 1348.19 M436.293 1339.13 Q436.293 1334.44 434.348 1331.77 Q432.427 1329.09 429.048 1329.09 Q425.668 1329.09 423.724 1331.77 Q421.802 1334.44 421.802 1339.13 Q421.802 1343.83 423.724 1346.52 Q425.668 1349.18 429.048 1349.18 Q432.427 1349.18 434.348 1346.52 Q436.293 1343.83 436.293 1339.13 Z\" fill=\"#000000\" fill-rule=\"nonzero\" fill-opacity=\"1\" /><path clip-path=\"url(#clip280)\" d=\"M463.399 1330.55 L493.075 1330.55 L493.075 1334.44 L463.399 1334.44 L463.399 1330.55 M463.399 1339.99 L493.075 1339.99 L493.075 1343.93 L463.399 1343.93 L463.399 1339.99 Z\" fill=\"#000000\" fill-rule=\"nonzero\" fill-opacity=\"1\" /><path clip-path=\"url(#clip280)\" d=\"M532.404 1333.44 Q535.76 1334.16 537.635 1336.43 Q539.533 1338.69 539.533 1342.03 Q539.533 1347.14 536.015 1349.94 Q532.496 1352.75 526.015 1352.75 Q523.839 1352.75 521.524 1352.31 Q519.232 1351.89 516.779 1351.03 L516.779 1346.52 Q518.723 1347.65 521.038 1348.23 Q523.353 1348.81 525.876 1348.81 Q530.274 1348.81 532.566 1347.07 Q534.88 1345.34 534.88 1342.03 Q534.88 1338.97 532.728 1337.26 Q530.598 1335.52 526.779 1335.52 L522.751 1335.52 L522.751 1331.68 L526.964 1331.68 Q530.413 1331.68 532.241 1330.32 Q534.07 1328.93 534.07 1326.33 Q534.07 1323.67 532.172 1322.26 Q530.297 1320.82 526.779 1320.82 Q524.857 1320.82 522.658 1321.24 Q520.459 1321.66 517.82 1322.54 L517.82 1318.37 Q520.482 1317.63 522.797 1317.26 Q525.135 1316.89 527.195 1316.89 Q532.519 1316.89 535.621 1319.32 Q538.723 1321.73 538.723 1325.85 Q538.723 1328.72 537.079 1330.71 Q535.436 1332.68 532.404 1333.44 Z\" fill=\"#000000\" fill-rule=\"nonzero\" fill-opacity=\"1\" /><path clip-path=\"url(#clip280)\" d=\"M548.399 1346.19 L553.283 1346.19 L553.283 1352.07 L548.399 1352.07 L548.399 1346.19 Z\" fill=\"#000000\" fill-rule=\"nonzero\" fill-opacity=\"1\" /><path clip-path=\"url(#clip280)\" d=\"M573.468 1320.59 Q569.857 1320.59 568.028 1324.16 Q566.223 1327.7 566.223 1334.83 Q566.223 1341.94 568.028 1345.5 Q569.857 1349.04 573.468 1349.04 Q577.102 1349.04 578.908 1345.5 Q580.737 1341.94 580.737 1334.83 Q580.737 1327.7 578.908 1324.16 Q577.102 1320.59 573.468 1320.59 M573.468 1316.89 Q579.278 1316.89 582.334 1321.5 Q585.412 1326.08 585.412 1334.83 Q585.412 1343.56 582.334 1348.16 Q579.278 1352.75 573.468 1352.75 Q567.658 1352.75 564.579 1348.16 Q561.524 1343.56 561.524 1334.83 Q561.524 1326.08 564.579 1321.5 Q567.658 1316.89 573.468 1316.89 Z\" fill=\"#000000\" fill-rule=\"nonzero\" fill-opacity=\"1\" /><polyline clip-path=\"url(#clip280)\" style=\"stroke:#e26f46; stroke-linecap:round; stroke-linejoin:round; stroke-width:4; stroke-opacity:1; fill:none\" points=\"246.043,1386.63 393.023,1386.63 \"/>\n",
       "<path clip-path=\"url(#clip280)\" d=\"M421.802 1400.03 L421.802 1413.78 L417.52 1413.78 L417.52 1377.99 L421.802 1377.99 L421.802 1381.92 Q423.145 1379.61 425.182 1378.5 Q427.242 1377.36 430.089 1377.36 Q434.811 1377.36 437.751 1381.11 Q440.714 1384.86 440.714 1390.97 Q440.714 1397.09 437.751 1400.84 Q434.811 1404.59 430.089 1404.59 Q427.242 1404.59 425.182 1403.47 Q423.145 1402.34 421.802 1400.03 M436.293 1390.97 Q436.293 1386.28 434.348 1383.61 Q432.427 1380.93 429.048 1380.93 Q425.668 1380.93 423.724 1383.61 Q421.802 1386.28 421.802 1390.97 Q421.802 1395.67 423.724 1398.36 Q425.668 1401.02 429.048 1401.02 Q432.427 1401.02 434.348 1398.36 Q436.293 1395.67 436.293 1390.97 Z\" fill=\"#000000\" fill-rule=\"nonzero\" fill-opacity=\"1\" /><path clip-path=\"url(#clip280)\" d=\"M463.399 1382.39 L493.075 1382.39 L493.075 1386.28 L463.399 1386.28 L463.399 1382.39 M463.399 1391.83 L493.075 1391.83 L493.075 1395.77 L463.399 1395.77 L463.399 1391.83 Z\" fill=\"#000000\" fill-rule=\"nonzero\" fill-opacity=\"1\" /><path clip-path=\"url(#clip280)\" d=\"M531.084 1373.43 L519.279 1391.88 L531.084 1391.88 L531.084 1373.43 M529.857 1369.35 L535.737 1369.35 L535.737 1391.88 L540.667 1391.88 L540.667 1395.77 L535.737 1395.77 L535.737 1403.91 L531.084 1403.91 L531.084 1395.77 L515.482 1395.77 L515.482 1391.25 L529.857 1369.35 Z\" fill=\"#000000\" fill-rule=\"nonzero\" fill-opacity=\"1\" /><path clip-path=\"url(#clip280)\" d=\"M548.399 1398.03 L553.283 1398.03 L553.283 1403.91 L548.399 1403.91 L548.399 1398.03 Z\" fill=\"#000000\" fill-rule=\"nonzero\" fill-opacity=\"1\" /><path clip-path=\"url(#clip280)\" d=\"M573.468 1372.43 Q569.857 1372.43 568.028 1376 Q566.223 1379.54 566.223 1386.67 Q566.223 1393.78 568.028 1397.34 Q569.857 1400.88 573.468 1400.88 Q577.102 1400.88 578.908 1397.34 Q580.737 1393.78 580.737 1386.67 Q580.737 1379.54 578.908 1376 Q577.102 1372.43 573.468 1372.43 M573.468 1368.73 Q579.278 1368.73 582.334 1373.34 Q585.412 1377.92 585.412 1386.67 Q585.412 1395.4 582.334 1400 Q579.278 1404.59 573.468 1404.59 Q567.658 1404.59 564.579 1400 Q561.524 1395.4 561.524 1386.67 Q561.524 1377.92 564.579 1373.34 Q567.658 1368.73 573.468 1368.73 Z\" fill=\"#000000\" fill-rule=\"nonzero\" fill-opacity=\"1\" /></svg>\n"
      ],
      "text/html": [
       "<?xml version=\"1.0\" encoding=\"utf-8\"?>\n",
       "<svg xmlns=\"http://www.w3.org/2000/svg\" xmlns:xlink=\"http://www.w3.org/1999/xlink\" width=\"600\" height=\"400\" viewBox=\"0 0 2400 1600\">\n",
       "<defs>\n",
       "  <clipPath id=\"clip330\">\n",
       "    <rect x=\"0\" y=\"0\" width=\"2400\" height=\"1600\"/>\n",
       "  </clipPath>\n",
       "</defs>\n",
       "<path clip-path=\"url(#clip330)\" d=\"M0 1600 L2400 1600 L2400 0 L0 0  Z\" fill=\"#ffffff\" fill-rule=\"evenodd\" fill-opacity=\"1\"/>\n",
       "<defs>\n",
       "  <clipPath id=\"clip331\">\n",
       "    <rect x=\"480\" y=\"0\" width=\"1681\" height=\"1600\"/>\n",
       "  </clipPath>\n",
       "</defs>\n",
       "<path clip-path=\"url(#clip330)\" d=\"M148.057 1486.45 L2352.76 1486.45 L2352.76 47.2441 L148.057 47.2441  Z\" fill=\"#ffffff\" fill-rule=\"evenodd\" fill-opacity=\"1\"/>\n",
       "<defs>\n",
       "  <clipPath id=\"clip332\">\n",
       "    <rect x=\"148\" y=\"47\" width=\"2206\" height=\"1440\"/>\n",
       "  </clipPath>\n",
       "</defs>\n",
       "<polyline clip-path=\"url(#clip332)\" style=\"stroke:#000000; stroke-linecap:round; stroke-linejoin:round; stroke-width:2; stroke-opacity:0.1; fill:none\" points=\"210.454,1486.45 210.454,47.2441 \"/>\n",
       "<polyline clip-path=\"url(#clip332)\" style=\"stroke:#000000; stroke-linecap:round; stroke-linejoin:round; stroke-width:2; stroke-opacity:0.1; fill:none\" points=\"557.105,1486.45 557.105,47.2441 \"/>\n",
       "<polyline clip-path=\"url(#clip332)\" style=\"stroke:#000000; stroke-linecap:round; stroke-linejoin:round; stroke-width:2; stroke-opacity:0.1; fill:none\" points=\"903.755,1486.45 903.755,47.2441 \"/>\n",
       "<polyline clip-path=\"url(#clip332)\" style=\"stroke:#000000; stroke-linecap:round; stroke-linejoin:round; stroke-width:2; stroke-opacity:0.1; fill:none\" points=\"1250.41,1486.45 1250.41,47.2441 \"/>\n",
       "<polyline clip-path=\"url(#clip332)\" style=\"stroke:#000000; stroke-linecap:round; stroke-linejoin:round; stroke-width:2; stroke-opacity:0.1; fill:none\" points=\"1597.06,1486.45 1597.06,47.2441 \"/>\n",
       "<polyline clip-path=\"url(#clip332)\" style=\"stroke:#000000; stroke-linecap:round; stroke-linejoin:round; stroke-width:2; stroke-opacity:0.1; fill:none\" points=\"1943.71,1486.45 1943.71,47.2441 \"/>\n",
       "<polyline clip-path=\"url(#clip332)\" style=\"stroke:#000000; stroke-linecap:round; stroke-linejoin:round; stroke-width:2; stroke-opacity:0.1; fill:none\" points=\"2290.36,1486.45 2290.36,47.2441 \"/>\n",
       "<polyline clip-path=\"url(#clip330)\" style=\"stroke:#000000; stroke-linecap:round; stroke-linejoin:round; stroke-width:4; stroke-opacity:1; fill:none\" points=\"148.057,1486.45 2352.76,1486.45 \"/>\n",
       "<polyline clip-path=\"url(#clip330)\" style=\"stroke:#000000; stroke-linecap:round; stroke-linejoin:round; stroke-width:4; stroke-opacity:1; fill:none\" points=\"210.454,1486.45 210.454,1467.55 \"/>\n",
       "<polyline clip-path=\"url(#clip330)\" style=\"stroke:#000000; stroke-linecap:round; stroke-linejoin:round; stroke-width:4; stroke-opacity:1; fill:none\" points=\"557.105,1486.45 557.105,1467.55 \"/>\n",
       "<polyline clip-path=\"url(#clip330)\" style=\"stroke:#000000; stroke-linecap:round; stroke-linejoin:round; stroke-width:4; stroke-opacity:1; fill:none\" points=\"903.755,1486.45 903.755,1467.55 \"/>\n",
       "<polyline clip-path=\"url(#clip330)\" style=\"stroke:#000000; stroke-linecap:round; stroke-linejoin:round; stroke-width:4; stroke-opacity:1; fill:none\" points=\"1250.41,1486.45 1250.41,1467.55 \"/>\n",
       "<polyline clip-path=\"url(#clip330)\" style=\"stroke:#000000; stroke-linecap:round; stroke-linejoin:round; stroke-width:4; stroke-opacity:1; fill:none\" points=\"1597.06,1486.45 1597.06,1467.55 \"/>\n",
       "<polyline clip-path=\"url(#clip330)\" style=\"stroke:#000000; stroke-linecap:round; stroke-linejoin:round; stroke-width:4; stroke-opacity:1; fill:none\" points=\"1943.71,1486.45 1943.71,1467.55 \"/>\n",
       "<polyline clip-path=\"url(#clip330)\" style=\"stroke:#000000; stroke-linecap:round; stroke-linejoin:round; stroke-width:4; stroke-opacity:1; fill:none\" points=\"2290.36,1486.45 2290.36,1467.55 \"/>\n",
       "<path clip-path=\"url(#clip330)\" d=\"M157.48 1532.02 L187.155 1532.02 L187.155 1535.95 L157.48 1535.95 L157.48 1532.02 Z\" fill=\"#000000\" fill-rule=\"nonzero\" fill-opacity=\"1\" /><path clip-path=\"url(#clip330)\" d=\"M198.058 1544.91 L205.697 1544.91 L205.697 1518.55 L197.387 1520.21 L197.387 1515.95 L205.651 1514.29 L210.326 1514.29 L210.326 1544.91 L217.965 1544.91 L217.965 1548.85 L198.058 1548.85 L198.058 1544.91 Z\" fill=\"#000000\" fill-rule=\"nonzero\" fill-opacity=\"1\" /><path clip-path=\"url(#clip330)\" d=\"M227.41 1542.97 L232.294 1542.97 L232.294 1548.85 L227.41 1548.85 L227.41 1542.97 Z\" fill=\"#000000\" fill-rule=\"nonzero\" fill-opacity=\"1\" /><path clip-path=\"url(#clip330)\" d=\"M242.525 1514.29 L260.882 1514.29 L260.882 1518.22 L246.808 1518.22 L246.808 1526.7 Q247.826 1526.35 248.845 1526.19 Q249.863 1526 250.882 1526 Q256.669 1526 260.048 1529.17 Q263.428 1532.34 263.428 1537.76 Q263.428 1543.34 259.956 1546.44 Q256.484 1549.52 250.164 1549.52 Q247.988 1549.52 245.72 1549.15 Q243.474 1548.78 241.067 1548.04 L241.067 1543.34 Q243.15 1544.47 245.373 1545.03 Q247.595 1545.58 250.072 1545.58 Q254.076 1545.58 256.414 1543.48 Q258.752 1541.37 258.752 1537.76 Q258.752 1534.15 256.414 1532.04 Q254.076 1529.94 250.072 1529.94 Q248.197 1529.94 246.322 1530.35 Q244.47 1530.77 242.525 1531.65 L242.525 1514.29 Z\" fill=\"#000000\" fill-rule=\"nonzero\" fill-opacity=\"1\" /><path clip-path=\"url(#clip330)\" d=\"M503.633 1532.02 L533.308 1532.02 L533.308 1535.95 L503.633 1535.95 L503.633 1532.02 Z\" fill=\"#000000\" fill-rule=\"nonzero\" fill-opacity=\"1\" /><path clip-path=\"url(#clip330)\" d=\"M544.211 1544.91 L551.85 1544.91 L551.85 1518.55 L543.54 1520.21 L543.54 1515.95 L551.804 1514.29 L556.48 1514.29 L556.48 1544.91 L564.118 1544.91 L564.118 1548.85 L544.211 1548.85 L544.211 1544.91 Z\" fill=\"#000000\" fill-rule=\"nonzero\" fill-opacity=\"1\" /><path clip-path=\"url(#clip330)\" d=\"M573.563 1542.97 L578.447 1542.97 L578.447 1548.85 L573.563 1548.85 L573.563 1542.97 Z\" fill=\"#000000\" fill-rule=\"nonzero\" fill-opacity=\"1\" /><path clip-path=\"url(#clip330)\" d=\"M598.632 1517.37 Q595.021 1517.37 593.192 1520.93 Q591.387 1524.47 591.387 1531.6 Q591.387 1538.71 593.192 1542.27 Q595.021 1545.82 598.632 1545.82 Q602.266 1545.82 604.072 1542.27 Q605.901 1538.71 605.901 1531.6 Q605.901 1524.47 604.072 1520.93 Q602.266 1517.37 598.632 1517.37 M598.632 1513.66 Q604.442 1513.66 607.498 1518.27 Q610.577 1522.85 610.577 1531.6 Q610.577 1540.33 607.498 1544.94 Q604.442 1549.52 598.632 1549.52 Q592.822 1549.52 589.743 1544.94 Q586.688 1540.33 586.688 1531.6 Q586.688 1522.85 589.743 1518.27 Q592.822 1513.66 598.632 1513.66 Z\" fill=\"#000000\" fill-rule=\"nonzero\" fill-opacity=\"1\" /><path clip-path=\"url(#clip330)\" d=\"M850.781 1532.02 L880.457 1532.02 L880.457 1535.95 L850.781 1535.95 L850.781 1532.02 Z\" fill=\"#000000\" fill-rule=\"nonzero\" fill-opacity=\"1\" /><path clip-path=\"url(#clip330)\" d=\"M900.549 1517.37 Q896.938 1517.37 895.11 1520.93 Q893.304 1524.47 893.304 1531.6 Q893.304 1538.71 895.11 1542.27 Q896.938 1545.82 900.549 1545.82 Q904.184 1545.82 905.989 1542.27 Q907.818 1538.71 907.818 1531.6 Q907.818 1524.47 905.989 1520.93 Q904.184 1517.37 900.549 1517.37 M900.549 1513.66 Q906.36 1513.66 909.415 1518.27 Q912.494 1522.85 912.494 1531.6 Q912.494 1540.33 909.415 1544.94 Q906.36 1549.52 900.549 1549.52 Q894.739 1549.52 891.661 1544.94 Q888.605 1540.33 888.605 1531.6 Q888.605 1522.85 891.661 1518.27 Q894.739 1513.66 900.549 1513.66 Z\" fill=\"#000000\" fill-rule=\"nonzero\" fill-opacity=\"1\" /><path clip-path=\"url(#clip330)\" d=\"M920.711 1542.97 L925.596 1542.97 L925.596 1548.85 L920.711 1548.85 L920.711 1542.97 Z\" fill=\"#000000\" fill-rule=\"nonzero\" fill-opacity=\"1\" /><path clip-path=\"url(#clip330)\" d=\"M935.827 1514.29 L954.183 1514.29 L954.183 1518.22 L940.109 1518.22 L940.109 1526.7 Q941.128 1526.35 942.146 1526.19 Q943.165 1526 944.183 1526 Q949.97 1526 953.35 1529.17 Q956.73 1532.34 956.73 1537.76 Q956.73 1543.34 953.257 1546.44 Q949.785 1549.52 943.466 1549.52 Q941.29 1549.52 939.021 1549.15 Q936.776 1548.78 934.369 1548.04 L934.369 1543.34 Q936.452 1544.47 938.674 1545.03 Q940.896 1545.58 943.373 1545.58 Q947.378 1545.58 949.716 1543.48 Q952.054 1541.37 952.054 1537.76 Q952.054 1534.15 949.716 1532.04 Q947.378 1529.94 943.373 1529.94 Q941.498 1529.94 939.623 1530.35 Q937.771 1530.77 935.827 1531.65 L935.827 1514.29 Z\" fill=\"#000000\" fill-rule=\"nonzero\" fill-opacity=\"1\" /><path clip-path=\"url(#clip330)\" d=\"M1227.79 1517.37 Q1224.18 1517.37 1222.35 1520.93 Q1220.55 1524.47 1220.55 1531.6 Q1220.55 1538.71 1222.35 1542.27 Q1224.18 1545.82 1227.79 1545.82 Q1231.42 1545.82 1233.23 1542.27 Q1235.06 1538.71 1235.06 1531.6 Q1235.06 1524.47 1233.23 1520.93 Q1231.42 1517.37 1227.79 1517.37 M1227.79 1513.66 Q1233.6 1513.66 1236.66 1518.27 Q1239.74 1522.85 1239.74 1531.6 Q1239.74 1540.33 1236.66 1544.94 Q1233.6 1549.52 1227.79 1549.52 Q1221.98 1549.52 1218.9 1544.94 Q1215.85 1540.33 1215.85 1531.6 Q1215.85 1522.85 1218.9 1518.27 Q1221.98 1513.66 1227.79 1513.66 Z\" fill=\"#000000\" fill-rule=\"nonzero\" fill-opacity=\"1\" /><path clip-path=\"url(#clip330)\" d=\"M1247.95 1542.97 L1252.84 1542.97 L1252.84 1548.85 L1247.95 1548.85 L1247.95 1542.97 Z\" fill=\"#000000\" fill-rule=\"nonzero\" fill-opacity=\"1\" /><path clip-path=\"url(#clip330)\" d=\"M1273.02 1517.37 Q1269.41 1517.37 1267.58 1520.93 Q1265.78 1524.47 1265.78 1531.6 Q1265.78 1538.71 1267.58 1542.27 Q1269.41 1545.82 1273.02 1545.82 Q1276.66 1545.82 1278.46 1542.27 Q1280.29 1538.71 1280.29 1531.6 Q1280.29 1524.47 1278.46 1520.93 Q1276.66 1517.37 1273.02 1517.37 M1273.02 1513.66 Q1278.83 1513.66 1281.89 1518.27 Q1284.97 1522.85 1284.97 1531.6 Q1284.97 1540.33 1281.89 1544.94 Q1278.83 1549.52 1273.02 1549.52 Q1267.21 1549.52 1264.13 1544.94 Q1261.08 1540.33 1261.08 1531.6 Q1261.08 1522.85 1264.13 1518.27 Q1267.21 1513.66 1273.02 1513.66 Z\" fill=\"#000000\" fill-rule=\"nonzero\" fill-opacity=\"1\" /><path clip-path=\"url(#clip330)\" d=\"M1574.94 1517.37 Q1571.33 1517.37 1569.5 1520.93 Q1567.69 1524.47 1567.69 1531.6 Q1567.69 1538.71 1569.5 1542.27 Q1571.33 1545.82 1574.94 1545.82 Q1578.57 1545.82 1580.38 1542.27 Q1582.21 1538.71 1582.21 1531.6 Q1582.21 1524.47 1580.38 1520.93 Q1578.57 1517.37 1574.94 1517.37 M1574.94 1513.66 Q1580.75 1513.66 1583.8 1518.27 Q1586.88 1522.85 1586.88 1531.6 Q1586.88 1540.33 1583.8 1544.94 Q1580.75 1549.52 1574.94 1549.52 Q1569.13 1549.52 1566.05 1544.94 Q1562.99 1540.33 1562.99 1531.6 Q1562.99 1522.85 1566.05 1518.27 Q1569.13 1513.66 1574.94 1513.66 Z\" fill=\"#000000\" fill-rule=\"nonzero\" fill-opacity=\"1\" /><path clip-path=\"url(#clip330)\" d=\"M1595.1 1542.97 L1599.99 1542.97 L1599.99 1548.85 L1595.1 1548.85 L1595.1 1542.97 Z\" fill=\"#000000\" fill-rule=\"nonzero\" fill-opacity=\"1\" /><path clip-path=\"url(#clip330)\" d=\"M1610.22 1514.29 L1628.57 1514.29 L1628.57 1518.22 L1614.5 1518.22 L1614.5 1526.7 Q1615.52 1526.35 1616.54 1526.19 Q1617.55 1526 1618.57 1526 Q1624.36 1526 1627.74 1529.17 Q1631.12 1532.34 1631.12 1537.76 Q1631.12 1543.34 1627.65 1546.44 Q1624.18 1549.52 1617.86 1549.52 Q1615.68 1549.52 1613.41 1549.15 Q1611.17 1548.78 1608.76 1548.04 L1608.76 1543.34 Q1610.84 1544.47 1613.06 1545.03 Q1615.29 1545.58 1617.76 1545.58 Q1621.77 1545.58 1624.11 1543.48 Q1626.44 1541.37 1626.44 1537.76 Q1626.44 1534.15 1624.11 1532.04 Q1621.77 1529.94 1617.76 1529.94 Q1615.89 1529.94 1614.01 1530.35 Q1612.16 1530.77 1610.22 1531.65 L1610.22 1514.29 Z\" fill=\"#000000\" fill-rule=\"nonzero\" fill-opacity=\"1\" /><path clip-path=\"url(#clip330)\" d=\"M1910.86 1544.91 L1918.5 1544.91 L1918.5 1518.55 L1910.19 1520.21 L1910.19 1515.95 L1918.45 1514.29 L1923.13 1514.29 L1923.13 1544.91 L1930.77 1544.91 L1930.77 1548.85 L1910.86 1548.85 L1910.86 1544.91 Z\" fill=\"#000000\" fill-rule=\"nonzero\" fill-opacity=\"1\" /><path clip-path=\"url(#clip330)\" d=\"M1940.21 1542.97 L1945.1 1542.97 L1945.1 1548.85 L1940.21 1548.85 L1940.21 1542.97 Z\" fill=\"#000000\" fill-rule=\"nonzero\" fill-opacity=\"1\" /><path clip-path=\"url(#clip330)\" d=\"M1965.28 1517.37 Q1961.67 1517.37 1959.84 1520.93 Q1958.04 1524.47 1958.04 1531.6 Q1958.04 1538.71 1959.84 1542.27 Q1961.67 1545.82 1965.28 1545.82 Q1968.92 1545.82 1970.72 1542.27 Q1972.55 1538.71 1972.55 1531.6 Q1972.55 1524.47 1970.72 1520.93 Q1968.92 1517.37 1965.28 1517.37 M1965.28 1513.66 Q1971.09 1513.66 1974.15 1518.27 Q1977.23 1522.85 1977.23 1531.6 Q1977.23 1540.33 1974.15 1544.94 Q1971.09 1549.52 1965.28 1549.52 Q1959.47 1549.52 1956.39 1544.94 Q1953.34 1540.33 1953.34 1531.6 Q1953.34 1522.85 1956.39 1518.27 Q1959.47 1513.66 1965.28 1513.66 Z\" fill=\"#000000\" fill-rule=\"nonzero\" fill-opacity=\"1\" /><path clip-path=\"url(#clip330)\" d=\"M2258.01 1544.91 L2265.65 1544.91 L2265.65 1518.55 L2257.34 1520.21 L2257.34 1515.95 L2265.6 1514.29 L2270.28 1514.29 L2270.28 1544.91 L2277.92 1544.91 L2277.92 1548.85 L2258.01 1548.85 L2258.01 1544.91 Z\" fill=\"#000000\" fill-rule=\"nonzero\" fill-opacity=\"1\" /><path clip-path=\"url(#clip330)\" d=\"M2287.36 1542.97 L2292.25 1542.97 L2292.25 1548.85 L2287.36 1548.85 L2287.36 1542.97 Z\" fill=\"#000000\" fill-rule=\"nonzero\" fill-opacity=\"1\" /><path clip-path=\"url(#clip330)\" d=\"M2302.48 1514.29 L2320.83 1514.29 L2320.83 1518.22 L2306.76 1518.22 L2306.76 1526.7 Q2307.78 1526.35 2308.8 1526.19 Q2309.81 1526 2310.83 1526 Q2316.62 1526 2320 1529.17 Q2323.38 1532.34 2323.38 1537.76 Q2323.38 1543.34 2319.91 1546.44 Q2316.44 1549.52 2310.12 1549.52 Q2307.94 1549.52 2305.67 1549.15 Q2303.43 1548.78 2301.02 1548.04 L2301.02 1543.34 Q2303.1 1544.47 2305.32 1545.03 Q2307.55 1545.58 2310.02 1545.58 Q2314.03 1545.58 2316.37 1543.48 Q2318.7 1541.37 2318.7 1537.76 Q2318.7 1534.15 2316.37 1532.04 Q2314.03 1529.94 2310.02 1529.94 Q2308.15 1529.94 2306.27 1530.35 Q2304.42 1530.77 2302.48 1531.65 L2302.48 1514.29 Z\" fill=\"#000000\" fill-rule=\"nonzero\" fill-opacity=\"1\" /><polyline clip-path=\"url(#clip332)\" style=\"stroke:#000000; stroke-linecap:round; stroke-linejoin:round; stroke-width:2; stroke-opacity:0.1; fill:none\" points=\"148.057,1245.83 2352.76,1245.83 \"/>\n",
       "<polyline clip-path=\"url(#clip332)\" style=\"stroke:#000000; stroke-linecap:round; stroke-linejoin:round; stroke-width:2; stroke-opacity:0.1; fill:none\" points=\"148.057,988.527 2352.76,988.527 \"/>\n",
       "<polyline clip-path=\"url(#clip332)\" style=\"stroke:#000000; stroke-linecap:round; stroke-linejoin:round; stroke-width:2; stroke-opacity:0.1; fill:none\" points=\"148.057,731.227 2352.76,731.227 \"/>\n",
       "<polyline clip-path=\"url(#clip332)\" style=\"stroke:#000000; stroke-linecap:round; stroke-linejoin:round; stroke-width:2; stroke-opacity:0.1; fill:none\" points=\"148.057,473.927 2352.76,473.927 \"/>\n",
       "<polyline clip-path=\"url(#clip332)\" style=\"stroke:#000000; stroke-linecap:round; stroke-linejoin:round; stroke-width:2; stroke-opacity:0.1; fill:none\" points=\"148.057,216.626 2352.76,216.626 \"/>\n",
       "<polyline clip-path=\"url(#clip330)\" style=\"stroke:#000000; stroke-linecap:round; stroke-linejoin:round; stroke-width:4; stroke-opacity:1; fill:none\" points=\"148.057,1486.45 148.057,47.2441 \"/>\n",
       "<polyline clip-path=\"url(#clip330)\" style=\"stroke:#000000; stroke-linecap:round; stroke-linejoin:round; stroke-width:4; stroke-opacity:1; fill:none\" points=\"148.057,1245.83 166.954,1245.83 \"/>\n",
       "<polyline clip-path=\"url(#clip330)\" style=\"stroke:#000000; stroke-linecap:round; stroke-linejoin:round; stroke-width:4; stroke-opacity:1; fill:none\" points=\"148.057,988.527 166.954,988.527 \"/>\n",
       "<polyline clip-path=\"url(#clip330)\" style=\"stroke:#000000; stroke-linecap:round; stroke-linejoin:round; stroke-width:4; stroke-opacity:1; fill:none\" points=\"148.057,731.227 166.954,731.227 \"/>\n",
       "<polyline clip-path=\"url(#clip330)\" style=\"stroke:#000000; stroke-linecap:round; stroke-linejoin:round; stroke-width:4; stroke-opacity:1; fill:none\" points=\"148.057,473.927 166.954,473.927 \"/>\n",
       "<polyline clip-path=\"url(#clip330)\" style=\"stroke:#000000; stroke-linecap:round; stroke-linejoin:round; stroke-width:4; stroke-opacity:1; fill:none\" points=\"148.057,216.626 166.954,216.626 \"/>\n",
       "<path clip-path=\"url(#clip330)\" d=\"M50.9921 1246.28 L80.6679 1246.28 L80.6679 1250.21 L50.9921 1250.21 L50.9921 1246.28 Z\" fill=\"#000000\" fill-rule=\"nonzero\" fill-opacity=\"1\" /><path clip-path=\"url(#clip330)\" d=\"M104.927 1244.47 Q108.283 1245.19 110.158 1247.46 Q112.057 1249.73 112.057 1253.06 Q112.057 1258.18 108.538 1260.98 Q105.02 1263.78 98.5382 1263.78 Q96.3623 1263.78 94.0475 1263.34 Q91.7558 1262.92 89.3021 1262.07 L89.3021 1257.55 Q91.2465 1258.69 93.5613 1259.26 Q95.8761 1259.84 98.3993 1259.84 Q102.797 1259.84 105.089 1258.11 Q107.404 1256.37 107.404 1253.06 Q107.404 1250.01 105.251 1248.29 Q103.121 1246.56 99.3021 1246.56 L95.2743 1246.56 L95.2743 1242.71 L99.4872 1242.71 Q102.936 1242.71 104.765 1241.35 Q106.594 1239.96 106.594 1237.37 Q106.594 1234.7 104.696 1233.29 Q102.821 1231.86 99.3021 1231.86 Q97.3808 1231.86 95.1817 1232.27 Q92.9826 1232.69 90.3438 1233.57 L90.3438 1229.4 Q93.0058 1228.66 95.3206 1228.29 Q97.6585 1227.92 99.7187 1227.92 Q105.043 1227.92 108.145 1230.35 Q111.246 1232.76 111.246 1236.88 Q111.246 1239.75 109.603 1241.74 Q107.959 1243.71 104.927 1244.47 Z\" fill=\"#000000\" fill-rule=\"nonzero\" fill-opacity=\"1\" /><path clip-path=\"url(#clip330)\" d=\"M51.9412 988.978 L81.617 988.978 L81.617 992.913 L51.9412 992.913 L51.9412 988.978 Z\" fill=\"#000000\" fill-rule=\"nonzero\" fill-opacity=\"1\" /><path clip-path=\"url(#clip330)\" d=\"M95.7373 1001.87 L112.057 1001.87 L112.057 1005.81 L90.1123 1005.81 L90.1123 1001.87 Q92.7743 999.117 97.3576 994.487 Q101.964 989.835 103.145 988.492 Q105.39 985.969 106.27 984.233 Q107.172 982.474 107.172 980.784 Q107.172 978.029 105.228 976.293 Q103.307 974.557 100.205 974.557 Q98.0058 974.557 95.5521 975.321 Q93.1215 976.085 90.3438 977.636 L90.3438 972.913 Q93.1678 971.779 95.6215 971.201 Q98.0752 970.622 100.112 970.622 Q105.483 970.622 108.677 973.307 Q111.871 975.992 111.871 980.483 Q111.871 982.612 111.061 984.534 Q110.274 986.432 108.168 989.024 Q107.589 989.696 104.487 992.913 Q101.385 996.108 95.7373 1001.87 Z\" fill=\"#000000\" fill-rule=\"nonzero\" fill-opacity=\"1\" /><path clip-path=\"url(#clip330)\" d=\"M51.5708 731.678 L81.2466 731.678 L81.2466 735.613 L51.5708 735.613 L51.5708 731.678 Z\" fill=\"#000000\" fill-rule=\"nonzero\" fill-opacity=\"1\" /><path clip-path=\"url(#clip330)\" d=\"M92.1493 744.571 L99.7882 744.571 L99.7882 718.206 L91.478 719.873 L91.478 715.613 L99.7419 713.947 L104.418 713.947 L104.418 744.571 L112.057 744.571 L112.057 748.507 L92.1493 748.507 L92.1493 744.571 Z\" fill=\"#000000\" fill-rule=\"nonzero\" fill-opacity=\"1\" /><path clip-path=\"url(#clip330)\" d=\"M100.112 459.725 Q96.5011 459.725 94.6724 463.29 Q92.8669 466.832 92.8669 473.961 Q92.8669 481.068 94.6724 484.632 Q96.5011 488.174 100.112 488.174 Q103.746 488.174 105.552 484.632 Q107.381 481.068 107.381 473.961 Q107.381 466.832 105.552 463.29 Q103.746 459.725 100.112 459.725 M100.112 456.022 Q105.922 456.022 108.978 460.628 Q112.057 465.211 112.057 473.961 Q112.057 482.688 108.978 487.294 Q105.922 491.878 100.112 491.878 Q94.3021 491.878 91.2234 487.294 Q88.1679 482.688 88.1679 473.961 Q88.1679 465.211 91.2234 460.628 Q94.3021 456.022 100.112 456.022 Z\" fill=\"#000000\" fill-rule=\"nonzero\" fill-opacity=\"1\" /><path clip-path=\"url(#clip330)\" d=\"M92.1493 229.971 L99.7882 229.971 L99.7882 203.606 L91.478 205.272 L91.478 201.013 L99.7419 199.346 L104.418 199.346 L104.418 229.971 L112.057 229.971 L112.057 233.906 L92.1493 233.906 L92.1493 229.971 Z\" fill=\"#000000\" fill-rule=\"nonzero\" fill-opacity=\"1\" /><polyline clip-path=\"url(#clip332)\" style=\"stroke:#009af9; stroke-linecap:round; stroke-linejoin:round; stroke-width:4; stroke-opacity:1; fill:none\" points=\"210.454,92.6877 231.463,127.107 252.472,160.499 273.481,192.895 294.49,224.323 315.499,254.813 336.509,284.394 357.518,313.091 378.527,340.932 399.536,367.942 420.545,394.145 441.554,419.567 462.563,444.229 483.573,468.156 504.582,491.368 525.591,513.887 546.6,535.735 567.609,556.93 588.618,577.492 609.627,597.441 630.637,616.795 651.646,635.57 672.655,653.786 693.664,671.457 714.673,688.601 735.682,705.233 756.691,721.369 777.701,737.024 798.71,752.211 819.719,766.944 840.728,781.238 861.737,795.106 882.746,808.559 903.755,821.611 924.765,834.273 945.774,846.557 966.783,858.475 987.792,870.037 1008.8,881.253 1029.81,892.135 1050.82,902.693 1071.83,912.935 1092.84,922.871 1113.85,932.511 1134.86,941.863 1155.87,950.936 1176.87,959.738 1197.88,968.277 1218.89,976.561 1239.9,984.599 1260.91,992.396 1281.92,999.96 1302.93,1007.3 1323.94,1014.42 1344.95,1021.33 1365.96,1028.03 1386.97,1034.53 1407.97,1040.84 1428.98,1046.95 1449.99,1052.89 1471,1058.65 1492.01,1064.24 1513.02,1069.66 1534.03,1074.91 1555.04,1080.02 1576.05,1084.97 1597.06,1089.77 1618.07,1094.42 1639.08,1098.94 1660.08,1103.33 1681.09,1107.58 1702.1,1111.71 1723.11,1115.71 1744.12,1119.59 1765.13,1123.36 1786.14,1127.02 1807.15,1130.56 1828.16,1134 1849.17,1137.34 1870.18,1140.58 1891.19,1143.72 1912.19,1146.77 1933.2,1149.73 1954.21,1152.59 1975.22,1155.38 1996.23,1158.08 2017.24,1160.7 2038.25,1163.24 2059.26,1165.7 2080.27,1168.09 2101.28,1170.41 2122.29,1172.67 2143.29,1174.85 2164.3,1176.97 2185.31,1179.02 2206.32,1181.02 2227.33,1182.95 2248.34,1184.83 2269.35,1186.65 2290.36,1188.42 \"/>\n",
       "<polyline clip-path=\"url(#clip332)\" style=\"stroke:#e26f46; stroke-linecap:round; stroke-linejoin:round; stroke-width:4; stroke-opacity:1; fill:none\" points=\"210.454,349.988 231.463,384.407 252.472,417.799 273.481,450.195 294.49,481.623 315.499,512.114 336.509,541.694 357.518,570.391 378.527,598.232 399.536,625.242 420.545,651.445 441.554,676.867 462.563,701.529 483.573,725.456 504.582,748.668 525.591,771.188 546.6,793.035 567.609,814.23 588.618,834.793 609.627,854.741 630.637,874.095 651.646,892.87 672.655,911.086 693.664,928.757 714.673,945.901 735.682,962.534 756.691,978.67 777.701,994.324 798.71,1009.51 819.719,1024.24 840.728,1038.54 861.737,1052.41 882.746,1065.86 903.755,1078.91 924.765,1091.57 945.774,1103.86 966.783,1115.77 987.792,1127.34 1008.8,1138.55 1029.81,1149.44 1050.82,1159.99 1071.83,1170.23 1092.84,1180.17 1113.85,1189.81 1134.86,1199.16 1155.87,1208.24 1176.87,1217.04 1197.88,1225.58 1218.89,1233.86 1239.9,1241.9 1260.91,1249.7 1281.92,1257.26 1302.93,1264.6 1323.94,1271.72 1344.95,1278.63 1365.96,1285.33 1386.97,1291.83 1407.97,1298.14 1428.98,1304.25 1449.99,1310.19 1471,1315.95 1492.01,1321.54 1513.02,1326.96 1534.03,1332.21 1555.04,1337.32 1576.05,1342.27 1597.06,1347.07 1618.07,1351.72 1639.08,1356.24 1660.08,1360.63 1681.09,1364.88 1702.1,1369.01 1723.11,1373.01 1744.12,1376.9 1765.13,1380.66 1786.14,1384.32 1807.15,1387.86 1828.16,1391.3 1849.17,1394.64 1870.18,1397.88 1891.19,1401.02 1912.19,1404.07 1933.2,1407.03 1954.21,1409.9 1975.22,1412.68 1996.23,1415.38 2017.24,1418 2038.25,1420.54 2059.26,1423 2080.27,1425.39 2101.28,1427.71 2122.29,1429.97 2143.29,1432.15 2164.3,1434.27 2185.31,1436.32 2206.32,1438.32 2227.33,1440.25 2248.34,1442.13 2269.35,1443.95 2290.36,1445.72 \"/>\n",
       "<polyline clip-path=\"url(#clip332)\" style=\"stroke:#3da44d; stroke-linecap:round; stroke-linejoin:round; stroke-width:4; stroke-opacity:1; fill:none\" points=\"210.454,473.927 231.463,473.927 252.472,473.927 273.481,473.927 294.49,473.927 315.499,473.927 336.509,473.927 357.518,473.927 378.527,473.927 399.536,473.927 420.545,473.927 441.554,473.927 462.563,473.927 483.573,473.927 504.582,473.927 525.591,473.927 546.6,473.927 567.609,473.927 588.618,473.927 609.627,473.927 630.637,473.927 651.646,473.927 672.655,473.927 693.664,473.927 714.673,473.927 735.682,473.927 756.691,473.927 777.701,473.927 798.71,473.927 819.719,473.927 840.728,473.927 861.737,473.927 882.746,473.927 903.755,473.927 924.765,473.927 945.774,473.927 966.783,473.927 987.792,473.927 1008.8,473.927 1029.81,473.927 1050.82,473.927 1071.83,473.927 1092.84,473.927 1113.85,473.927 1134.86,473.927 1155.87,473.927 1176.87,473.927 1197.88,473.927 1218.89,473.927 1239.9,473.927 1260.91,473.927 1281.92,473.927 1302.93,473.927 1323.94,473.927 1344.95,473.927 1365.96,473.927 1386.97,473.927 1407.97,473.927 1428.98,473.927 1449.99,473.927 1471,473.927 1492.01,473.927 1513.02,473.927 1534.03,473.927 1555.04,473.927 1576.05,473.927 1597.06,473.927 1618.07,473.927 1639.08,473.927 1660.08,473.927 1681.09,473.927 1702.1,473.927 1723.11,473.927 1744.12,473.927 1765.13,473.927 1786.14,473.927 1807.15,473.927 1828.16,473.927 1849.17,473.927 1870.18,473.927 1891.19,473.927 1912.19,473.927 1933.2,473.927 1954.21,473.927 1975.22,473.927 1996.23,473.927 2017.24,473.927 2038.25,473.927 2059.26,473.927 2080.27,473.927 2101.28,473.927 2122.29,473.927 2143.29,473.927 2164.3,473.927 2185.31,473.927 2206.32,473.927 2227.33,473.927 2248.34,473.927 2269.35,473.927 2290.36,473.927 \"/>\n",
       "<polyline clip-path=\"url(#clip332)\" style=\"stroke:#c271d2; stroke-linecap:round; stroke-linejoin:round; stroke-width:4; stroke-opacity:1; fill:none\" points=\"210.454,859.877 231.463,852.08 252.472,844.283 273.481,836.486 294.49,828.689 315.499,820.892 336.509,813.095 357.518,805.298 378.527,797.501 399.536,789.704 420.545,781.907 441.554,774.11 462.563,766.313 483.573,758.516 504.582,750.719 525.591,742.922 546.6,735.125 567.609,727.328 588.618,719.531 609.627,711.734 630.637,703.937 651.646,696.14 672.655,688.343 693.664,680.546 714.673,672.749 735.682,664.952 756.691,657.155 777.701,649.358 798.71,641.561 819.719,633.764 840.728,625.968 861.737,618.171 882.746,610.374 903.755,602.577 924.765,594.78 945.774,586.983 966.783,579.186 987.792,571.389 1008.8,563.592 1029.81,555.795 1050.82,547.998 1071.83,540.201 1092.84,532.404 1113.85,524.607 1134.86,516.81 1155.87,509.013 1176.87,501.216 1197.88,493.419 1218.89,485.622 1239.9,477.825 1260.91,470.028 1281.92,462.231 1302.93,454.434 1323.94,446.637 1344.95,438.84 1365.96,431.043 1386.97,423.246 1407.97,415.449 1428.98,407.652 1449.99,399.855 1471,392.058 1492.01,384.261 1513.02,376.464 1534.03,368.667 1555.04,360.87 1576.05,353.073 1597.06,345.276 1618.07,337.479 1639.08,329.682 1660.08,321.886 1681.09,314.089 1702.1,306.292 1723.11,298.495 1744.12,290.698 1765.13,282.901 1786.14,275.104 1807.15,267.307 1828.16,259.51 1849.17,251.713 1870.18,243.916 1891.19,236.119 1912.19,228.322 1933.2,220.525 1954.21,212.728 1975.22,204.931 1996.23,197.134 2017.24,189.337 2038.25,181.54 2059.26,173.743 2080.27,165.946 2101.28,158.149 2122.29,150.352 2143.29,142.555 2164.3,134.758 2185.31,126.961 2206.32,119.164 2227.33,111.367 2248.34,103.57 2269.35,95.7733 2290.36,87.9763 \"/>\n",
       "<path clip-path=\"url(#clip330)\" d=\"M221.547 1438.47 L609.909 1438.47 L609.909 1282.95 L221.547 1282.95  Z\" fill=\"#ffffff\" fill-rule=\"evenodd\" fill-opacity=\"1\"/>\n",
       "<polyline clip-path=\"url(#clip330)\" style=\"stroke:#000000; stroke-linecap:round; stroke-linejoin:round; stroke-width:4; stroke-opacity:1; fill:none\" points=\"221.547,1438.47 609.909,1438.47 609.909,1282.95 221.547,1282.95 221.547,1438.47 \"/>\n",
       "<polyline clip-path=\"url(#clip330)\" style=\"stroke:#009af9; stroke-linecap:round; stroke-linejoin:round; stroke-width:4; stroke-opacity:1; fill:none\" points=\"246.043,1334.79 393.023,1334.79 \"/>\n",
       "<path clip-path=\"url(#clip330)\" d=\"M421.802 1348.19 L421.802 1361.94 L417.52 1361.94 L417.52 1326.15 L421.802 1326.15 L421.802 1330.08 Q423.145 1327.77 425.182 1326.66 Q427.242 1325.52 430.089 1325.52 Q434.811 1325.52 437.751 1329.27 Q440.714 1333.02 440.714 1339.13 Q440.714 1345.25 437.751 1349 Q434.811 1352.75 430.089 1352.75 Q427.242 1352.75 425.182 1351.63 Q423.145 1350.5 421.802 1348.19 M436.293 1339.13 Q436.293 1334.44 434.348 1331.77 Q432.427 1329.09 429.048 1329.09 Q425.668 1329.09 423.724 1331.77 Q421.802 1334.44 421.802 1339.13 Q421.802 1343.83 423.724 1346.52 Q425.668 1349.18 429.048 1349.18 Q432.427 1349.18 434.348 1346.52 Q436.293 1343.83 436.293 1339.13 Z\" fill=\"#000000\" fill-rule=\"nonzero\" fill-opacity=\"1\" /><path clip-path=\"url(#clip330)\" d=\"M463.399 1330.55 L493.075 1330.55 L493.075 1334.44 L463.399 1334.44 L463.399 1330.55 M463.399 1339.99 L493.075 1339.99 L493.075 1343.93 L463.399 1343.93 L463.399 1339.99 Z\" fill=\"#000000\" fill-rule=\"nonzero\" fill-opacity=\"1\" /><path clip-path=\"url(#clip330)\" d=\"M532.404 1333.44 Q535.76 1334.16 537.635 1336.43 Q539.533 1338.69 539.533 1342.03 Q539.533 1347.14 536.015 1349.94 Q532.496 1352.75 526.015 1352.75 Q523.839 1352.75 521.524 1352.31 Q519.232 1351.89 516.779 1351.03 L516.779 1346.52 Q518.723 1347.65 521.038 1348.23 Q523.353 1348.81 525.876 1348.81 Q530.274 1348.81 532.566 1347.07 Q534.88 1345.34 534.88 1342.03 Q534.88 1338.97 532.728 1337.26 Q530.598 1335.52 526.779 1335.52 L522.751 1335.52 L522.751 1331.68 L526.964 1331.68 Q530.413 1331.68 532.241 1330.32 Q534.07 1328.93 534.07 1326.33 Q534.07 1323.67 532.172 1322.26 Q530.297 1320.82 526.779 1320.82 Q524.857 1320.82 522.658 1321.24 Q520.459 1321.66 517.82 1322.54 L517.82 1318.37 Q520.482 1317.63 522.797 1317.26 Q525.135 1316.89 527.195 1316.89 Q532.519 1316.89 535.621 1319.32 Q538.723 1321.73 538.723 1325.85 Q538.723 1328.72 537.079 1330.71 Q535.436 1332.68 532.404 1333.44 Z\" fill=\"#000000\" fill-rule=\"nonzero\" fill-opacity=\"1\" /><path clip-path=\"url(#clip330)\" d=\"M548.399 1346.19 L553.283 1346.19 L553.283 1352.07 L548.399 1352.07 L548.399 1346.19 Z\" fill=\"#000000\" fill-rule=\"nonzero\" fill-opacity=\"1\" /><path clip-path=\"url(#clip330)\" d=\"M573.468 1320.59 Q569.857 1320.59 568.028 1324.16 Q566.223 1327.7 566.223 1334.83 Q566.223 1341.94 568.028 1345.5 Q569.857 1349.04 573.468 1349.04 Q577.102 1349.04 578.908 1345.5 Q580.737 1341.94 580.737 1334.83 Q580.737 1327.7 578.908 1324.16 Q577.102 1320.59 573.468 1320.59 M573.468 1316.89 Q579.278 1316.89 582.334 1321.5 Q585.412 1326.08 585.412 1334.83 Q585.412 1343.56 582.334 1348.16 Q579.278 1352.75 573.468 1352.75 Q567.658 1352.75 564.579 1348.16 Q561.524 1343.56 561.524 1334.83 Q561.524 1326.08 564.579 1321.5 Q567.658 1316.89 573.468 1316.89 Z\" fill=\"#000000\" fill-rule=\"nonzero\" fill-opacity=\"1\" /><polyline clip-path=\"url(#clip330)\" style=\"stroke:#e26f46; stroke-linecap:round; stroke-linejoin:round; stroke-width:4; stroke-opacity:1; fill:none\" points=\"246.043,1386.63 393.023,1386.63 \"/>\n",
       "<path clip-path=\"url(#clip330)\" d=\"M421.802 1400.03 L421.802 1413.78 L417.52 1413.78 L417.52 1377.99 L421.802 1377.99 L421.802 1381.92 Q423.145 1379.61 425.182 1378.5 Q427.242 1377.36 430.089 1377.36 Q434.811 1377.36 437.751 1381.11 Q440.714 1384.86 440.714 1390.97 Q440.714 1397.09 437.751 1400.84 Q434.811 1404.59 430.089 1404.59 Q427.242 1404.59 425.182 1403.47 Q423.145 1402.34 421.802 1400.03 M436.293 1390.97 Q436.293 1386.28 434.348 1383.61 Q432.427 1380.93 429.048 1380.93 Q425.668 1380.93 423.724 1383.61 Q421.802 1386.28 421.802 1390.97 Q421.802 1395.67 423.724 1398.36 Q425.668 1401.02 429.048 1401.02 Q432.427 1401.02 434.348 1398.36 Q436.293 1395.67 436.293 1390.97 Z\" fill=\"#000000\" fill-rule=\"nonzero\" fill-opacity=\"1\" /><path clip-path=\"url(#clip330)\" d=\"M463.399 1382.39 L493.075 1382.39 L493.075 1386.28 L463.399 1386.28 L463.399 1382.39 M463.399 1391.83 L493.075 1391.83 L493.075 1395.77 L463.399 1395.77 L463.399 1391.83 Z\" fill=\"#000000\" fill-rule=\"nonzero\" fill-opacity=\"1\" /><path clip-path=\"url(#clip330)\" d=\"M531.084 1373.43 L519.279 1391.88 L531.084 1391.88 L531.084 1373.43 M529.857 1369.35 L535.737 1369.35 L535.737 1391.88 L540.667 1391.88 L540.667 1395.77 L535.737 1395.77 L535.737 1403.91 L531.084 1403.91 L531.084 1395.77 L515.482 1395.77 L515.482 1391.25 L529.857 1369.35 Z\" fill=\"#000000\" fill-rule=\"nonzero\" fill-opacity=\"1\" /><path clip-path=\"url(#clip330)\" d=\"M548.399 1398.03 L553.283 1398.03 L553.283 1403.91 L548.399 1403.91 L548.399 1398.03 Z\" fill=\"#000000\" fill-rule=\"nonzero\" fill-opacity=\"1\" /><path clip-path=\"url(#clip330)\" d=\"M573.468 1372.43 Q569.857 1372.43 568.028 1376 Q566.223 1379.54 566.223 1386.67 Q566.223 1393.78 568.028 1397.34 Q569.857 1400.88 573.468 1400.88 Q577.102 1400.88 578.908 1397.34 Q580.737 1393.78 580.737 1386.67 Q580.737 1379.54 578.908 1376 Q577.102 1372.43 573.468 1372.43 M573.468 1368.73 Q579.278 1368.73 582.334 1373.34 Q585.412 1377.92 585.412 1386.67 Q585.412 1395.4 582.334 1400 Q579.278 1404.59 573.468 1404.59 Q567.658 1404.59 564.579 1400 Q561.524 1395.4 561.524 1386.67 Q561.524 1377.92 564.579 1373.34 Q567.658 1368.73 573.468 1368.73 Z\" fill=\"#000000\" fill-rule=\"nonzero\" fill-opacity=\"1\" /></svg>\n"
      ]
     },
     "metadata": {},
     "output_type": "display_data"
    }
   ],
   "source": [
    "smallergrid = LinRange(-1.5, 1.5, 100)\n",
    "plot(smallergrid, g(smallergrid, p[1]), label = \"p = 3.0\")\n",
    "plot!(smallergrid, g(smallergrid, p[2]), label = \"p = 4.0\")\n",
    "plot!(smallergrid, zeros(100, 1), label = \"\")\n",
    "plot!(smallergrid, smallergrid, label = \"\") # plot y = x to look at the fixed point"
   ]
  },
  {
   "cell_type": "code",
   "execution_count": 77,
   "metadata": {},
   "outputs": [
    {
     "data": {
      "text/plain": [
       "Results of Nonlinear Solver Algorithm\n",
       " * Algorithm: Trust-region with dogleg and autoscaling\n",
       " * Starting Point: [0.0, 0.0]\n",
       " * Zero: [-1.0986122886681098, -1.3862943611198906]\n",
       " * Inf-norm of residuals: 0.000000\n",
       " * Iterations: 6\n",
       " * Convergence: true\n",
       "   * |x - x'| < 0.0e+00: false\n",
       "   * |f(x)| < 1.0e-08: true\n",
       " * Function Calls (f): 7\n",
       " * Jacobian Calls (df/dx): 7"
      ]
     },
     "metadata": {},
     "output_type": "display_data"
    }
   ],
   "source": [
    "# root finding without linear interpolation \n",
    "gp = x -> g(x,p) # change g into a one input funcion\n",
    "# first differencing\n",
    "nlsolve(gp, [0.0, 0.0], autodiff = :forward)"
   ]
  },
  {
   "cell_type": "markdown",
   "metadata": {},
   "source": [
    "You can also find the fixed point of it with ```fixedpoint()```. This is also hosted by the ```NLsolve``` package."
   ]
  },
  {
   "cell_type": "code",
   "execution_count": 78,
   "metadata": {},
   "outputs": [
    {
     "data": {
      "text/plain": [
       "Results of Nonlinear Solver Algorithm\n",
       " * Algorithm: Anderson m=2 beta=1 aa_start=1 droptol=0\n",
       " * Starting Point: [0.0, 0.0]\n",
       " * Zero: [-0.7920599684315333, -1.0737289380016115]\n",
       " * Inf-norm of residuals: 0.000000\n",
       " * Iterations: 11\n",
       " * Convergence: true\n",
       "   * |x - x'| < 0.0e+00: false\n",
       "   * |f(x)| < 1.0e-08: true\n",
       " * Function Calls (f): 11\n",
       " * Jacobian Calls (df/dx): 0"
      ]
     },
     "metadata": {},
     "output_type": "display_data"
    }
   ],
   "source": [
    "fixedpoint(gp, [0.0, 0.0])"
   ]
  },
  {
   "cell_type": "code",
   "execution_count": 79,
   "metadata": {},
   "outputs": [
    {
     "data": {
      "text/plain": [
       "Results of Nonlinear Solver Algorithm\n",
       " * Algorithm: Trust-region with dogleg and autoscaling\n",
       " * Starting Point: [0.0, 0.0]\n",
       " * Zero: [-1.0973932089692615, -1.3816279744002586]\n",
       " * Inf-norm of residuals: 0.000000\n",
       " * Iterations: 4\n",
       " * Convergence: true\n",
       "   * |x - x'| < 0.0e+00: false\n",
       "   * |f(x)| < 1.0e-08: true\n",
       " * Function Calls (f): 5\n",
       " * Jacobian Calls (df/dx): 5"
      ]
     },
     "metadata": {},
     "output_type": "display_data"
    }
   ],
   "source": [
    "# root finding with linear interpolation \n",
    "itp = lin_interp(model.x_grid, g, model.p; extrapolation = true) #need to allow extrapolation here otherwise it will raise an error\n",
    "itp_func = x -> diag(itp(x, 1:2)')\n",
    "nlsolve(itp_func, [0.0, 0.0])"
   ]
  },
  {
   "cell_type": "markdown",
   "metadata": {},
   "source": [
    "With the ```NonlinearSolve``` package, it works with the original function."
   ]
  },
  {
   "cell_type": "code",
   "execution_count": 80,
   "metadata": {},
   "outputs": [
    {
     "data": {
      "text/plain": [
       "u: 2-element SVector{2, Float64} with indices SOneTo(2):\n",
       " -1.0986122886681096\n",
       " -1.3862943611198906"
      ]
     },
     "metadata": {},
     "output_type": "display_data"
    }
   ],
   "source": [
    "x0 = @SVector[0.0, 0.0]\n",
    "prob = NonlinearProblem(g, x0, model.p)\n",
    "sol = solve(prob, NewtonRaphson(), reltol=1e-8)"
   ]
  },
  {
   "cell_type": "markdown",
   "metadata": {},
   "source": [
    "Now look at the interpolated function. In won't work with the ```NonlinearSolve``` package as the package as shown below. The reason is that the package takes use of automatic differentiation, which we don't have an analytical form to do it here. Check the documentation [here](https://docs.sciml.ai/NonlinearSolve/stable/solvers/NonlinearSystemSolvers/).\n"
   ]
  },
  {
   "cell_type": "code",
   "execution_count": 81,
   "metadata": {},
   "outputs": [
    {
     "ename": "SciMLBase.TooFewArgumentsError",
     "evalue": "All methods for the model function `f` had too few arguments. For example,\nan ODEProblem `f` must define either `f(u,p,t)` or `f(du,u,p,t)`. This error\ncan be thrown if you define an ODE model for example as `f(u,t)`. The parameters\n`p` are not optional in the definition of `f`! For more information on the required\nnumber of arguments for the function you were defining, consult the documentation\nfor the `SciMLProblem` or `SciMLFunction` type that was being constructed.\n\nFor example, here is the no parameter Lorenz equation. The two valid versions\nare out of place:\n\n```julia\nfunction lorenz(u,p,t)\n  du1 = 10.0*(u[2]-u[1])\n  du2 = u[1]*(28.0-u[3]) - u[2]\n  du3 = u[1]*u[2] - 8/3*u[3]\n  [du1,du2,du3]\n end\n u0 = [1.0;0.0;0.0]\n tspan = (0.0,100.0)\n prob = ODEProblem(lorenz,u0,tspan)\n```\n\nand in-place:\n\n```julia\nfunction lorenz!(du,u,p,t)\n  du[1] = 10.0*(u[2]-u[1])\n  du[2] = u[1]*(28.0-u[3]) - u[2]\n  du[3] = u[1]*u[2] - 8/3*u[3]\n end\n u0 = [1.0;0.0;0.0]\n tspan = (0.0,100.0)\n prob = ODEProblem(lorenz!,u0,tspan)\n```\n\nOffending function: f\nMethods:\n# 1 method for anonymous function \"#57\":\n [1] (::var\"#57#58\")(x)\n     @ ~/Documents/Notes/Julia code for kim/forKim.ipynb:2\n",
     "output_type": "error",
     "traceback": [
      "All methods for the model function `f` had too few arguments. For example,\n",
      "an ODEProblem `f` must define either `f(u,p,t)` or `f(du,u,p,t)`. This error\n",
      "can be thrown if you define an ODE model for example as `f(u,t)`. The parameters\n",
      "`p` are not optional in the definition of `f`! For more information on the required\n",
      "number of arguments for the function you were defining, consult the documentation\n",
      "for the `SciMLProblem` or `SciMLFunction` type that was being constructed.\n",
      "\n",
      "For example, here is the no parameter Lorenz equation. The two valid versions\n",
      "are out of place:\n",
      "\n",
      "```julia\n",
      "function lorenz(u,p,t)\n",
      "  du1 = 10.0*(u[2]-u[1])\n",
      "  du2 = u[1]*(28.0-u[3]) - u[2]\n",
      "  du3 = u[1]*u[2] - 8/3*u[3]\n",
      "  [du1,du2,du3]\n",
      " end\n",
      " u0 = [1.0;0.0;0.0]\n",
      " tspan = (0.0,100.0)\n",
      " prob = ODEProblem(lorenz,u0,tspan)\n",
      "```\n",
      "\n",
      "and in-place:\n",
      "\n",
      "```julia\n",
      "function lorenz!(du,u,p,t)\n",
      "  du[1] = 10.0*(u[2]-u[1])\n",
      "  du[2] = u[1]*(28.0-u[3]) - u[2]\n",
      "  du[3] = u[1]*u[2] - 8/3*u[3]\n",
      " end\n",
      " u0 = [1.0;0.0;0.0]\n",
      " tspan = (0.0,100.0)\n",
      " prob = ODEProblem(lorenz!,u0,tspan)\n",
      "```\n",
      "\n",
      "Offending function: f\n",
      "Methods:\n",
      "# 1 method for anonymous function \"#57\":\n",
      " [1] (::var\"#57#58\")(x)\n",
      "     @ ~/Documents/Notes/Julia code for kim/forKim.ipynb:2\n",
      "\n",
      "\n",
      "Stacktrace:\n",
      " [1] isinplace(f::Function, inplace_param_number::Int64, fname::String, iip_preferred::Bool; has_two_dispatches::Bool, isoptimization::Bool)\n",
      "   @ SciMLBase ~/.julia/packages/SciMLBase/MXZxL/src/utils.jl:262\n",
      " [2] isinplace\n",
      "   @ ~/.julia/packages/SciMLBase/MXZxL/src/utils.jl:235 [inlined]\n",
      " [3] isinplace(f::Function, inplace_param_number::Int64)\n",
      "   @ SciMLBase ~/.julia/packages/SciMLBase/MXZxL/src/utils.jl:235\n",
      " [4] NonlinearFunction(f::Function; kwargs::Base.Pairs{Symbol, Union{}, Tuple{}, NamedTuple{(), Tuple{}}})\n",
      "   @ SciMLBase ~/.julia/packages/SciMLBase/MXZxL/src/scimlfunctions.jl:3544\n",
      " [5] NonlinearFunction(f::Function)\n",
      "   @ SciMLBase ~/.julia/packages/SciMLBase/MXZxL/src/scimlfunctions.jl:3543\n",
      " [6] NonlinearProblem(f::Function, u0::SVector{2, Float64}, p::SciMLBase.NullParameters; kwargs::Base.Pairs{Symbol, Union{}, Tuple{}, NamedTuple{(), Tuple{}}})\n",
      "   @ SciMLBase ~/.julia/packages/SciMLBase/MXZxL/src/problems/basic_problems.jl:265\n",
      " [7] NonlinearProblem(f::Function, u0::SVector{2, Float64}, p::SciMLBase.NullParameters)\n",
      "   @ SciMLBase ~/.julia/packages/SciMLBase/MXZxL/src/problems/basic_problems.jl:264\n",
      " [8] NonlinearProblem(f::Function, u0::SVector{2, Float64})\n",
      "   @ SciMLBase ~/.julia/packages/SciMLBase/MXZxL/src/problems/basic_problems.jl:264\n",
      " [9] top-level scope\n",
      "   @ ~/Documents/Notes/Julia code for kim/forKim.ipynb:3"
     ]
    }
   ],
   "source": [
    "x0 = @SVector[0.0, 0.0]\n",
    "itp_func2 = x -> diag(itp(x, 1:2)')\n",
    "prob = NonlinearProblem(itp_func2, x0)\n",
    "sol = solve(prob, NewtonRaphson(), reltol=1e-8)"
   ]
  },
  {
   "cell_type": "markdown",
   "metadata": {},
   "source": [
    "### Step 5: fixing your code\n",
    "\n",
    "If you really like the Matlab styled code, the fix is really easy and I put it as the back. Redefine the function and use the ```NLsolve``` package, then you are good to go. However, I deliberately keep it to the end so that you can have a feeling about what more Julia styled code looks like. \n",
    "\n",
    "Now to run these we need all the ```Compecon``` stuff which I don't know very well."
   ]
  },
  {
   "cell_type": "code",
   "execution_count": 82,
   "metadata": {},
   "outputs": [],
   "source": [
    "import CompEcon: funfitxy, funeval, fundef, funnode, funbase, qnwnorm\n"
   ]
  },
  {
   "cell_type": "code",
   "execution_count": 97,
   "metadata": {},
   "outputs": [
    {
     "data": {
      "image/png": "[encoded data removed]",
      "image/svg+xml": [
       "<?xml version=\"1.0\" encoding=\"utf-8\"?>\n",
       "<svg xmlns=\"http://www.w3.org/2000/svg\" xmlns:xlink=\"http://www.w3.org/1999/xlink\" width=\"600\" height=\"400\" viewBox=\"0 0 2400 1600\">\n",
       "<defs>\n",
       "  <clipPath id=\"clip550\">\n",
       "    <rect x=\"0\" y=\"0\" width=\"2400\" height=\"1600\"/>\n",
       "  </clipPath>\n",
       "</defs>\n",
       "<path clip-path=\"url(#clip550)\" d=\"M0 1600 L2400 1600 L2400 0 L0 0  Z\" fill=\"#ffffff\" fill-rule=\"evenodd\" fill-opacity=\"1\"/>\n",
       "<defs>\n",
       "  <clipPath id=\"clip551\">\n",
       "    <rect x=\"480\" y=\"0\" width=\"1681\" height=\"1600\"/>\n",
       "  </clipPath>\n",
       "</defs>\n",
       "<path clip-path=\"url(#clip550)\" d=\"M209.029 1486.45 L2352.76 1486.45 L2352.76 47.2441 L209.029 47.2441  Z\" fill=\"#ffffff\" fill-rule=\"evenodd\" fill-opacity=\"1\"/>\n",
       "<defs>\n",
       "  <clipPath id=\"clip552\">\n",
       "    <rect x=\"209\" y=\"47\" width=\"2145\" height=\"1440\"/>\n",
       "  </clipPath>\n",
       "</defs>\n",
       "<polyline clip-path=\"url(#clip552)\" style=\"stroke:#000000; stroke-linecap:round; stroke-linejoin:round; stroke-width:2; stroke-opacity:0.1; fill:none\" points=\"269.7,1486.45 269.7,47.2441 \"/>\n",
       "<polyline clip-path=\"url(#clip552)\" style=\"stroke:#000000; stroke-linecap:round; stroke-linejoin:round; stroke-width:2; stroke-opacity:0.1; fill:none\" points=\"775.296,1486.45 775.296,47.2441 \"/>\n",
       "<polyline clip-path=\"url(#clip552)\" style=\"stroke:#000000; stroke-linecap:round; stroke-linejoin:round; stroke-width:2; stroke-opacity:0.1; fill:none\" points=\"1280.89,1486.45 1280.89,47.2441 \"/>\n",
       "<polyline clip-path=\"url(#clip552)\" style=\"stroke:#000000; stroke-linecap:round; stroke-linejoin:round; stroke-width:2; stroke-opacity:0.1; fill:none\" points=\"1786.49,1486.45 1786.49,47.2441 \"/>\n",
       "<polyline clip-path=\"url(#clip552)\" style=\"stroke:#000000; stroke-linecap:round; stroke-linejoin:round; stroke-width:2; stroke-opacity:0.1; fill:none\" points=\"2292.08,1486.45 2292.08,47.2441 \"/>\n",
       "<polyline clip-path=\"url(#clip550)\" style=\"stroke:#000000; stroke-linecap:round; stroke-linejoin:round; stroke-width:4; stroke-opacity:1; fill:none\" points=\"209.029,1486.45 2352.76,1486.45 \"/>\n",
       "<polyline clip-path=\"url(#clip550)\" style=\"stroke:#000000; stroke-linecap:round; stroke-linejoin:round; stroke-width:4; stroke-opacity:1; fill:none\" points=\"269.7,1486.45 269.7,1467.55 \"/>\n",
       "<polyline clip-path=\"url(#clip550)\" style=\"stroke:#000000; stroke-linecap:round; stroke-linejoin:round; stroke-width:4; stroke-opacity:1; fill:none\" points=\"775.296,1486.45 775.296,1467.55 \"/>\n",
       "<polyline clip-path=\"url(#clip550)\" style=\"stroke:#000000; stroke-linecap:round; stroke-linejoin:round; stroke-width:4; stroke-opacity:1; fill:none\" points=\"1280.89,1486.45 1280.89,1467.55 \"/>\n",
       "<polyline clip-path=\"url(#clip550)\" style=\"stroke:#000000; stroke-linecap:round; stroke-linejoin:round; stroke-width:4; stroke-opacity:1; fill:none\" points=\"1786.49,1486.45 1786.49,1467.55 \"/>\n",
       "<polyline clip-path=\"url(#clip550)\" style=\"stroke:#000000; stroke-linecap:round; stroke-linejoin:round; stroke-width:4; stroke-opacity:1; fill:none\" points=\"2292.08,1486.45 2292.08,1467.55 \"/>\n",
       "<path clip-path=\"url(#clip550)\" d=\"M223.763 1532.02 L253.439 1532.02 L253.439 1535.95 L223.763 1535.95 L223.763 1532.02 Z\" fill=\"#000000\" fill-rule=\"nonzero\" fill-opacity=\"1\" /><path clip-path=\"url(#clip550)\" d=\"M264.341 1544.91 L271.98 1544.91 L271.98 1518.55 L263.67 1520.21 L263.67 1515.95 L271.934 1514.29 L276.61 1514.29 L276.61 1544.91 L284.249 1544.91 L284.249 1548.85 L264.341 1548.85 L264.341 1544.91 Z\" fill=\"#000000\" fill-rule=\"nonzero\" fill-opacity=\"1\" /><path clip-path=\"url(#clip550)\" d=\"M303.693 1517.37 Q300.082 1517.37 298.253 1520.93 Q296.448 1524.47 296.448 1531.6 Q296.448 1538.71 298.253 1542.27 Q300.082 1545.82 303.693 1545.82 Q307.327 1545.82 309.133 1542.27 Q310.961 1538.71 310.961 1531.6 Q310.961 1524.47 309.133 1520.93 Q307.327 1517.37 303.693 1517.37 M303.693 1513.66 Q309.503 1513.66 312.559 1518.27 Q315.637 1522.85 315.637 1531.6 Q315.637 1540.33 312.559 1544.94 Q309.503 1549.52 303.693 1549.52 Q297.883 1549.52 294.804 1544.94 Q291.749 1540.33 291.749 1531.6 Q291.749 1522.85 294.804 1518.27 Q297.883 1513.66 303.693 1513.66 Z\" fill=\"#000000\" fill-rule=\"nonzero\" fill-opacity=\"1\" /><path clip-path=\"url(#clip550)\" d=\"M744.937 1532.02 L774.613 1532.02 L774.613 1535.95 L744.937 1535.95 L744.937 1532.02 Z\" fill=\"#000000\" fill-rule=\"nonzero\" fill-opacity=\"1\" /><path clip-path=\"url(#clip550)\" d=\"M784.752 1514.29 L803.108 1514.29 L803.108 1518.22 L789.034 1518.22 L789.034 1526.7 Q790.053 1526.35 791.072 1526.19 Q792.09 1526 793.109 1526 Q798.896 1526 802.275 1529.17 Q805.655 1532.34 805.655 1537.76 Q805.655 1543.34 802.183 1546.44 Q798.71 1549.52 792.391 1549.52 Q790.215 1549.52 787.947 1549.15 Q785.701 1548.78 783.294 1548.04 L783.294 1543.34 Q785.377 1544.47 787.599 1545.03 Q789.822 1545.58 792.298 1545.58 Q796.303 1545.58 798.641 1543.48 Q800.979 1541.37 800.979 1537.76 Q800.979 1534.15 798.641 1532.04 Q796.303 1529.94 792.298 1529.94 Q790.423 1529.94 788.548 1530.35 Q786.697 1530.77 784.752 1531.65 L784.752 1514.29 Z\" fill=\"#000000\" fill-rule=\"nonzero\" fill-opacity=\"1\" /><path clip-path=\"url(#clip550)\" d=\"M1280.89 1517.37 Q1277.28 1517.37 1275.45 1520.93 Q1273.65 1524.47 1273.65 1531.6 Q1273.65 1538.71 1275.45 1542.27 Q1277.28 1545.82 1280.89 1545.82 Q1284.53 1545.82 1286.33 1542.27 Q1288.16 1538.71 1288.16 1531.6 Q1288.16 1524.47 1286.33 1520.93 Q1284.53 1517.37 1280.89 1517.37 M1280.89 1513.66 Q1286.7 1513.66 1289.76 1518.27 Q1292.84 1522.85 1292.84 1531.6 Q1292.84 1540.33 1289.76 1544.94 Q1286.7 1549.52 1280.89 1549.52 Q1275.08 1549.52 1272 1544.94 Q1268.95 1540.33 1268.95 1531.6 Q1268.95 1522.85 1272 1518.27 Q1275.08 1513.66 1280.89 1513.66 Z\" fill=\"#000000\" fill-rule=\"nonzero\" fill-opacity=\"1\" /><path clip-path=\"url(#clip550)\" d=\"M1776.77 1514.29 L1795.12 1514.29 L1795.12 1518.22 L1781.05 1518.22 L1781.05 1526.7 Q1782.07 1526.35 1783.09 1526.19 Q1784.1 1526 1785.12 1526 Q1790.91 1526 1794.29 1529.17 Q1797.67 1532.34 1797.67 1537.76 Q1797.67 1543.34 1794.2 1546.44 Q1790.72 1549.52 1784.4 1549.52 Q1782.23 1549.52 1779.96 1549.15 Q1777.72 1548.78 1775.31 1548.04 L1775.31 1543.34 Q1777.39 1544.47 1779.61 1545.03 Q1781.84 1545.58 1784.31 1545.58 Q1788.32 1545.58 1790.65 1543.48 Q1792.99 1541.37 1792.99 1537.76 Q1792.99 1534.15 1790.65 1532.04 Q1788.32 1529.94 1784.31 1529.94 Q1782.44 1529.94 1780.56 1530.35 Q1778.71 1530.77 1776.77 1531.65 L1776.77 1514.29 Z\" fill=\"#000000\" fill-rule=\"nonzero\" fill-opacity=\"1\" /><path clip-path=\"url(#clip550)\" d=\"M2266.77 1544.91 L2274.41 1544.91 L2274.41 1518.55 L2266.1 1520.21 L2266.1 1515.95 L2274.36 1514.29 L2279.04 1514.29 L2279.04 1544.91 L2286.68 1544.91 L2286.68 1548.85 L2266.77 1548.85 L2266.77 1544.91 Z\" fill=\"#000000\" fill-rule=\"nonzero\" fill-opacity=\"1\" /><path clip-path=\"url(#clip550)\" d=\"M2306.12 1517.37 Q2302.51 1517.37 2300.68 1520.93 Q2298.88 1524.47 2298.88 1531.6 Q2298.88 1538.71 2300.68 1542.27 Q2302.51 1545.82 2306.12 1545.82 Q2309.76 1545.82 2311.56 1542.27 Q2313.39 1538.71 2313.39 1531.6 Q2313.39 1524.47 2311.56 1520.93 Q2309.76 1517.37 2306.12 1517.37 M2306.12 1513.66 Q2311.93 1513.66 2314.99 1518.27 Q2318.07 1522.85 2318.07 1531.6 Q2318.07 1540.33 2314.99 1544.94 Q2311.93 1549.52 2306.12 1549.52 Q2300.31 1549.52 2297.23 1544.94 Q2294.18 1540.33 2294.18 1531.6 Q2294.18 1522.85 2297.23 1518.27 Q2300.31 1513.66 2306.12 1513.66 Z\" fill=\"#000000\" fill-rule=\"nonzero\" fill-opacity=\"1\" /><polyline clip-path=\"url(#clip552)\" style=\"stroke:#000000; stroke-linecap:round; stroke-linejoin:round; stroke-width:2; stroke-opacity:0.1; fill:none\" points=\"209.029,1293.07 2352.76,1293.07 \"/>\n",
       "<polyline clip-path=\"url(#clip552)\" style=\"stroke:#000000; stroke-linecap:round; stroke-linejoin:round; stroke-width:2; stroke-opacity:0.1; fill:none\" points=\"209.029,891.356 2352.76,891.356 \"/>\n",
       "<polyline clip-path=\"url(#clip552)\" style=\"stroke:#000000; stroke-linecap:round; stroke-linejoin:round; stroke-width:2; stroke-opacity:0.1; fill:none\" points=\"209.029,489.646 2352.76,489.646 \"/>\n",
       "<polyline clip-path=\"url(#clip552)\" style=\"stroke:#000000; stroke-linecap:round; stroke-linejoin:round; stroke-width:2; stroke-opacity:0.1; fill:none\" points=\"209.029,87.9361 2352.76,87.9361 \"/>\n",
       "<polyline clip-path=\"url(#clip550)\" style=\"stroke:#000000; stroke-linecap:round; stroke-linejoin:round; stroke-width:4; stroke-opacity:1; fill:none\" points=\"209.029,1486.45 209.029,47.2441 \"/>\n",
       "<polyline clip-path=\"url(#clip550)\" style=\"stroke:#000000; stroke-linecap:round; stroke-linejoin:round; stroke-width:4; stroke-opacity:1; fill:none\" points=\"209.029,1293.07 227.926,1293.07 \"/>\n",
       "<polyline clip-path=\"url(#clip550)\" style=\"stroke:#000000; stroke-linecap:round; stroke-linejoin:round; stroke-width:4; stroke-opacity:1; fill:none\" points=\"209.029,891.356 227.926,891.356 \"/>\n",
       "<polyline clip-path=\"url(#clip550)\" style=\"stroke:#000000; stroke-linecap:round; stroke-linejoin:round; stroke-width:4; stroke-opacity:1; fill:none\" points=\"209.029,489.646 227.926,489.646 \"/>\n",
       "<polyline clip-path=\"url(#clip550)\" style=\"stroke:#000000; stroke-linecap:round; stroke-linejoin:round; stroke-width:4; stroke-opacity:1; fill:none\" points=\"209.029,87.9361 227.926,87.9361 \"/>\n",
       "<path clip-path=\"url(#clip550)\" d=\"M50.9921 1293.52 L80.6679 1293.52 L80.6679 1297.45 L50.9921 1297.45 L50.9921 1293.52 Z\" fill=\"#000000\" fill-rule=\"nonzero\" fill-opacity=\"1\" /><path clip-path=\"url(#clip550)\" d=\"M91.5706 1306.41 L99.2095 1306.41 L99.2095 1280.05 L90.8993 1281.71 L90.8993 1277.45 L99.1632 1275.79 L103.839 1275.79 L103.839 1306.41 L111.478 1306.41 L111.478 1310.35 L91.5706 1310.35 L91.5706 1306.41 Z\" fill=\"#000000\" fill-rule=\"nonzero\" fill-opacity=\"1\" /><path clip-path=\"url(#clip550)\" d=\"M120.969 1275.79 L139.325 1275.79 L139.325 1279.72 L125.251 1279.72 L125.251 1288.19 Q126.27 1287.85 127.288 1287.68 Q128.307 1287.5 129.325 1287.5 Q135.112 1287.5 138.492 1290.67 Q141.871 1293.84 141.871 1299.26 Q141.871 1304.84 138.399 1307.94 Q134.927 1311.02 128.607 1311.02 Q126.432 1311.02 124.163 1310.65 Q121.918 1310.28 119.51 1309.54 L119.51 1304.84 Q121.594 1305.97 123.816 1306.53 Q126.038 1307.08 128.515 1307.08 Q132.519 1307.08 134.857 1304.98 Q137.195 1302.87 137.195 1299.26 Q137.195 1295.65 134.857 1293.54 Q132.519 1291.43 128.515 1291.43 Q126.64 1291.43 124.765 1291.85 Q122.913 1292.27 120.969 1293.15 L120.969 1275.79 Z\" fill=\"#000000\" fill-rule=\"nonzero\" fill-opacity=\"1\" /><path clip-path=\"url(#clip550)\" d=\"M161.084 1278.86 Q157.473 1278.86 155.644 1282.43 Q153.839 1285.97 153.839 1293.1 Q153.839 1300.21 155.644 1303.77 Q157.473 1307.31 161.084 1307.31 Q164.718 1307.31 166.524 1303.77 Q168.353 1300.21 168.353 1293.1 Q168.353 1285.97 166.524 1282.43 Q164.718 1278.86 161.084 1278.86 M161.084 1275.16 Q166.894 1275.16 169.95 1279.77 Q173.029 1284.35 173.029 1293.1 Q173.029 1301.83 169.95 1306.43 Q166.894 1311.02 161.084 1311.02 Q155.274 1311.02 152.195 1306.43 Q149.14 1301.83 149.14 1293.1 Q149.14 1284.35 152.195 1279.77 Q155.274 1275.16 161.084 1275.16 Z\" fill=\"#000000\" fill-rule=\"nonzero\" fill-opacity=\"1\" /><path clip-path=\"url(#clip550)\" d=\"M50.9921 891.807 L80.6679 891.807 L80.6679 895.743 L50.9921 895.743 L50.9921 891.807 Z\" fill=\"#000000\" fill-rule=\"nonzero\" fill-opacity=\"1\" /><path clip-path=\"url(#clip550)\" d=\"M91.5706 904.701 L99.2095 904.701 L99.2095 878.335 L90.8993 880.002 L90.8993 875.743 L99.1632 874.076 L103.839 874.076 L103.839 904.701 L111.478 904.701 L111.478 908.636 L91.5706 908.636 L91.5706 904.701 Z\" fill=\"#000000\" fill-rule=\"nonzero\" fill-opacity=\"1\" /><path clip-path=\"url(#clip550)\" d=\"M130.922 877.155 Q127.311 877.155 125.482 880.719 Q123.677 884.261 123.677 891.391 Q123.677 898.497 125.482 902.062 Q127.311 905.604 130.922 905.604 Q134.556 905.604 136.362 902.062 Q138.191 898.497 138.191 891.391 Q138.191 884.261 136.362 880.719 Q134.556 877.155 130.922 877.155 M130.922 873.451 Q136.732 873.451 139.788 878.057 Q142.867 882.641 142.867 891.391 Q142.867 900.118 139.788 904.724 Q136.732 909.307 130.922 909.307 Q125.112 909.307 122.033 904.724 Q118.978 900.118 118.978 891.391 Q118.978 882.641 122.033 878.057 Q125.112 873.451 130.922 873.451 Z\" fill=\"#000000\" fill-rule=\"nonzero\" fill-opacity=\"1\" /><path clip-path=\"url(#clip550)\" d=\"M161.084 877.155 Q157.473 877.155 155.644 880.719 Q153.839 884.261 153.839 891.391 Q153.839 898.497 155.644 902.062 Q157.473 905.604 161.084 905.604 Q164.718 905.604 166.524 902.062 Q168.353 898.497 168.353 891.391 Q168.353 884.261 166.524 880.719 Q164.718 877.155 161.084 877.155 M161.084 873.451 Q166.894 873.451 169.95 878.057 Q173.029 882.641 173.029 891.391 Q173.029 900.118 169.95 904.724 Q166.894 909.307 161.084 909.307 Q155.274 909.307 152.195 904.724 Q149.14 900.118 149.14 891.391 Q149.14 882.641 152.195 878.057 Q155.274 873.451 161.084 873.451 Z\" fill=\"#000000\" fill-rule=\"nonzero\" fill-opacity=\"1\" /><path clip-path=\"url(#clip550)\" d=\"M81.154 490.097 L110.83 490.097 L110.83 494.033 L81.154 494.033 L81.154 490.097 Z\" fill=\"#000000\" fill-rule=\"nonzero\" fill-opacity=\"1\" /><path clip-path=\"url(#clip550)\" d=\"M120.969 472.366 L139.325 472.366 L139.325 476.301 L125.251 476.301 L125.251 484.773 Q126.27 484.426 127.288 484.264 Q128.307 484.079 129.325 484.079 Q135.112 484.079 138.492 487.25 Q141.871 490.422 141.871 495.838 Q141.871 501.417 138.399 504.519 Q134.927 507.597 128.607 507.597 Q126.432 507.597 124.163 507.227 Q121.918 506.857 119.51 506.116 L119.51 501.417 Q121.594 502.551 123.816 503.107 Q126.038 503.662 128.515 503.662 Q132.519 503.662 134.857 501.556 Q137.195 499.449 137.195 495.838 Q137.195 492.227 134.857 490.121 Q132.519 488.014 128.515 488.014 Q126.64 488.014 124.765 488.431 Q122.913 488.847 120.969 489.727 L120.969 472.366 Z\" fill=\"#000000\" fill-rule=\"nonzero\" fill-opacity=\"1\" /><path clip-path=\"url(#clip550)\" d=\"M161.084 475.445 Q157.473 475.445 155.644 479.01 Q153.839 482.551 153.839 489.681 Q153.839 496.787 155.644 500.352 Q157.473 503.894 161.084 503.894 Q164.718 503.894 166.524 500.352 Q168.353 496.787 168.353 489.681 Q168.353 482.551 166.524 479.01 Q164.718 475.445 161.084 475.445 M161.084 471.741 Q166.894 471.741 169.95 476.348 Q173.029 480.931 173.029 489.681 Q173.029 498.408 169.95 503.014 Q166.894 507.597 161.084 507.597 Q155.274 507.597 152.195 503.014 Q149.14 498.408 149.14 489.681 Q149.14 480.931 152.195 476.348 Q155.274 471.741 161.084 471.741 Z\" fill=\"#000000\" fill-rule=\"nonzero\" fill-opacity=\"1\" /><path clip-path=\"url(#clip550)\" d=\"M161.084 73.7348 Q157.473 73.7348 155.644 77.2996 Q153.839 80.8412 153.839 87.9708 Q153.839 95.0773 155.644 98.6421 Q157.473 102.184 161.084 102.184 Q164.718 102.184 166.524 98.6421 Q168.353 95.0773 168.353 87.9708 Q168.353 80.8412 166.524 77.2996 Q164.718 73.7348 161.084 73.7348 M161.084 70.0311 Q166.894 70.0311 169.95 74.6376 Q173.029 79.2209 173.029 87.9708 Q173.029 96.6976 169.95 101.304 Q166.894 105.887 161.084 105.887 Q155.274 105.887 152.195 101.304 Q149.14 96.6976 149.14 87.9708 Q149.14 79.2209 152.195 74.6376 Q155.274 70.0311 161.084 70.0311 Z\" fill=\"#000000\" fill-rule=\"nonzero\" fill-opacity=\"1\" /><polyline clip-path=\"url(#clip552)\" style=\"stroke:#009af9; stroke-linecap:round; stroke-linejoin:round; stroke-width:4; stroke-opacity:1; fill:none\" points=\"269.7,1445.72 290.128,1403.84 310.556,1362.63 330.984,1322.07 351.413,1282.16 371.841,1242.91 392.269,1204.32 412.697,1166.38 433.125,1129.1 453.553,1092.48 473.981,1056.51 494.409,1021.19 514.838,986.534 535.266,952.532 555.694,919.185 576.122,886.494 596.55,854.459 616.978,823.08 637.406,792.356 657.834,762.288 678.263,732.876 698.691,704.12 719.119,676.02 739.547,648.575 759.975,621.786 780.403,595.653 800.831,570.176 821.259,545.354 841.688,521.189 862.116,497.679 882.544,474.824 902.972,452.626 923.4,431.084 943.828,410.197 964.256,389.966 984.684,370.391 1005.11,351.471 1025.54,333.207 1045.97,315.6 1066.4,298.648 1086.83,282.351 1107.25,266.711 1127.68,251.726 1148.11,237.397 1168.54,223.724 1188.97,210.707 1209.39,198.345 1229.82,186.639 1250.25,175.589 1270.68,165.195 1291.11,155.457 1311.53,146.374 1331.96,137.947 1352.39,130.176 1372.82,123.061 1393.25,116.601 1413.68,110.798 1434.1,105.65 1454.53,101.158 1474.96,97.3212 1495.39,94.1407 1515.82,91.6159 1536.24,89.7469 1556.67,88.5337 1577.1,87.9763 1597.53,88.0746 1617.96,88.8288 1638.38,90.2387 1658.81,92.3045 1679.24,95.026 1699.67,98.4033 1720.1,102.436 1740.53,107.125 1760.95,112.47 1781.38,118.47 1801.81,125.127 1822.24,132.439 1842.67,140.406 1863.09,149.03 1883.52,158.309 1903.95,168.244 1924.38,178.835 1944.81,190.082 1965.23,201.985 1985.66,214.543 2006.09,227.757 2026.52,241.627 2046.95,256.153 2067.38,271.334 2087.8,287.171 2108.23,303.664 2128.66,320.813 2149.09,338.618 2169.52,357.078 2189.94,376.194 2210.37,395.966 2230.8,416.394 2251.23,437.477 2271.66,459.217 2292.08,481.612 \"/>\n",
       "<circle clip-path=\"url(#clip552)\" cx=\"471.938\" cy=\"1060.07\" r=\"14.4\" fill=\"#e26f46\" fill-rule=\"evenodd\" fill-opacity=\"1\" stroke=\"#000000\" stroke-opacity=\"1\" stroke-width=\"3.2\"/>\n",
       "<circle clip-path=\"url(#clip552)\" cx=\"562.414\" cy=\"908.359\" r=\"14.4\" fill=\"#e26f46\" fill-rule=\"evenodd\" fill-opacity=\"1\" stroke=\"#000000\" stroke-opacity=\"1\" stroke-width=\"3.2\"/>\n",
       "<circle clip-path=\"url(#clip552)\" cx=\"652.889\" cy=\"769.508\" r=\"14.4\" fill=\"#e26f46\" fill-rule=\"evenodd\" fill-opacity=\"1\" stroke=\"#000000\" stroke-opacity=\"1\" stroke-width=\"3.2\"/>\n",
       "<circle clip-path=\"url(#clip552)\" cx=\"743.364\" cy=\"643.52\" r=\"14.4\" fill=\"#e26f46\" fill-rule=\"evenodd\" fill-opacity=\"1\" stroke=\"#000000\" stroke-opacity=\"1\" stroke-width=\"3.2\"/>\n",
       "<circle clip-path=\"url(#clip552)\" cx=\"833.839\" cy=\"530.396\" r=\"14.4\" fill=\"#e26f46\" fill-rule=\"evenodd\" fill-opacity=\"1\" stroke=\"#000000\" stroke-opacity=\"1\" stroke-width=\"3.2\"/>\n",
       "<circle clip-path=\"url(#clip552)\" cx=\"924.314\" cy=\"430.135\" r=\"14.4\" fill=\"#e26f46\" fill-rule=\"evenodd\" fill-opacity=\"1\" stroke=\"#000000\" stroke-opacity=\"1\" stroke-width=\"3.2\"/>\n",
       "<circle clip-path=\"url(#clip552)\" cx=\"1014.79\" cy=\"342.738\" r=\"14.4\" fill=\"#e26f46\" fill-rule=\"evenodd\" fill-opacity=\"1\" stroke=\"#000000\" stroke-opacity=\"1\" stroke-width=\"3.2\"/>\n",
       "<circle clip-path=\"url(#clip552)\" cx=\"1105.26\" cy=\"268.205\" r=\"14.4\" fill=\"#e26f46\" fill-rule=\"evenodd\" fill-opacity=\"1\" stroke=\"#000000\" stroke-opacity=\"1\" stroke-width=\"3.2\"/>\n",
       "<circle clip-path=\"url(#clip552)\" cx=\"1195.74\" cy=\"206.535\" r=\"14.4\" fill=\"#e26f46\" fill-rule=\"evenodd\" fill-opacity=\"1\" stroke=\"#000000\" stroke-opacity=\"1\" stroke-width=\"3.2\"/>\n",
       "<circle clip-path=\"url(#clip552)\" cx=\"1286.21\" cy=\"157.729\" r=\"14.4\" fill=\"#e26f46\" fill-rule=\"evenodd\" fill-opacity=\"1\" stroke=\"#000000\" stroke-opacity=\"1\" stroke-width=\"3.2\"/>\n",
       "<circle clip-path=\"url(#clip552)\" cx=\"1376.69\" cy=\"121.787\" r=\"14.4\" fill=\"#e26f46\" fill-rule=\"evenodd\" fill-opacity=\"1\" stroke=\"#000000\" stroke-opacity=\"1\" stroke-width=\"3.2\"/>\n",
       "<circle clip-path=\"url(#clip552)\" cx=\"1467.16\" cy=\"98.7077\" r=\"14.4\" fill=\"#e26f46\" fill-rule=\"evenodd\" fill-opacity=\"1\" stroke=\"#000000\" stroke-opacity=\"1\" stroke-width=\"3.2\"/>\n",
       "<circle clip-path=\"url(#clip552)\" cx=\"1557.64\" cy=\"88.4925\" r=\"14.4\" fill=\"#e26f46\" fill-rule=\"evenodd\" fill-opacity=\"1\" stroke=\"#000000\" stroke-opacity=\"1\" stroke-width=\"3.2\"/>\n",
       "<circle clip-path=\"url(#clip552)\" cx=\"1648.11\" cy=\"91.1409\" r=\"14.4\" fill=\"#e26f46\" fill-rule=\"evenodd\" fill-opacity=\"1\" stroke=\"#000000\" stroke-opacity=\"1\" stroke-width=\"3.2\"/>\n",
       "<circle clip-path=\"url(#clip552)\" cx=\"1738.59\" cy=\"106.653\" r=\"14.4\" fill=\"#e26f46\" fill-rule=\"evenodd\" fill-opacity=\"1\" stroke=\"#000000\" stroke-opacity=\"1\" stroke-width=\"3.2\"/>\n",
       "<circle clip-path=\"url(#clip552)\" cx=\"1829.06\" cy=\"135.029\" r=\"14.4\" fill=\"#e26f46\" fill-rule=\"evenodd\" fill-opacity=\"1\" stroke=\"#000000\" stroke-opacity=\"1\" stroke-width=\"3.2\"/>\n",
       "<circle clip-path=\"url(#clip552)\" cx=\"1919.54\" cy=\"176.268\" r=\"14.4\" fill=\"#e26f46\" fill-rule=\"evenodd\" fill-opacity=\"1\" stroke=\"#000000\" stroke-opacity=\"1\" stroke-width=\"3.2\"/>\n",
       "<circle clip-path=\"url(#clip552)\" cx=\"2010.01\" cy=\"230.371\" r=\"14.4\" fill=\"#e26f46\" fill-rule=\"evenodd\" fill-opacity=\"1\" stroke=\"#000000\" stroke-opacity=\"1\" stroke-width=\"3.2\"/>\n",
       "<circle clip-path=\"url(#clip552)\" cx=\"2100.49\" cy=\"297.337\" r=\"14.4\" fill=\"#e26f46\" fill-rule=\"evenodd\" fill-opacity=\"1\" stroke=\"#000000\" stroke-opacity=\"1\" stroke-width=\"3.2\"/>\n",
       "<circle clip-path=\"url(#clip552)\" cx=\"2190.97\" cy=\"377.167\" r=\"14.4\" fill=\"#e26f46\" fill-rule=\"evenodd\" fill-opacity=\"1\" stroke=\"#000000\" stroke-opacity=\"1\" stroke-width=\"3.2\"/>\n",
       "<path clip-path=\"url(#clip550)\" d=\"M280.486 250.738 L547.289 250.738 L547.289 95.2176 L280.486 95.2176  Z\" fill=\"#ffffff\" fill-rule=\"evenodd\" fill-opacity=\"1\"/>\n",
       "<polyline clip-path=\"url(#clip550)\" style=\"stroke:#000000; stroke-linecap:round; stroke-linejoin:round; stroke-width:4; stroke-opacity:1; fill:none\" points=\"280.486,250.738 547.289,250.738 547.289,95.2176 280.486,95.2176 280.486,250.738 \"/>\n",
       "<polyline clip-path=\"url(#clip550)\" style=\"stroke:#009af9; stroke-linecap:round; stroke-linejoin:round; stroke-width:4; stroke-opacity:1; fill:none\" points=\"304.305,147.058 447.22,147.058 \"/>\n",
       "<path clip-path=\"url(#clip550)\" d=\"M484.882 166.745 Q483.077 171.375 481.364 172.787 Q479.651 174.199 476.78 174.199 L473.378 174.199 L473.378 170.634 L475.878 170.634 Q477.637 170.634 478.609 169.8 Q479.581 168.967 480.762 165.865 L481.526 163.921 L471.04 138.412 L475.554 138.412 L483.655 158.689 L491.757 138.412 L496.271 138.412 L484.882 166.745 Z\" fill=\"#000000\" fill-rule=\"nonzero\" fill-opacity=\"1\" /><path clip-path=\"url(#clip550)\" d=\"M503.563 160.402 L511.201 160.402 L511.201 134.037 L502.891 135.703 L502.891 131.444 L511.155 129.778 L515.831 129.778 L515.831 160.402 L523.47 160.402 L523.47 164.338 L503.563 164.338 L503.563 160.402 Z\" fill=\"#000000\" fill-rule=\"nonzero\" fill-opacity=\"1\" /><circle clip-path=\"url(#clip550)\" cx=\"375.763\" cy=\"198.898\" r=\"20.48\" fill=\"#e26f46\" fill-rule=\"evenodd\" fill-opacity=\"1\" stroke=\"#000000\" stroke-opacity=\"1\" stroke-width=\"4.55111\"/>\n",
       "<path clip-path=\"url(#clip550)\" d=\"M484.882 218.585 Q483.077 223.215 481.364 224.627 Q479.651 226.039 476.78 226.039 L473.378 226.039 L473.378 222.474 L475.878 222.474 Q477.637 222.474 478.609 221.64 Q479.581 220.807 480.762 217.705 L481.526 215.761 L471.04 190.252 L475.554 190.252 L483.655 210.529 L491.757 190.252 L496.271 190.252 L484.882 218.585 Z\" fill=\"#000000\" fill-rule=\"nonzero\" fill-opacity=\"1\" /><path clip-path=\"url(#clip550)\" d=\"M506.78 212.242 L523.1 212.242 L523.1 216.178 L501.155 216.178 L501.155 212.242 Q503.817 209.488 508.401 204.858 Q513.007 200.205 514.188 198.863 Q516.433 196.34 517.313 194.604 Q518.215 192.844 518.215 191.155 Q518.215 188.4 516.271 186.664 Q514.35 184.928 511.248 184.928 Q509.049 184.928 506.595 185.692 Q504.164 186.455 501.387 188.006 L501.387 183.284 Q504.211 182.15 506.664 181.571 Q509.118 180.993 511.155 180.993 Q516.526 180.993 519.72 183.678 Q522.914 186.363 522.914 190.854 Q522.914 192.983 522.104 194.905 Q521.317 196.803 519.211 199.395 Q518.632 200.067 515.53 203.284 Q512.428 206.479 506.78 212.242 Z\" fill=\"#000000\" fill-rule=\"nonzero\" fill-opacity=\"1\" /></svg>\n"
      ],
      "text/html": [
       "<?xml version=\"1.0\" encoding=\"utf-8\"?>\n",
       "<svg xmlns=\"http://www.w3.org/2000/svg\" xmlns:xlink=\"http://www.w3.org/1999/xlink\" width=\"600\" height=\"400\" viewBox=\"0 0 2400 1600\">\n",
       "<defs>\n",
       "  <clipPath id=\"clip600\">\n",
       "    <rect x=\"0\" y=\"0\" width=\"2400\" height=\"1600\"/>\n",
       "  </clipPath>\n",
       "</defs>\n",
       "<path clip-path=\"url(#clip600)\" d=\"M0 1600 L2400 1600 L2400 0 L0 0  Z\" fill=\"#ffffff\" fill-rule=\"evenodd\" fill-opacity=\"1\"/>\n",
       "<defs>\n",
       "  <clipPath id=\"clip601\">\n",
       "    <rect x=\"480\" y=\"0\" width=\"1681\" height=\"1600\"/>\n",
       "  </clipPath>\n",
       "</defs>\n",
       "<path clip-path=\"url(#clip600)\" d=\"M209.029 1486.45 L2352.76 1486.45 L2352.76 47.2441 L209.029 47.2441  Z\" fill=\"#ffffff\" fill-rule=\"evenodd\" fill-opacity=\"1\"/>\n",
       "<defs>\n",
       "  <clipPath id=\"clip602\">\n",
       "    <rect x=\"209\" y=\"47\" width=\"2145\" height=\"1440\"/>\n",
       "  </clipPath>\n",
       "</defs>\n",
       "<polyline clip-path=\"url(#clip602)\" style=\"stroke:#000000; stroke-linecap:round; stroke-linejoin:round; stroke-width:2; stroke-opacity:0.1; fill:none\" points=\"269.7,1486.45 269.7,47.2441 \"/>\n",
       "<polyline clip-path=\"url(#clip602)\" style=\"stroke:#000000; stroke-linecap:round; stroke-linejoin:round; stroke-width:2; stroke-opacity:0.1; fill:none\" points=\"775.296,1486.45 775.296,47.2441 \"/>\n",
       "<polyline clip-path=\"url(#clip602)\" style=\"stroke:#000000; stroke-linecap:round; stroke-linejoin:round; stroke-width:2; stroke-opacity:0.1; fill:none\" points=\"1280.89,1486.45 1280.89,47.2441 \"/>\n",
       "<polyline clip-path=\"url(#clip602)\" style=\"stroke:#000000; stroke-linecap:round; stroke-linejoin:round; stroke-width:2; stroke-opacity:0.1; fill:none\" points=\"1786.49,1486.45 1786.49,47.2441 \"/>\n",
       "<polyline clip-path=\"url(#clip602)\" style=\"stroke:#000000; stroke-linecap:round; stroke-linejoin:round; stroke-width:2; stroke-opacity:0.1; fill:none\" points=\"2292.08,1486.45 2292.08,47.2441 \"/>\n",
       "<polyline clip-path=\"url(#clip600)\" style=\"stroke:#000000; stroke-linecap:round; stroke-linejoin:round; stroke-width:4; stroke-opacity:1; fill:none\" points=\"209.029,1486.45 2352.76,1486.45 \"/>\n",
       "<polyline clip-path=\"url(#clip600)\" style=\"stroke:#000000; stroke-linecap:round; stroke-linejoin:round; stroke-width:4; stroke-opacity:1; fill:none\" points=\"269.7,1486.45 269.7,1467.55 \"/>\n",
       "<polyline clip-path=\"url(#clip600)\" style=\"stroke:#000000; stroke-linecap:round; stroke-linejoin:round; stroke-width:4; stroke-opacity:1; fill:none\" points=\"775.296,1486.45 775.296,1467.55 \"/>\n",
       "<polyline clip-path=\"url(#clip600)\" style=\"stroke:#000000; stroke-linecap:round; stroke-linejoin:round; stroke-width:4; stroke-opacity:1; fill:none\" points=\"1280.89,1486.45 1280.89,1467.55 \"/>\n",
       "<polyline clip-path=\"url(#clip600)\" style=\"stroke:#000000; stroke-linecap:round; stroke-linejoin:round; stroke-width:4; stroke-opacity:1; fill:none\" points=\"1786.49,1486.45 1786.49,1467.55 \"/>\n",
       "<polyline clip-path=\"url(#clip600)\" style=\"stroke:#000000; stroke-linecap:round; stroke-linejoin:round; stroke-width:4; stroke-opacity:1; fill:none\" points=\"2292.08,1486.45 2292.08,1467.55 \"/>\n",
       "<path clip-path=\"url(#clip600)\" d=\"M223.763 1532.02 L253.439 1532.02 L253.439 1535.95 L223.763 1535.95 L223.763 1532.02 Z\" fill=\"#000000\" fill-rule=\"nonzero\" fill-opacity=\"1\" /><path clip-path=\"url(#clip600)\" d=\"M264.341 1544.91 L271.98 1544.91 L271.98 1518.55 L263.67 1520.21 L263.67 1515.95 L271.934 1514.29 L276.61 1514.29 L276.61 1544.91 L284.249 1544.91 L284.249 1548.85 L264.341 1548.85 L264.341 1544.91 Z\" fill=\"#000000\" fill-rule=\"nonzero\" fill-opacity=\"1\" /><path clip-path=\"url(#clip600)\" d=\"M303.693 1517.37 Q300.082 1517.37 298.253 1520.93 Q296.448 1524.47 296.448 1531.6 Q296.448 1538.71 298.253 1542.27 Q300.082 1545.82 303.693 1545.82 Q307.327 1545.82 309.133 1542.27 Q310.961 1538.71 310.961 1531.6 Q310.961 1524.47 309.133 1520.93 Q307.327 1517.37 303.693 1517.37 M303.693 1513.66 Q309.503 1513.66 312.559 1518.27 Q315.637 1522.85 315.637 1531.6 Q315.637 1540.33 312.559 1544.94 Q309.503 1549.52 303.693 1549.52 Q297.883 1549.52 294.804 1544.94 Q291.749 1540.33 291.749 1531.6 Q291.749 1522.85 294.804 1518.27 Q297.883 1513.66 303.693 1513.66 Z\" fill=\"#000000\" fill-rule=\"nonzero\" fill-opacity=\"1\" /><path clip-path=\"url(#clip600)\" d=\"M744.937 1532.02 L774.613 1532.02 L774.613 1535.95 L744.937 1535.95 L744.937 1532.02 Z\" fill=\"#000000\" fill-rule=\"nonzero\" fill-opacity=\"1\" /><path clip-path=\"url(#clip600)\" d=\"M784.752 1514.29 L803.108 1514.29 L803.108 1518.22 L789.034 1518.22 L789.034 1526.7 Q790.053 1526.35 791.072 1526.19 Q792.09 1526 793.109 1526 Q798.896 1526 802.275 1529.17 Q805.655 1532.34 805.655 1537.76 Q805.655 1543.34 802.183 1546.44 Q798.71 1549.52 792.391 1549.52 Q790.215 1549.52 787.947 1549.15 Q785.701 1548.78 783.294 1548.04 L783.294 1543.34 Q785.377 1544.47 787.599 1545.03 Q789.822 1545.58 792.298 1545.58 Q796.303 1545.58 798.641 1543.48 Q800.979 1541.37 800.979 1537.76 Q800.979 1534.15 798.641 1532.04 Q796.303 1529.94 792.298 1529.94 Q790.423 1529.94 788.548 1530.35 Q786.697 1530.77 784.752 1531.65 L784.752 1514.29 Z\" fill=\"#000000\" fill-rule=\"nonzero\" fill-opacity=\"1\" /><path clip-path=\"url(#clip600)\" d=\"M1280.89 1517.37 Q1277.28 1517.37 1275.45 1520.93 Q1273.65 1524.47 1273.65 1531.6 Q1273.65 1538.71 1275.45 1542.27 Q1277.28 1545.82 1280.89 1545.82 Q1284.53 1545.82 1286.33 1542.27 Q1288.16 1538.71 1288.16 1531.6 Q1288.16 1524.47 1286.33 1520.93 Q1284.53 1517.37 1280.89 1517.37 M1280.89 1513.66 Q1286.7 1513.66 1289.76 1518.27 Q1292.84 1522.85 1292.84 1531.6 Q1292.84 1540.33 1289.76 1544.94 Q1286.7 1549.52 1280.89 1549.52 Q1275.08 1549.52 1272 1544.94 Q1268.95 1540.33 1268.95 1531.6 Q1268.95 1522.85 1272 1518.27 Q1275.08 1513.66 1280.89 1513.66 Z\" fill=\"#000000\" fill-rule=\"nonzero\" fill-opacity=\"1\" /><path clip-path=\"url(#clip600)\" d=\"M1776.77 1514.29 L1795.12 1514.29 L1795.12 1518.22 L1781.05 1518.22 L1781.05 1526.7 Q1782.07 1526.35 1783.09 1526.19 Q1784.1 1526 1785.12 1526 Q1790.91 1526 1794.29 1529.17 Q1797.67 1532.34 1797.67 1537.76 Q1797.67 1543.34 1794.2 1546.44 Q1790.72 1549.52 1784.4 1549.52 Q1782.23 1549.52 1779.96 1549.15 Q1777.72 1548.78 1775.31 1548.04 L1775.31 1543.34 Q1777.39 1544.47 1779.61 1545.03 Q1781.84 1545.58 1784.31 1545.58 Q1788.32 1545.58 1790.65 1543.48 Q1792.99 1541.37 1792.99 1537.76 Q1792.99 1534.15 1790.65 1532.04 Q1788.32 1529.94 1784.31 1529.94 Q1782.44 1529.94 1780.56 1530.35 Q1778.71 1530.77 1776.77 1531.65 L1776.77 1514.29 Z\" fill=\"#000000\" fill-rule=\"nonzero\" fill-opacity=\"1\" /><path clip-path=\"url(#clip600)\" d=\"M2266.77 1544.91 L2274.41 1544.91 L2274.41 1518.55 L2266.1 1520.21 L2266.1 1515.95 L2274.36 1514.29 L2279.04 1514.29 L2279.04 1544.91 L2286.68 1544.91 L2286.68 1548.85 L2266.77 1548.85 L2266.77 1544.91 Z\" fill=\"#000000\" fill-rule=\"nonzero\" fill-opacity=\"1\" /><path clip-path=\"url(#clip600)\" d=\"M2306.12 1517.37 Q2302.51 1517.37 2300.68 1520.93 Q2298.88 1524.47 2298.88 1531.6 Q2298.88 1538.71 2300.68 1542.27 Q2302.51 1545.82 2306.12 1545.82 Q2309.76 1545.82 2311.56 1542.27 Q2313.39 1538.71 2313.39 1531.6 Q2313.39 1524.47 2311.56 1520.93 Q2309.76 1517.37 2306.12 1517.37 M2306.12 1513.66 Q2311.93 1513.66 2314.99 1518.27 Q2318.07 1522.85 2318.07 1531.6 Q2318.07 1540.33 2314.99 1544.94 Q2311.93 1549.52 2306.12 1549.52 Q2300.31 1549.52 2297.23 1544.94 Q2294.18 1540.33 2294.18 1531.6 Q2294.18 1522.85 2297.23 1518.27 Q2300.31 1513.66 2306.12 1513.66 Z\" fill=\"#000000\" fill-rule=\"nonzero\" fill-opacity=\"1\" /><polyline clip-path=\"url(#clip602)\" style=\"stroke:#000000; stroke-linecap:round; stroke-linejoin:round; stroke-width:2; stroke-opacity:0.1; fill:none\" points=\"209.029,1293.07 2352.76,1293.07 \"/>\n",
       "<polyline clip-path=\"url(#clip602)\" style=\"stroke:#000000; stroke-linecap:round; stroke-linejoin:round; stroke-width:2; stroke-opacity:0.1; fill:none\" points=\"209.029,891.356 2352.76,891.356 \"/>\n",
       "<polyline clip-path=\"url(#clip602)\" style=\"stroke:#000000; stroke-linecap:round; stroke-linejoin:round; stroke-width:2; stroke-opacity:0.1; fill:none\" points=\"209.029,489.646 2352.76,489.646 \"/>\n",
       "<polyline clip-path=\"url(#clip602)\" style=\"stroke:#000000; stroke-linecap:round; stroke-linejoin:round; stroke-width:2; stroke-opacity:0.1; fill:none\" points=\"209.029,87.9361 2352.76,87.9361 \"/>\n",
       "<polyline clip-path=\"url(#clip600)\" style=\"stroke:#000000; stroke-linecap:round; stroke-linejoin:round; stroke-width:4; stroke-opacity:1; fill:none\" points=\"209.029,1486.45 209.029,47.2441 \"/>\n",
       "<polyline clip-path=\"url(#clip600)\" style=\"stroke:#000000; stroke-linecap:round; stroke-linejoin:round; stroke-width:4; stroke-opacity:1; fill:none\" points=\"209.029,1293.07 227.926,1293.07 \"/>\n",
       "<polyline clip-path=\"url(#clip600)\" style=\"stroke:#000000; stroke-linecap:round; stroke-linejoin:round; stroke-width:4; stroke-opacity:1; fill:none\" points=\"209.029,891.356 227.926,891.356 \"/>\n",
       "<polyline clip-path=\"url(#clip600)\" style=\"stroke:#000000; stroke-linecap:round; stroke-linejoin:round; stroke-width:4; stroke-opacity:1; fill:none\" points=\"209.029,489.646 227.926,489.646 \"/>\n",
       "<polyline clip-path=\"url(#clip600)\" style=\"stroke:#000000; stroke-linecap:round; stroke-linejoin:round; stroke-width:4; stroke-opacity:1; fill:none\" points=\"209.029,87.9361 227.926,87.9361 \"/>\n",
       "<path clip-path=\"url(#clip600)\" d=\"M50.9921 1293.52 L80.6679 1293.52 L80.6679 1297.45 L50.9921 1297.45 L50.9921 1293.52 Z\" fill=\"#000000\" fill-rule=\"nonzero\" fill-opacity=\"1\" /><path clip-path=\"url(#clip600)\" d=\"M91.5706 1306.41 L99.2095 1306.41 L99.2095 1280.05 L90.8993 1281.71 L90.8993 1277.45 L99.1632 1275.79 L103.839 1275.79 L103.839 1306.41 L111.478 1306.41 L111.478 1310.35 L91.5706 1310.35 L91.5706 1306.41 Z\" fill=\"#000000\" fill-rule=\"nonzero\" fill-opacity=\"1\" /><path clip-path=\"url(#clip600)\" d=\"M120.969 1275.79 L139.325 1275.79 L139.325 1279.72 L125.251 1279.72 L125.251 1288.19 Q126.27 1287.85 127.288 1287.68 Q128.307 1287.5 129.325 1287.5 Q135.112 1287.5 138.492 1290.67 Q141.871 1293.84 141.871 1299.26 Q141.871 1304.84 138.399 1307.94 Q134.927 1311.02 128.607 1311.02 Q126.432 1311.02 124.163 1310.65 Q121.918 1310.28 119.51 1309.54 L119.51 1304.84 Q121.594 1305.97 123.816 1306.53 Q126.038 1307.08 128.515 1307.08 Q132.519 1307.08 134.857 1304.98 Q137.195 1302.87 137.195 1299.26 Q137.195 1295.65 134.857 1293.54 Q132.519 1291.43 128.515 1291.43 Q126.64 1291.43 124.765 1291.85 Q122.913 1292.27 120.969 1293.15 L120.969 1275.79 Z\" fill=\"#000000\" fill-rule=\"nonzero\" fill-opacity=\"1\" /><path clip-path=\"url(#clip600)\" d=\"M161.084 1278.86 Q157.473 1278.86 155.644 1282.43 Q153.839 1285.97 153.839 1293.1 Q153.839 1300.21 155.644 1303.77 Q157.473 1307.31 161.084 1307.31 Q164.718 1307.31 166.524 1303.77 Q168.353 1300.21 168.353 1293.1 Q168.353 1285.97 166.524 1282.43 Q164.718 1278.86 161.084 1278.86 M161.084 1275.16 Q166.894 1275.16 169.95 1279.77 Q173.029 1284.35 173.029 1293.1 Q173.029 1301.83 169.95 1306.43 Q166.894 1311.02 161.084 1311.02 Q155.274 1311.02 152.195 1306.43 Q149.14 1301.83 149.14 1293.1 Q149.14 1284.35 152.195 1279.77 Q155.274 1275.16 161.084 1275.16 Z\" fill=\"#000000\" fill-rule=\"nonzero\" fill-opacity=\"1\" /><path clip-path=\"url(#clip600)\" d=\"M50.9921 891.807 L80.6679 891.807 L80.6679 895.743 L50.9921 895.743 L50.9921 891.807 Z\" fill=\"#000000\" fill-rule=\"nonzero\" fill-opacity=\"1\" /><path clip-path=\"url(#clip600)\" d=\"M91.5706 904.701 L99.2095 904.701 L99.2095 878.335 L90.8993 880.002 L90.8993 875.743 L99.1632 874.076 L103.839 874.076 L103.839 904.701 L111.478 904.701 L111.478 908.636 L91.5706 908.636 L91.5706 904.701 Z\" fill=\"#000000\" fill-rule=\"nonzero\" fill-opacity=\"1\" /><path clip-path=\"url(#clip600)\" d=\"M130.922 877.155 Q127.311 877.155 125.482 880.719 Q123.677 884.261 123.677 891.391 Q123.677 898.497 125.482 902.062 Q127.311 905.604 130.922 905.604 Q134.556 905.604 136.362 902.062 Q138.191 898.497 138.191 891.391 Q138.191 884.261 136.362 880.719 Q134.556 877.155 130.922 877.155 M130.922 873.451 Q136.732 873.451 139.788 878.057 Q142.867 882.641 142.867 891.391 Q142.867 900.118 139.788 904.724 Q136.732 909.307 130.922 909.307 Q125.112 909.307 122.033 904.724 Q118.978 900.118 118.978 891.391 Q118.978 882.641 122.033 878.057 Q125.112 873.451 130.922 873.451 Z\" fill=\"#000000\" fill-rule=\"nonzero\" fill-opacity=\"1\" /><path clip-path=\"url(#clip600)\" d=\"M161.084 877.155 Q157.473 877.155 155.644 880.719 Q153.839 884.261 153.839 891.391 Q153.839 898.497 155.644 902.062 Q157.473 905.604 161.084 905.604 Q164.718 905.604 166.524 902.062 Q168.353 898.497 168.353 891.391 Q168.353 884.261 166.524 880.719 Q164.718 877.155 161.084 877.155 M161.084 873.451 Q166.894 873.451 169.95 878.057 Q173.029 882.641 173.029 891.391 Q173.029 900.118 169.95 904.724 Q166.894 909.307 161.084 909.307 Q155.274 909.307 152.195 904.724 Q149.14 900.118 149.14 891.391 Q149.14 882.641 152.195 878.057 Q155.274 873.451 161.084 873.451 Z\" fill=\"#000000\" fill-rule=\"nonzero\" fill-opacity=\"1\" /><path clip-path=\"url(#clip600)\" d=\"M81.154 490.097 L110.83 490.097 L110.83 494.033 L81.154 494.033 L81.154 490.097 Z\" fill=\"#000000\" fill-rule=\"nonzero\" fill-opacity=\"1\" /><path clip-path=\"url(#clip600)\" d=\"M120.969 472.366 L139.325 472.366 L139.325 476.301 L125.251 476.301 L125.251 484.773 Q126.27 484.426 127.288 484.264 Q128.307 484.079 129.325 484.079 Q135.112 484.079 138.492 487.25 Q141.871 490.422 141.871 495.838 Q141.871 501.417 138.399 504.519 Q134.927 507.597 128.607 507.597 Q126.432 507.597 124.163 507.227 Q121.918 506.857 119.51 506.116 L119.51 501.417 Q121.594 502.551 123.816 503.107 Q126.038 503.662 128.515 503.662 Q132.519 503.662 134.857 501.556 Q137.195 499.449 137.195 495.838 Q137.195 492.227 134.857 490.121 Q132.519 488.014 128.515 488.014 Q126.64 488.014 124.765 488.431 Q122.913 488.847 120.969 489.727 L120.969 472.366 Z\" fill=\"#000000\" fill-rule=\"nonzero\" fill-opacity=\"1\" /><path clip-path=\"url(#clip600)\" d=\"M161.084 475.445 Q157.473 475.445 155.644 479.01 Q153.839 482.551 153.839 489.681 Q153.839 496.787 155.644 500.352 Q157.473 503.894 161.084 503.894 Q164.718 503.894 166.524 500.352 Q168.353 496.787 168.353 489.681 Q168.353 482.551 166.524 479.01 Q164.718 475.445 161.084 475.445 M161.084 471.741 Q166.894 471.741 169.95 476.348 Q173.029 480.931 173.029 489.681 Q173.029 498.408 169.95 503.014 Q166.894 507.597 161.084 507.597 Q155.274 507.597 152.195 503.014 Q149.14 498.408 149.14 489.681 Q149.14 480.931 152.195 476.348 Q155.274 471.741 161.084 471.741 Z\" fill=\"#000000\" fill-rule=\"nonzero\" fill-opacity=\"1\" /><path clip-path=\"url(#clip600)\" d=\"M161.084 73.7348 Q157.473 73.7348 155.644 77.2996 Q153.839 80.8412 153.839 87.9708 Q153.839 95.0773 155.644 98.6421 Q157.473 102.184 161.084 102.184 Q164.718 102.184 166.524 98.6421 Q168.353 95.0773 168.353 87.9708 Q168.353 80.8412 166.524 77.2996 Q164.718 73.7348 161.084 73.7348 M161.084 70.0311 Q166.894 70.0311 169.95 74.6376 Q173.029 79.2209 173.029 87.9708 Q173.029 96.6976 169.95 101.304 Q166.894 105.887 161.084 105.887 Q155.274 105.887 152.195 101.304 Q149.14 96.6976 149.14 87.9708 Q149.14 79.2209 152.195 74.6376 Q155.274 70.0311 161.084 70.0311 Z\" fill=\"#000000\" fill-rule=\"nonzero\" fill-opacity=\"1\" /><polyline clip-path=\"url(#clip602)\" style=\"stroke:#009af9; stroke-linecap:round; stroke-linejoin:round; stroke-width:4; stroke-opacity:1; fill:none\" points=\"269.7,1445.72 290.128,1403.84 310.556,1362.63 330.984,1322.07 351.413,1282.16 371.841,1242.91 392.269,1204.32 412.697,1166.38 433.125,1129.1 453.553,1092.48 473.981,1056.51 494.409,1021.19 514.838,986.534 535.266,952.532 555.694,919.185 576.122,886.494 596.55,854.459 616.978,823.08 637.406,792.356 657.834,762.288 678.263,732.876 698.691,704.12 719.119,676.02 739.547,648.575 759.975,621.786 780.403,595.653 800.831,570.176 821.259,545.354 841.688,521.189 862.116,497.679 882.544,474.824 902.972,452.626 923.4,431.084 943.828,410.197 964.256,389.966 984.684,370.391 1005.11,351.471 1025.54,333.207 1045.97,315.6 1066.4,298.648 1086.83,282.351 1107.25,266.711 1127.68,251.726 1148.11,237.397 1168.54,223.724 1188.97,210.707 1209.39,198.345 1229.82,186.639 1250.25,175.589 1270.68,165.195 1291.11,155.457 1311.53,146.374 1331.96,137.947 1352.39,130.176 1372.82,123.061 1393.25,116.601 1413.68,110.798 1434.1,105.65 1454.53,101.158 1474.96,97.3212 1495.39,94.1407 1515.82,91.6159 1536.24,89.7469 1556.67,88.5337 1577.1,87.9763 1597.53,88.0746 1617.96,88.8288 1638.38,90.2387 1658.81,92.3045 1679.24,95.026 1699.67,98.4033 1720.1,102.436 1740.53,107.125 1760.95,112.47 1781.38,118.47 1801.81,125.127 1822.24,132.439 1842.67,140.406 1863.09,149.03 1883.52,158.309 1903.95,168.244 1924.38,178.835 1944.81,190.082 1965.23,201.985 1985.66,214.543 2006.09,227.757 2026.52,241.627 2046.95,256.153 2067.38,271.334 2087.8,287.171 2108.23,303.664 2128.66,320.813 2149.09,338.618 2169.52,357.078 2189.94,376.194 2210.37,395.966 2230.8,416.394 2251.23,437.477 2271.66,459.217 2292.08,481.612 \"/>\n",
       "<circle clip-path=\"url(#clip602)\" cx=\"471.938\" cy=\"1060.07\" r=\"14.4\" fill=\"#e26f46\" fill-rule=\"evenodd\" fill-opacity=\"1\" stroke=\"#000000\" stroke-opacity=\"1\" stroke-width=\"3.2\"/>\n",
       "<circle clip-path=\"url(#clip602)\" cx=\"562.414\" cy=\"908.359\" r=\"14.4\" fill=\"#e26f46\" fill-rule=\"evenodd\" fill-opacity=\"1\" stroke=\"#000000\" stroke-opacity=\"1\" stroke-width=\"3.2\"/>\n",
       "<circle clip-path=\"url(#clip602)\" cx=\"652.889\" cy=\"769.508\" r=\"14.4\" fill=\"#e26f46\" fill-rule=\"evenodd\" fill-opacity=\"1\" stroke=\"#000000\" stroke-opacity=\"1\" stroke-width=\"3.2\"/>\n",
       "<circle clip-path=\"url(#clip602)\" cx=\"743.364\" cy=\"643.52\" r=\"14.4\" fill=\"#e26f46\" fill-rule=\"evenodd\" fill-opacity=\"1\" stroke=\"#000000\" stroke-opacity=\"1\" stroke-width=\"3.2\"/>\n",
       "<circle clip-path=\"url(#clip602)\" cx=\"833.839\" cy=\"530.396\" r=\"14.4\" fill=\"#e26f46\" fill-rule=\"evenodd\" fill-opacity=\"1\" stroke=\"#000000\" stroke-opacity=\"1\" stroke-width=\"3.2\"/>\n",
       "<circle clip-path=\"url(#clip602)\" cx=\"924.314\" cy=\"430.135\" r=\"14.4\" fill=\"#e26f46\" fill-rule=\"evenodd\" fill-opacity=\"1\" stroke=\"#000000\" stroke-opacity=\"1\" stroke-width=\"3.2\"/>\n",
       "<circle clip-path=\"url(#clip602)\" cx=\"1014.79\" cy=\"342.738\" r=\"14.4\" fill=\"#e26f46\" fill-rule=\"evenodd\" fill-opacity=\"1\" stroke=\"#000000\" stroke-opacity=\"1\" stroke-width=\"3.2\"/>\n",
       "<circle clip-path=\"url(#clip602)\" cx=\"1105.26\" cy=\"268.205\" r=\"14.4\" fill=\"#e26f46\" fill-rule=\"evenodd\" fill-opacity=\"1\" stroke=\"#000000\" stroke-opacity=\"1\" stroke-width=\"3.2\"/>\n",
       "<circle clip-path=\"url(#clip602)\" cx=\"1195.74\" cy=\"206.535\" r=\"14.4\" fill=\"#e26f46\" fill-rule=\"evenodd\" fill-opacity=\"1\" stroke=\"#000000\" stroke-opacity=\"1\" stroke-width=\"3.2\"/>\n",
       "<circle clip-path=\"url(#clip602)\" cx=\"1286.21\" cy=\"157.729\" r=\"14.4\" fill=\"#e26f46\" fill-rule=\"evenodd\" fill-opacity=\"1\" stroke=\"#000000\" stroke-opacity=\"1\" stroke-width=\"3.2\"/>\n",
       "<circle clip-path=\"url(#clip602)\" cx=\"1376.69\" cy=\"121.787\" r=\"14.4\" fill=\"#e26f46\" fill-rule=\"evenodd\" fill-opacity=\"1\" stroke=\"#000000\" stroke-opacity=\"1\" stroke-width=\"3.2\"/>\n",
       "<circle clip-path=\"url(#clip602)\" cx=\"1467.16\" cy=\"98.7077\" r=\"14.4\" fill=\"#e26f46\" fill-rule=\"evenodd\" fill-opacity=\"1\" stroke=\"#000000\" stroke-opacity=\"1\" stroke-width=\"3.2\"/>\n",
       "<circle clip-path=\"url(#clip602)\" cx=\"1557.64\" cy=\"88.4925\" r=\"14.4\" fill=\"#e26f46\" fill-rule=\"evenodd\" fill-opacity=\"1\" stroke=\"#000000\" stroke-opacity=\"1\" stroke-width=\"3.2\"/>\n",
       "<circle clip-path=\"url(#clip602)\" cx=\"1648.11\" cy=\"91.1409\" r=\"14.4\" fill=\"#e26f46\" fill-rule=\"evenodd\" fill-opacity=\"1\" stroke=\"#000000\" stroke-opacity=\"1\" stroke-width=\"3.2\"/>\n",
       "<circle clip-path=\"url(#clip602)\" cx=\"1738.59\" cy=\"106.653\" r=\"14.4\" fill=\"#e26f46\" fill-rule=\"evenodd\" fill-opacity=\"1\" stroke=\"#000000\" stroke-opacity=\"1\" stroke-width=\"3.2\"/>\n",
       "<circle clip-path=\"url(#clip602)\" cx=\"1829.06\" cy=\"135.029\" r=\"14.4\" fill=\"#e26f46\" fill-rule=\"evenodd\" fill-opacity=\"1\" stroke=\"#000000\" stroke-opacity=\"1\" stroke-width=\"3.2\"/>\n",
       "<circle clip-path=\"url(#clip602)\" cx=\"1919.54\" cy=\"176.268\" r=\"14.4\" fill=\"#e26f46\" fill-rule=\"evenodd\" fill-opacity=\"1\" stroke=\"#000000\" stroke-opacity=\"1\" stroke-width=\"3.2\"/>\n",
       "<circle clip-path=\"url(#clip602)\" cx=\"2010.01\" cy=\"230.371\" r=\"14.4\" fill=\"#e26f46\" fill-rule=\"evenodd\" fill-opacity=\"1\" stroke=\"#000000\" stroke-opacity=\"1\" stroke-width=\"3.2\"/>\n",
       "<circle clip-path=\"url(#clip602)\" cx=\"2100.49\" cy=\"297.337\" r=\"14.4\" fill=\"#e26f46\" fill-rule=\"evenodd\" fill-opacity=\"1\" stroke=\"#000000\" stroke-opacity=\"1\" stroke-width=\"3.2\"/>\n",
       "<circle clip-path=\"url(#clip602)\" cx=\"2190.97\" cy=\"377.167\" r=\"14.4\" fill=\"#e26f46\" fill-rule=\"evenodd\" fill-opacity=\"1\" stroke=\"#000000\" stroke-opacity=\"1\" stroke-width=\"3.2\"/>\n",
       "<path clip-path=\"url(#clip600)\" d=\"M280.486 250.738 L547.289 250.738 L547.289 95.2176 L280.486 95.2176  Z\" fill=\"#ffffff\" fill-rule=\"evenodd\" fill-opacity=\"1\"/>\n",
       "<polyline clip-path=\"url(#clip600)\" style=\"stroke:#000000; stroke-linecap:round; stroke-linejoin:round; stroke-width:4; stroke-opacity:1; fill:none\" points=\"280.486,250.738 547.289,250.738 547.289,95.2176 280.486,95.2176 280.486,250.738 \"/>\n",
       "<polyline clip-path=\"url(#clip600)\" style=\"stroke:#009af9; stroke-linecap:round; stroke-linejoin:round; stroke-width:4; stroke-opacity:1; fill:none\" points=\"304.305,147.058 447.22,147.058 \"/>\n",
       "<path clip-path=\"url(#clip600)\" d=\"M484.882 166.745 Q483.077 171.375 481.364 172.787 Q479.651 174.199 476.78 174.199 L473.378 174.199 L473.378 170.634 L475.878 170.634 Q477.637 170.634 478.609 169.8 Q479.581 168.967 480.762 165.865 L481.526 163.921 L471.04 138.412 L475.554 138.412 L483.655 158.689 L491.757 138.412 L496.271 138.412 L484.882 166.745 Z\" fill=\"#000000\" fill-rule=\"nonzero\" fill-opacity=\"1\" /><path clip-path=\"url(#clip600)\" d=\"M503.563 160.402 L511.201 160.402 L511.201 134.037 L502.891 135.703 L502.891 131.444 L511.155 129.778 L515.831 129.778 L515.831 160.402 L523.47 160.402 L523.47 164.338 L503.563 164.338 L503.563 160.402 Z\" fill=\"#000000\" fill-rule=\"nonzero\" fill-opacity=\"1\" /><circle clip-path=\"url(#clip600)\" cx=\"375.763\" cy=\"198.898\" r=\"20.48\" fill=\"#e26f46\" fill-rule=\"evenodd\" fill-opacity=\"1\" stroke=\"#000000\" stroke-opacity=\"1\" stroke-width=\"4.55111\"/>\n",
       "<path clip-path=\"url(#clip600)\" d=\"M484.882 218.585 Q483.077 223.215 481.364 224.627 Q479.651 226.039 476.78 226.039 L473.378 226.039 L473.378 222.474 L475.878 222.474 Q477.637 222.474 478.609 221.64 Q479.581 220.807 480.762 217.705 L481.526 215.761 L471.04 190.252 L475.554 190.252 L483.655 210.529 L491.757 190.252 L496.271 190.252 L484.882 218.585 Z\" fill=\"#000000\" fill-rule=\"nonzero\" fill-opacity=\"1\" /><path clip-path=\"url(#clip600)\" d=\"M506.78 212.242 L523.1 212.242 L523.1 216.178 L501.155 216.178 L501.155 212.242 Q503.817 209.488 508.401 204.858 Q513.007 200.205 514.188 198.863 Q516.433 196.34 517.313 194.604 Q518.215 192.844 518.215 191.155 Q518.215 188.4 516.271 186.664 Q514.35 184.928 511.248 184.928 Q509.049 184.928 506.595 185.692 Q504.164 186.455 501.387 188.006 L501.387 183.284 Q504.211 182.15 506.664 181.571 Q509.118 180.993 511.155 180.993 Q516.526 180.993 519.72 183.678 Q522.914 186.363 522.914 190.854 Q522.914 192.983 522.104 194.905 Q521.317 196.803 519.211 199.395 Q518.632 200.067 515.53 203.284 Q512.428 206.479 506.78 212.242 Z\" fill=\"#000000\" fill-rule=\"nonzero\" fill-opacity=\"1\" /></svg>\n"
      ]
     },
     "metadata": {},
     "output_type": "display_data"
    }
   ],
   "source": [
    "fx = f(x, 3);\n",
    "function create_interp(minx, maxx, n, f, x)\n",
    "    # Create the function space for a spline approximant over \n",
    "    # [xmin, xmax] at n points. Use a cubic spline.\n",
    "    fspace = fundef([:spli, range(minx, maxx, n), 0, 3]);\n",
    "\n",
    "    # Compute the basis coefficients for the function defined by x, f(x, p)\n",
    "    # This returns a tuple whose first element is the coefficients\n",
    "    c = funfitxy(fspace, x, f)[1];\n",
    "    return fspace, c;\n",
    "end\n",
    "\n",
    "# Create the approximant.\n",
    "# Note that fx contains the values of f(x, 3)\n",
    "fspace, c = create_interp(-10, 10, 8, fx, x);\n",
    "\n",
    "# Evaluate the approximation on some arbitrary points. \n",
    "y = funeval(c, fspace, range(-8, 9, 20))[1];\n",
    "\n",
    "Plots.plot(x, fx)\n",
    "Plots.plot!(range(-8, 9, 20), y, seriestype=:scatter)"
   ]
  },
  {
   "cell_type": "code",
   "execution_count": 98,
   "metadata": {},
   "outputs": [
    {
     "data": {
      "image/png": "[encoded data removed]",
      "image/svg+xml": [
       "<?xml version=\"1.0\" encoding=\"utf-8\"?>\n",
       "<svg xmlns=\"http://www.w3.org/2000/svg\" xmlns:xlink=\"http://www.w3.org/1999/xlink\" width=\"600\" height=\"400\" viewBox=\"0 0 2400 1600\">\n",
       "<defs>\n",
       "  <clipPath id=\"clip640\">\n",
       "    <rect x=\"0\" y=\"0\" width=\"2400\" height=\"1600\"/>\n",
       "  </clipPath>\n",
       "</defs>\n",
       "<path clip-path=\"url(#clip640)\" d=\"M0 1600 L2400 1600 L2400 0 L0 0  Z\" fill=\"#ffffff\" fill-rule=\"evenodd\" fill-opacity=\"1\"/>\n",
       "<defs>\n",
       "  <clipPath id=\"clip641\">\n",
       "    <rect x=\"480\" y=\"0\" width=\"1681\" height=\"1600\"/>\n",
       "  </clipPath>\n",
       "</defs>\n",
       "<path clip-path=\"url(#clip640)\" d=\"M209.029 1486.45 L2352.76 1486.45 L2352.76 47.2441 L209.029 47.2441  Z\" fill=\"#ffffff\" fill-rule=\"evenodd\" fill-opacity=\"1\"/>\n",
       "<defs>\n",
       "  <clipPath id=\"clip642\">\n",
       "    <rect x=\"209\" y=\"47\" width=\"2145\" height=\"1440\"/>\n",
       "  </clipPath>\n",
       "</defs>\n",
       "<polyline clip-path=\"url(#clip642)\" style=\"stroke:#000000; stroke-linecap:round; stroke-linejoin:round; stroke-width:2; stroke-opacity:0.1; fill:none\" points=\"269.7,1486.45 269.7,47.2441 \"/>\n",
       "<polyline clip-path=\"url(#clip642)\" style=\"stroke:#000000; stroke-linecap:round; stroke-linejoin:round; stroke-width:2; stroke-opacity:0.1; fill:none\" points=\"775.296,1486.45 775.296,47.2441 \"/>\n",
       "<polyline clip-path=\"url(#clip642)\" style=\"stroke:#000000; stroke-linecap:round; stroke-linejoin:round; stroke-width:2; stroke-opacity:0.1; fill:none\" points=\"1280.89,1486.45 1280.89,47.2441 \"/>\n",
       "<polyline clip-path=\"url(#clip642)\" style=\"stroke:#000000; stroke-linecap:round; stroke-linejoin:round; stroke-width:2; stroke-opacity:0.1; fill:none\" points=\"1786.49,1486.45 1786.49,47.2441 \"/>\n",
       "<polyline clip-path=\"url(#clip642)\" style=\"stroke:#000000; stroke-linecap:round; stroke-linejoin:round; stroke-width:2; stroke-opacity:0.1; fill:none\" points=\"2292.08,1486.45 2292.08,47.2441 \"/>\n",
       "<polyline clip-path=\"url(#clip640)\" style=\"stroke:#000000; stroke-linecap:round; stroke-linejoin:round; stroke-width:4; stroke-opacity:1; fill:none\" points=\"209.029,1486.45 2352.76,1486.45 \"/>\n",
       "<polyline clip-path=\"url(#clip640)\" style=\"stroke:#000000; stroke-linecap:round; stroke-linejoin:round; stroke-width:4; stroke-opacity:1; fill:none\" points=\"269.7,1486.45 269.7,1467.55 \"/>\n",
       "<polyline clip-path=\"url(#clip640)\" style=\"stroke:#000000; stroke-linecap:round; stroke-linejoin:round; stroke-width:4; stroke-opacity:1; fill:none\" points=\"775.296,1486.45 775.296,1467.55 \"/>\n",
       "<polyline clip-path=\"url(#clip640)\" style=\"stroke:#000000; stroke-linecap:round; stroke-linejoin:round; stroke-width:4; stroke-opacity:1; fill:none\" points=\"1280.89,1486.45 1280.89,1467.55 \"/>\n",
       "<polyline clip-path=\"url(#clip640)\" style=\"stroke:#000000; stroke-linecap:round; stroke-linejoin:round; stroke-width:4; stroke-opacity:1; fill:none\" points=\"1786.49,1486.45 1786.49,1467.55 \"/>\n",
       "<polyline clip-path=\"url(#clip640)\" style=\"stroke:#000000; stroke-linecap:round; stroke-linejoin:round; stroke-width:4; stroke-opacity:1; fill:none\" points=\"2292.08,1486.45 2292.08,1467.55 \"/>\n",
       "<path clip-path=\"url(#clip640)\" d=\"M223.763 1532.02 L253.439 1532.02 L253.439 1535.95 L223.763 1535.95 L223.763 1532.02 Z\" fill=\"#000000\" fill-rule=\"nonzero\" fill-opacity=\"1\" /><path clip-path=\"url(#clip640)\" d=\"M264.341 1544.91 L271.98 1544.91 L271.98 1518.55 L263.67 1520.21 L263.67 1515.95 L271.934 1514.29 L276.61 1514.29 L276.61 1544.91 L284.249 1544.91 L284.249 1548.85 L264.341 1548.85 L264.341 1544.91 Z\" fill=\"#000000\" fill-rule=\"nonzero\" fill-opacity=\"1\" /><path clip-path=\"url(#clip640)\" d=\"M303.693 1517.37 Q300.082 1517.37 298.253 1520.93 Q296.448 1524.47 296.448 1531.6 Q296.448 1538.71 298.253 1542.27 Q300.082 1545.82 303.693 1545.82 Q307.327 1545.82 309.133 1542.27 Q310.961 1538.71 310.961 1531.6 Q310.961 1524.47 309.133 1520.93 Q307.327 1517.37 303.693 1517.37 M303.693 1513.66 Q309.503 1513.66 312.559 1518.27 Q315.637 1522.85 315.637 1531.6 Q315.637 1540.33 312.559 1544.94 Q309.503 1549.52 303.693 1549.52 Q297.883 1549.52 294.804 1544.94 Q291.749 1540.33 291.749 1531.6 Q291.749 1522.85 294.804 1518.27 Q297.883 1513.66 303.693 1513.66 Z\" fill=\"#000000\" fill-rule=\"nonzero\" fill-opacity=\"1\" /><path clip-path=\"url(#clip640)\" d=\"M744.937 1532.02 L774.613 1532.02 L774.613 1535.95 L744.937 1535.95 L744.937 1532.02 Z\" fill=\"#000000\" fill-rule=\"nonzero\" fill-opacity=\"1\" /><path clip-path=\"url(#clip640)\" d=\"M784.752 1514.29 L803.108 1514.29 L803.108 1518.22 L789.034 1518.22 L789.034 1526.7 Q790.053 1526.35 791.072 1526.19 Q792.09 1526 793.109 1526 Q798.896 1526 802.275 1529.17 Q805.655 1532.34 805.655 1537.76 Q805.655 1543.34 802.183 1546.44 Q798.71 1549.52 792.391 1549.52 Q790.215 1549.52 787.947 1549.15 Q785.701 1548.78 783.294 1548.04 L783.294 1543.34 Q785.377 1544.47 787.599 1545.03 Q789.822 1545.58 792.298 1545.58 Q796.303 1545.58 798.641 1543.48 Q800.979 1541.37 800.979 1537.76 Q800.979 1534.15 798.641 1532.04 Q796.303 1529.94 792.298 1529.94 Q790.423 1529.94 788.548 1530.35 Q786.697 1530.77 784.752 1531.65 L784.752 1514.29 Z\" fill=\"#000000\" fill-rule=\"nonzero\" fill-opacity=\"1\" /><path clip-path=\"url(#clip640)\" d=\"M1280.89 1517.37 Q1277.28 1517.37 1275.45 1520.93 Q1273.65 1524.47 1273.65 1531.6 Q1273.65 1538.71 1275.45 1542.27 Q1277.28 1545.82 1280.89 1545.82 Q1284.53 1545.82 1286.33 1542.27 Q1288.16 1538.71 1288.16 1531.6 Q1288.16 1524.47 1286.33 1520.93 Q1284.53 1517.37 1280.89 1517.37 M1280.89 1513.66 Q1286.7 1513.66 1289.76 1518.27 Q1292.84 1522.85 1292.84 1531.6 Q1292.84 1540.33 1289.76 1544.94 Q1286.7 1549.52 1280.89 1549.52 Q1275.08 1549.52 1272 1544.94 Q1268.95 1540.33 1268.95 1531.6 Q1268.95 1522.85 1272 1518.27 Q1275.08 1513.66 1280.89 1513.66 Z\" fill=\"#000000\" fill-rule=\"nonzero\" fill-opacity=\"1\" /><path clip-path=\"url(#clip640)\" d=\"M1776.77 1514.29 L1795.12 1514.29 L1795.12 1518.22 L1781.05 1518.22 L1781.05 1526.7 Q1782.07 1526.35 1783.09 1526.19 Q1784.1 1526 1785.12 1526 Q1790.91 1526 1794.29 1529.17 Q1797.67 1532.34 1797.67 1537.76 Q1797.67 1543.34 1794.2 1546.44 Q1790.72 1549.52 1784.4 1549.52 Q1782.23 1549.52 1779.96 1549.15 Q1777.72 1548.78 1775.31 1548.04 L1775.31 1543.34 Q1777.39 1544.47 1779.61 1545.03 Q1781.84 1545.58 1784.31 1545.58 Q1788.32 1545.58 1790.65 1543.48 Q1792.99 1541.37 1792.99 1537.76 Q1792.99 1534.15 1790.65 1532.04 Q1788.32 1529.94 1784.31 1529.94 Q1782.44 1529.94 1780.56 1530.35 Q1778.71 1530.77 1776.77 1531.65 L1776.77 1514.29 Z\" fill=\"#000000\" fill-rule=\"nonzero\" fill-opacity=\"1\" /><path clip-path=\"url(#clip640)\" d=\"M2266.77 1544.91 L2274.41 1544.91 L2274.41 1518.55 L2266.1 1520.21 L2266.1 1515.95 L2274.36 1514.29 L2279.04 1514.29 L2279.04 1544.91 L2286.68 1544.91 L2286.68 1548.85 L2266.77 1548.85 L2266.77 1544.91 Z\" fill=\"#000000\" fill-rule=\"nonzero\" fill-opacity=\"1\" /><path clip-path=\"url(#clip640)\" d=\"M2306.12 1517.37 Q2302.51 1517.37 2300.68 1520.93 Q2298.88 1524.47 2298.88 1531.6 Q2298.88 1538.71 2300.68 1542.27 Q2302.51 1545.82 2306.12 1545.82 Q2309.76 1545.82 2311.56 1542.27 Q2313.39 1538.71 2313.39 1531.6 Q2313.39 1524.47 2311.56 1520.93 Q2309.76 1517.37 2306.12 1517.37 M2306.12 1513.66 Q2311.93 1513.66 2314.99 1518.27 Q2318.07 1522.85 2318.07 1531.6 Q2318.07 1540.33 2314.99 1544.94 Q2311.93 1549.52 2306.12 1549.52 Q2300.31 1549.52 2297.23 1544.94 Q2294.18 1540.33 2294.18 1531.6 Q2294.18 1522.85 2297.23 1518.27 Q2300.31 1513.66 2306.12 1513.66 Z\" fill=\"#000000\" fill-rule=\"nonzero\" fill-opacity=\"1\" /><polyline clip-path=\"url(#clip642)\" style=\"stroke:#000000; stroke-linecap:round; stroke-linejoin:round; stroke-width:2; stroke-opacity:0.1; fill:none\" points=\"209.029,1293.07 2352.76,1293.07 \"/>\n",
       "<polyline clip-path=\"url(#clip642)\" style=\"stroke:#000000; stroke-linecap:round; stroke-linejoin:round; stroke-width:2; stroke-opacity:0.1; fill:none\" points=\"209.029,891.356 2352.76,891.356 \"/>\n",
       "<polyline clip-path=\"url(#clip642)\" style=\"stroke:#000000; stroke-linecap:round; stroke-linejoin:round; stroke-width:2; stroke-opacity:0.1; fill:none\" points=\"209.029,489.646 2352.76,489.646 \"/>\n",
       "<polyline clip-path=\"url(#clip642)\" style=\"stroke:#000000; stroke-linecap:round; stroke-linejoin:round; stroke-width:2; stroke-opacity:0.1; fill:none\" points=\"209.029,87.9361 2352.76,87.9361 \"/>\n",
       "<polyline clip-path=\"url(#clip640)\" style=\"stroke:#000000; stroke-linecap:round; stroke-linejoin:round; stroke-width:4; stroke-opacity:1; fill:none\" points=\"209.029,1486.45 209.029,47.2441 \"/>\n",
       "<polyline clip-path=\"url(#clip640)\" style=\"stroke:#000000; stroke-linecap:round; stroke-linejoin:round; stroke-width:4; stroke-opacity:1; fill:none\" points=\"209.029,1293.07 227.926,1293.07 \"/>\n",
       "<polyline clip-path=\"url(#clip640)\" style=\"stroke:#000000; stroke-linecap:round; stroke-linejoin:round; stroke-width:4; stroke-opacity:1; fill:none\" points=\"209.029,891.356 227.926,891.356 \"/>\n",
       "<polyline clip-path=\"url(#clip640)\" style=\"stroke:#000000; stroke-linecap:round; stroke-linejoin:round; stroke-width:4; stroke-opacity:1; fill:none\" points=\"209.029,489.646 227.926,489.646 \"/>\n",
       "<polyline clip-path=\"url(#clip640)\" style=\"stroke:#000000; stroke-linecap:round; stroke-linejoin:round; stroke-width:4; stroke-opacity:1; fill:none\" points=\"209.029,87.9361 227.926,87.9361 \"/>\n",
       "<path clip-path=\"url(#clip640)\" d=\"M50.9921 1293.52 L80.6679 1293.52 L80.6679 1297.45 L50.9921 1297.45 L50.9921 1293.52 Z\" fill=\"#000000\" fill-rule=\"nonzero\" fill-opacity=\"1\" /><path clip-path=\"url(#clip640)\" d=\"M91.5706 1306.41 L99.2095 1306.41 L99.2095 1280.05 L90.8993 1281.71 L90.8993 1277.45 L99.1632 1275.79 L103.839 1275.79 L103.839 1306.41 L111.478 1306.41 L111.478 1310.35 L91.5706 1310.35 L91.5706 1306.41 Z\" fill=\"#000000\" fill-rule=\"nonzero\" fill-opacity=\"1\" /><path clip-path=\"url(#clip640)\" d=\"M120.969 1275.79 L139.325 1275.79 L139.325 1279.72 L125.251 1279.72 L125.251 1288.19 Q126.27 1287.85 127.288 1287.68 Q128.307 1287.5 129.325 1287.5 Q135.112 1287.5 138.492 1290.67 Q141.871 1293.84 141.871 1299.26 Q141.871 1304.84 138.399 1307.94 Q134.927 1311.02 128.607 1311.02 Q126.432 1311.02 124.163 1310.65 Q121.918 1310.28 119.51 1309.54 L119.51 1304.84 Q121.594 1305.97 123.816 1306.53 Q126.038 1307.08 128.515 1307.08 Q132.519 1307.08 134.857 1304.98 Q137.195 1302.87 137.195 1299.26 Q137.195 1295.65 134.857 1293.54 Q132.519 1291.43 128.515 1291.43 Q126.64 1291.43 124.765 1291.85 Q122.913 1292.27 120.969 1293.15 L120.969 1275.79 Z\" fill=\"#000000\" fill-rule=\"nonzero\" fill-opacity=\"1\" /><path clip-path=\"url(#clip640)\" d=\"M161.084 1278.86 Q157.473 1278.86 155.644 1282.43 Q153.839 1285.97 153.839 1293.1 Q153.839 1300.21 155.644 1303.77 Q157.473 1307.31 161.084 1307.31 Q164.718 1307.31 166.524 1303.77 Q168.353 1300.21 168.353 1293.1 Q168.353 1285.97 166.524 1282.43 Q164.718 1278.86 161.084 1278.86 M161.084 1275.16 Q166.894 1275.16 169.95 1279.77 Q173.029 1284.35 173.029 1293.1 Q173.029 1301.83 169.95 1306.43 Q166.894 1311.02 161.084 1311.02 Q155.274 1311.02 152.195 1306.43 Q149.14 1301.83 149.14 1293.1 Q149.14 1284.35 152.195 1279.77 Q155.274 1275.16 161.084 1275.16 Z\" fill=\"#000000\" fill-rule=\"nonzero\" fill-opacity=\"1\" /><path clip-path=\"url(#clip640)\" d=\"M50.9921 891.807 L80.6679 891.807 L80.6679 895.743 L50.9921 895.743 L50.9921 891.807 Z\" fill=\"#000000\" fill-rule=\"nonzero\" fill-opacity=\"1\" /><path clip-path=\"url(#clip640)\" d=\"M91.5706 904.701 L99.2095 904.701 L99.2095 878.335 L90.8993 880.002 L90.8993 875.743 L99.1632 874.076 L103.839 874.076 L103.839 904.701 L111.478 904.701 L111.478 908.636 L91.5706 908.636 L91.5706 904.701 Z\" fill=\"#000000\" fill-rule=\"nonzero\" fill-opacity=\"1\" /><path clip-path=\"url(#clip640)\" d=\"M130.922 877.155 Q127.311 877.155 125.482 880.719 Q123.677 884.261 123.677 891.391 Q123.677 898.497 125.482 902.062 Q127.311 905.604 130.922 905.604 Q134.556 905.604 136.362 902.062 Q138.191 898.497 138.191 891.391 Q138.191 884.261 136.362 880.719 Q134.556 877.155 130.922 877.155 M130.922 873.451 Q136.732 873.451 139.788 878.057 Q142.867 882.641 142.867 891.391 Q142.867 900.118 139.788 904.724 Q136.732 909.307 130.922 909.307 Q125.112 909.307 122.033 904.724 Q118.978 900.118 118.978 891.391 Q118.978 882.641 122.033 878.057 Q125.112 873.451 130.922 873.451 Z\" fill=\"#000000\" fill-rule=\"nonzero\" fill-opacity=\"1\" /><path clip-path=\"url(#clip640)\" d=\"M161.084 877.155 Q157.473 877.155 155.644 880.719 Q153.839 884.261 153.839 891.391 Q153.839 898.497 155.644 902.062 Q157.473 905.604 161.084 905.604 Q164.718 905.604 166.524 902.062 Q168.353 898.497 168.353 891.391 Q168.353 884.261 166.524 880.719 Q164.718 877.155 161.084 877.155 M161.084 873.451 Q166.894 873.451 169.95 878.057 Q173.029 882.641 173.029 891.391 Q173.029 900.118 169.95 904.724 Q166.894 909.307 161.084 909.307 Q155.274 909.307 152.195 904.724 Q149.14 900.118 149.14 891.391 Q149.14 882.641 152.195 878.057 Q155.274 873.451 161.084 873.451 Z\" fill=\"#000000\" fill-rule=\"nonzero\" fill-opacity=\"1\" /><path clip-path=\"url(#clip640)\" d=\"M81.154 490.097 L110.83 490.097 L110.83 494.033 L81.154 494.033 L81.154 490.097 Z\" fill=\"#000000\" fill-rule=\"nonzero\" fill-opacity=\"1\" /><path clip-path=\"url(#clip640)\" d=\"M120.969 472.366 L139.325 472.366 L139.325 476.301 L125.251 476.301 L125.251 484.773 Q126.27 484.426 127.288 484.264 Q128.307 484.079 129.325 484.079 Q135.112 484.079 138.492 487.25 Q141.871 490.422 141.871 495.838 Q141.871 501.417 138.399 504.519 Q134.927 507.597 128.607 507.597 Q126.432 507.597 124.163 507.227 Q121.918 506.857 119.51 506.116 L119.51 501.417 Q121.594 502.551 123.816 503.107 Q126.038 503.662 128.515 503.662 Q132.519 503.662 134.857 501.556 Q137.195 499.449 137.195 495.838 Q137.195 492.227 134.857 490.121 Q132.519 488.014 128.515 488.014 Q126.64 488.014 124.765 488.431 Q122.913 488.847 120.969 489.727 L120.969 472.366 Z\" fill=\"#000000\" fill-rule=\"nonzero\" fill-opacity=\"1\" /><path clip-path=\"url(#clip640)\" d=\"M161.084 475.445 Q157.473 475.445 155.644 479.01 Q153.839 482.551 153.839 489.681 Q153.839 496.787 155.644 500.352 Q157.473 503.894 161.084 503.894 Q164.718 503.894 166.524 500.352 Q168.353 496.787 168.353 489.681 Q168.353 482.551 166.524 479.01 Q164.718 475.445 161.084 475.445 M161.084 471.741 Q166.894 471.741 169.95 476.348 Q173.029 480.931 173.029 489.681 Q173.029 498.408 169.95 503.014 Q166.894 507.597 161.084 507.597 Q155.274 507.597 152.195 503.014 Q149.14 498.408 149.14 489.681 Q149.14 480.931 152.195 476.348 Q155.274 471.741 161.084 471.741 Z\" fill=\"#000000\" fill-rule=\"nonzero\" fill-opacity=\"1\" /><path clip-path=\"url(#clip640)\" d=\"M161.084 73.7348 Q157.473 73.7348 155.644 77.2996 Q153.839 80.8412 153.839 87.9708 Q153.839 95.0773 155.644 98.6421 Q157.473 102.184 161.084 102.184 Q164.718 102.184 166.524 98.6421 Q168.353 95.0773 168.353 87.9708 Q168.353 80.8412 166.524 77.2996 Q164.718 73.7348 161.084 73.7348 M161.084 70.0311 Q166.894 70.0311 169.95 74.6376 Q173.029 79.2209 173.029 87.9708 Q173.029 96.6976 169.95 101.304 Q166.894 105.887 161.084 105.887 Q155.274 105.887 152.195 101.304 Q149.14 96.6976 149.14 87.9708 Q149.14 79.2209 152.195 74.6376 Q155.274 70.0311 161.084 70.0311 Z\" fill=\"#000000\" fill-rule=\"nonzero\" fill-opacity=\"1\" /><polyline clip-path=\"url(#clip642)\" style=\"stroke:#009af9; stroke-linecap:round; stroke-linejoin:round; stroke-width:4; stroke-opacity:1; fill:none\" points=\"269.7,1445.72 290.128,1403.84 310.556,1362.63 330.984,1322.07 351.413,1282.16 371.841,1242.91 392.269,1204.32 412.697,1166.38 433.125,1129.1 453.553,1092.48 473.981,1056.51 494.409,1021.19 514.838,986.534 535.266,952.532 555.694,919.185 576.122,886.494 596.55,854.459 616.978,823.08 637.406,792.356 657.834,762.288 678.263,732.876 698.691,704.12 719.119,676.02 739.547,648.575 759.975,621.786 780.403,595.653 800.831,570.176 821.259,545.354 841.688,521.189 862.116,497.679 882.544,474.824 902.972,452.626 923.4,431.084 943.828,410.197 964.256,389.966 984.684,370.391 1005.11,351.471 1025.54,333.207 1045.97,315.6 1066.4,298.648 1086.83,282.351 1107.25,266.711 1127.68,251.726 1148.11,237.397 1168.54,223.724 1188.97,210.707 1209.39,198.345 1229.82,186.639 1250.25,175.589 1270.68,165.195 1291.11,155.457 1311.53,146.374 1331.96,137.947 1352.39,130.176 1372.82,123.061 1393.25,116.601 1413.68,110.798 1434.1,105.65 1454.53,101.158 1474.96,97.3212 1495.39,94.1407 1515.82,91.6159 1536.24,89.7469 1556.67,88.5337 1577.1,87.9763 1597.53,88.0746 1617.96,88.8288 1638.38,90.2387 1658.81,92.3045 1679.24,95.026 1699.67,98.4033 1720.1,102.436 1740.53,107.125 1760.95,112.47 1781.38,118.47 1801.81,125.127 1822.24,132.439 1842.67,140.406 1863.09,149.03 1883.52,158.309 1903.95,168.244 1924.38,178.835 1944.81,190.082 1965.23,201.985 1985.66,214.543 2006.09,227.757 2026.52,241.627 2046.95,256.153 2067.38,271.334 2087.8,287.171 2108.23,303.664 2128.66,320.813 2149.09,338.618 2169.52,357.078 2189.94,376.194 2210.37,395.966 2230.8,416.394 2251.23,437.477 2271.66,459.217 2292.08,481.612 \"/>\n",
       "<circle clip-path=\"url(#clip642)\" cx=\"471.938\" cy=\"1060.07\" r=\"14.4\" fill=\"#e26f46\" fill-rule=\"evenodd\" fill-opacity=\"1\" stroke=\"#000000\" stroke-opacity=\"1\" stroke-width=\"3.2\"/>\n",
       "<circle clip-path=\"url(#clip642)\" cx=\"562.414\" cy=\"908.359\" r=\"14.4\" fill=\"#e26f46\" fill-rule=\"evenodd\" fill-opacity=\"1\" stroke=\"#000000\" stroke-opacity=\"1\" stroke-width=\"3.2\"/>\n",
       "<circle clip-path=\"url(#clip642)\" cx=\"652.889\" cy=\"769.508\" r=\"14.4\" fill=\"#e26f46\" fill-rule=\"evenodd\" fill-opacity=\"1\" stroke=\"#000000\" stroke-opacity=\"1\" stroke-width=\"3.2\"/>\n",
       "<circle clip-path=\"url(#clip642)\" cx=\"743.364\" cy=\"643.52\" r=\"14.4\" fill=\"#e26f46\" fill-rule=\"evenodd\" fill-opacity=\"1\" stroke=\"#000000\" stroke-opacity=\"1\" stroke-width=\"3.2\"/>\n",
       "<circle clip-path=\"url(#clip642)\" cx=\"833.839\" cy=\"530.396\" r=\"14.4\" fill=\"#e26f46\" fill-rule=\"evenodd\" fill-opacity=\"1\" stroke=\"#000000\" stroke-opacity=\"1\" stroke-width=\"3.2\"/>\n",
       "<circle clip-path=\"url(#clip642)\" cx=\"924.314\" cy=\"430.135\" r=\"14.4\" fill=\"#e26f46\" fill-rule=\"evenodd\" fill-opacity=\"1\" stroke=\"#000000\" stroke-opacity=\"1\" stroke-width=\"3.2\"/>\n",
       "<circle clip-path=\"url(#clip642)\" cx=\"1014.79\" cy=\"342.738\" r=\"14.4\" fill=\"#e26f46\" fill-rule=\"evenodd\" fill-opacity=\"1\" stroke=\"#000000\" stroke-opacity=\"1\" stroke-width=\"3.2\"/>\n",
       "<circle clip-path=\"url(#clip642)\" cx=\"1105.26\" cy=\"268.205\" r=\"14.4\" fill=\"#e26f46\" fill-rule=\"evenodd\" fill-opacity=\"1\" stroke=\"#000000\" stroke-opacity=\"1\" stroke-width=\"3.2\"/>\n",
       "<circle clip-path=\"url(#clip642)\" cx=\"1195.74\" cy=\"206.535\" r=\"14.4\" fill=\"#e26f46\" fill-rule=\"evenodd\" fill-opacity=\"1\" stroke=\"#000000\" stroke-opacity=\"1\" stroke-width=\"3.2\"/>\n",
       "<circle clip-path=\"url(#clip642)\" cx=\"1286.21\" cy=\"157.729\" r=\"14.4\" fill=\"#e26f46\" fill-rule=\"evenodd\" fill-opacity=\"1\" stroke=\"#000000\" stroke-opacity=\"1\" stroke-width=\"3.2\"/>\n",
       "<circle clip-path=\"url(#clip642)\" cx=\"1376.69\" cy=\"121.787\" r=\"14.4\" fill=\"#e26f46\" fill-rule=\"evenodd\" fill-opacity=\"1\" stroke=\"#000000\" stroke-opacity=\"1\" stroke-width=\"3.2\"/>\n",
       "<circle clip-path=\"url(#clip642)\" cx=\"1467.16\" cy=\"98.7077\" r=\"14.4\" fill=\"#e26f46\" fill-rule=\"evenodd\" fill-opacity=\"1\" stroke=\"#000000\" stroke-opacity=\"1\" stroke-width=\"3.2\"/>\n",
       "<circle clip-path=\"url(#clip642)\" cx=\"1557.64\" cy=\"88.4925\" r=\"14.4\" fill=\"#e26f46\" fill-rule=\"evenodd\" fill-opacity=\"1\" stroke=\"#000000\" stroke-opacity=\"1\" stroke-width=\"3.2\"/>\n",
       "<circle clip-path=\"url(#clip642)\" cx=\"1648.11\" cy=\"91.1409\" r=\"14.4\" fill=\"#e26f46\" fill-rule=\"evenodd\" fill-opacity=\"1\" stroke=\"#000000\" stroke-opacity=\"1\" stroke-width=\"3.2\"/>\n",
       "<circle clip-path=\"url(#clip642)\" cx=\"1738.59\" cy=\"106.653\" r=\"14.4\" fill=\"#e26f46\" fill-rule=\"evenodd\" fill-opacity=\"1\" stroke=\"#000000\" stroke-opacity=\"1\" stroke-width=\"3.2\"/>\n",
       "<circle clip-path=\"url(#clip642)\" cx=\"1829.06\" cy=\"135.029\" r=\"14.4\" fill=\"#e26f46\" fill-rule=\"evenodd\" fill-opacity=\"1\" stroke=\"#000000\" stroke-opacity=\"1\" stroke-width=\"3.2\"/>\n",
       "<circle clip-path=\"url(#clip642)\" cx=\"1919.54\" cy=\"176.268\" r=\"14.4\" fill=\"#e26f46\" fill-rule=\"evenodd\" fill-opacity=\"1\" stroke=\"#000000\" stroke-opacity=\"1\" stroke-width=\"3.2\"/>\n",
       "<circle clip-path=\"url(#clip642)\" cx=\"2010.01\" cy=\"230.371\" r=\"14.4\" fill=\"#e26f46\" fill-rule=\"evenodd\" fill-opacity=\"1\" stroke=\"#000000\" stroke-opacity=\"1\" stroke-width=\"3.2\"/>\n",
       "<circle clip-path=\"url(#clip642)\" cx=\"2100.49\" cy=\"297.337\" r=\"14.4\" fill=\"#e26f46\" fill-rule=\"evenodd\" fill-opacity=\"1\" stroke=\"#000000\" stroke-opacity=\"1\" stroke-width=\"3.2\"/>\n",
       "<circle clip-path=\"url(#clip642)\" cx=\"2190.97\" cy=\"377.167\" r=\"14.4\" fill=\"#e26f46\" fill-rule=\"evenodd\" fill-opacity=\"1\" stroke=\"#000000\" stroke-opacity=\"1\" stroke-width=\"3.2\"/>\n",
       "<path clip-path=\"url(#clip640)\" d=\"M280.486 250.738 L547.289 250.738 L547.289 95.2176 L280.486 95.2176  Z\" fill=\"#ffffff\" fill-rule=\"evenodd\" fill-opacity=\"1\"/>\n",
       "<polyline clip-path=\"url(#clip640)\" style=\"stroke:#000000; stroke-linecap:round; stroke-linejoin:round; stroke-width:4; stroke-opacity:1; fill:none\" points=\"280.486,250.738 547.289,250.738 547.289,95.2176 280.486,95.2176 280.486,250.738 \"/>\n",
       "<polyline clip-path=\"url(#clip640)\" style=\"stroke:#009af9; stroke-linecap:round; stroke-linejoin:round; stroke-width:4; stroke-opacity:1; fill:none\" points=\"304.305,147.058 447.22,147.058 \"/>\n",
       "<path clip-path=\"url(#clip640)\" d=\"M484.882 166.745 Q483.077 171.375 481.364 172.787 Q479.651 174.199 476.78 174.199 L473.378 174.199 L473.378 170.634 L475.878 170.634 Q477.637 170.634 478.609 169.8 Q479.581 168.967 480.762 165.865 L481.526 163.921 L471.04 138.412 L475.554 138.412 L483.655 158.689 L491.757 138.412 L496.271 138.412 L484.882 166.745 Z\" fill=\"#000000\" fill-rule=\"nonzero\" fill-opacity=\"1\" /><path clip-path=\"url(#clip640)\" d=\"M503.563 160.402 L511.201 160.402 L511.201 134.037 L502.891 135.703 L502.891 131.444 L511.155 129.778 L515.831 129.778 L515.831 160.402 L523.47 160.402 L523.47 164.338 L503.563 164.338 L503.563 160.402 Z\" fill=\"#000000\" fill-rule=\"nonzero\" fill-opacity=\"1\" /><circle clip-path=\"url(#clip640)\" cx=\"375.763\" cy=\"198.898\" r=\"20.48\" fill=\"#e26f46\" fill-rule=\"evenodd\" fill-opacity=\"1\" stroke=\"#000000\" stroke-opacity=\"1\" stroke-width=\"4.55111\"/>\n",
       "<path clip-path=\"url(#clip640)\" d=\"M484.882 218.585 Q483.077 223.215 481.364 224.627 Q479.651 226.039 476.78 226.039 L473.378 226.039 L473.378 222.474 L475.878 222.474 Q477.637 222.474 478.609 221.64 Q479.581 220.807 480.762 217.705 L481.526 215.761 L471.04 190.252 L475.554 190.252 L483.655 210.529 L491.757 190.252 L496.271 190.252 L484.882 218.585 Z\" fill=\"#000000\" fill-rule=\"nonzero\" fill-opacity=\"1\" /><path clip-path=\"url(#clip640)\" d=\"M506.78 212.242 L523.1 212.242 L523.1 216.178 L501.155 216.178 L501.155 212.242 Q503.817 209.488 508.401 204.858 Q513.007 200.205 514.188 198.863 Q516.433 196.34 517.313 194.604 Q518.215 192.844 518.215 191.155 Q518.215 188.4 516.271 186.664 Q514.35 184.928 511.248 184.928 Q509.049 184.928 506.595 185.692 Q504.164 186.455 501.387 188.006 L501.387 183.284 Q504.211 182.15 506.664 181.571 Q509.118 180.993 511.155 180.993 Q516.526 180.993 519.72 183.678 Q522.914 186.363 522.914 190.854 Q522.914 192.983 522.104 194.905 Q521.317 196.803 519.211 199.395 Q518.632 200.067 515.53 203.284 Q512.428 206.479 506.78 212.242 Z\" fill=\"#000000\" fill-rule=\"nonzero\" fill-opacity=\"1\" /></svg>\n"
      ],
      "text/html": [
       "<?xml version=\"1.0\" encoding=\"utf-8\"?>\n",
       "<svg xmlns=\"http://www.w3.org/2000/svg\" xmlns:xlink=\"http://www.w3.org/1999/xlink\" width=\"600\" height=\"400\" viewBox=\"0 0 2400 1600\">\n",
       "<defs>\n",
       "  <clipPath id=\"clip690\">\n",
       "    <rect x=\"0\" y=\"0\" width=\"2400\" height=\"1600\"/>\n",
       "  </clipPath>\n",
       "</defs>\n",
       "<path clip-path=\"url(#clip690)\" d=\"M0 1600 L2400 1600 L2400 0 L0 0  Z\" fill=\"#ffffff\" fill-rule=\"evenodd\" fill-opacity=\"1\"/>\n",
       "<defs>\n",
       "  <clipPath id=\"clip691\">\n",
       "    <rect x=\"480\" y=\"0\" width=\"1681\" height=\"1600\"/>\n",
       "  </clipPath>\n",
       "</defs>\n",
       "<path clip-path=\"url(#clip690)\" d=\"M209.029 1486.45 L2352.76 1486.45 L2352.76 47.2441 L209.029 47.2441  Z\" fill=\"#ffffff\" fill-rule=\"evenodd\" fill-opacity=\"1\"/>\n",
       "<defs>\n",
       "  <clipPath id=\"clip692\">\n",
       "    <rect x=\"209\" y=\"47\" width=\"2145\" height=\"1440\"/>\n",
       "  </clipPath>\n",
       "</defs>\n",
       "<polyline clip-path=\"url(#clip692)\" style=\"stroke:#000000; stroke-linecap:round; stroke-linejoin:round; stroke-width:2; stroke-opacity:0.1; fill:none\" points=\"269.7,1486.45 269.7,47.2441 \"/>\n",
       "<polyline clip-path=\"url(#clip692)\" style=\"stroke:#000000; stroke-linecap:round; stroke-linejoin:round; stroke-width:2; stroke-opacity:0.1; fill:none\" points=\"775.296,1486.45 775.296,47.2441 \"/>\n",
       "<polyline clip-path=\"url(#clip692)\" style=\"stroke:#000000; stroke-linecap:round; stroke-linejoin:round; stroke-width:2; stroke-opacity:0.1; fill:none\" points=\"1280.89,1486.45 1280.89,47.2441 \"/>\n",
       "<polyline clip-path=\"url(#clip692)\" style=\"stroke:#000000; stroke-linecap:round; stroke-linejoin:round; stroke-width:2; stroke-opacity:0.1; fill:none\" points=\"1786.49,1486.45 1786.49,47.2441 \"/>\n",
       "<polyline clip-path=\"url(#clip692)\" style=\"stroke:#000000; stroke-linecap:round; stroke-linejoin:round; stroke-width:2; stroke-opacity:0.1; fill:none\" points=\"2292.08,1486.45 2292.08,47.2441 \"/>\n",
       "<polyline clip-path=\"url(#clip690)\" style=\"stroke:#000000; stroke-linecap:round; stroke-linejoin:round; stroke-width:4; stroke-opacity:1; fill:none\" points=\"209.029,1486.45 2352.76,1486.45 \"/>\n",
       "<polyline clip-path=\"url(#clip690)\" style=\"stroke:#000000; stroke-linecap:round; stroke-linejoin:round; stroke-width:4; stroke-opacity:1; fill:none\" points=\"269.7,1486.45 269.7,1467.55 \"/>\n",
       "<polyline clip-path=\"url(#clip690)\" style=\"stroke:#000000; stroke-linecap:round; stroke-linejoin:round; stroke-width:4; stroke-opacity:1; fill:none\" points=\"775.296,1486.45 775.296,1467.55 \"/>\n",
       "<polyline clip-path=\"url(#clip690)\" style=\"stroke:#000000; stroke-linecap:round; stroke-linejoin:round; stroke-width:4; stroke-opacity:1; fill:none\" points=\"1280.89,1486.45 1280.89,1467.55 \"/>\n",
       "<polyline clip-path=\"url(#clip690)\" style=\"stroke:#000000; stroke-linecap:round; stroke-linejoin:round; stroke-width:4; stroke-opacity:1; fill:none\" points=\"1786.49,1486.45 1786.49,1467.55 \"/>\n",
       "<polyline clip-path=\"url(#clip690)\" style=\"stroke:#000000; stroke-linecap:round; stroke-linejoin:round; stroke-width:4; stroke-opacity:1; fill:none\" points=\"2292.08,1486.45 2292.08,1467.55 \"/>\n",
       "<path clip-path=\"url(#clip690)\" d=\"M223.763 1532.02 L253.439 1532.02 L253.439 1535.95 L223.763 1535.95 L223.763 1532.02 Z\" fill=\"#000000\" fill-rule=\"nonzero\" fill-opacity=\"1\" /><path clip-path=\"url(#clip690)\" d=\"M264.341 1544.91 L271.98 1544.91 L271.98 1518.55 L263.67 1520.21 L263.67 1515.95 L271.934 1514.29 L276.61 1514.29 L276.61 1544.91 L284.249 1544.91 L284.249 1548.85 L264.341 1548.85 L264.341 1544.91 Z\" fill=\"#000000\" fill-rule=\"nonzero\" fill-opacity=\"1\" /><path clip-path=\"url(#clip690)\" d=\"M303.693 1517.37 Q300.082 1517.37 298.253 1520.93 Q296.448 1524.47 296.448 1531.6 Q296.448 1538.71 298.253 1542.27 Q300.082 1545.82 303.693 1545.82 Q307.327 1545.82 309.133 1542.27 Q310.961 1538.71 310.961 1531.6 Q310.961 1524.47 309.133 1520.93 Q307.327 1517.37 303.693 1517.37 M303.693 1513.66 Q309.503 1513.66 312.559 1518.27 Q315.637 1522.85 315.637 1531.6 Q315.637 1540.33 312.559 1544.94 Q309.503 1549.52 303.693 1549.52 Q297.883 1549.52 294.804 1544.94 Q291.749 1540.33 291.749 1531.6 Q291.749 1522.85 294.804 1518.27 Q297.883 1513.66 303.693 1513.66 Z\" fill=\"#000000\" fill-rule=\"nonzero\" fill-opacity=\"1\" /><path clip-path=\"url(#clip690)\" d=\"M744.937 1532.02 L774.613 1532.02 L774.613 1535.95 L744.937 1535.95 L744.937 1532.02 Z\" fill=\"#000000\" fill-rule=\"nonzero\" fill-opacity=\"1\" /><path clip-path=\"url(#clip690)\" d=\"M784.752 1514.29 L803.108 1514.29 L803.108 1518.22 L789.034 1518.22 L789.034 1526.7 Q790.053 1526.35 791.072 1526.19 Q792.09 1526 793.109 1526 Q798.896 1526 802.275 1529.17 Q805.655 1532.34 805.655 1537.76 Q805.655 1543.34 802.183 1546.44 Q798.71 1549.52 792.391 1549.52 Q790.215 1549.52 787.947 1549.15 Q785.701 1548.78 783.294 1548.04 L783.294 1543.34 Q785.377 1544.47 787.599 1545.03 Q789.822 1545.58 792.298 1545.58 Q796.303 1545.58 798.641 1543.48 Q800.979 1541.37 800.979 1537.76 Q800.979 1534.15 798.641 1532.04 Q796.303 1529.94 792.298 1529.94 Q790.423 1529.94 788.548 1530.35 Q786.697 1530.77 784.752 1531.65 L784.752 1514.29 Z\" fill=\"#000000\" fill-rule=\"nonzero\" fill-opacity=\"1\" /><path clip-path=\"url(#clip690)\" d=\"M1280.89 1517.37 Q1277.28 1517.37 1275.45 1520.93 Q1273.65 1524.47 1273.65 1531.6 Q1273.65 1538.71 1275.45 1542.27 Q1277.28 1545.82 1280.89 1545.82 Q1284.53 1545.82 1286.33 1542.27 Q1288.16 1538.71 1288.16 1531.6 Q1288.16 1524.47 1286.33 1520.93 Q1284.53 1517.37 1280.89 1517.37 M1280.89 1513.66 Q1286.7 1513.66 1289.76 1518.27 Q1292.84 1522.85 1292.84 1531.6 Q1292.84 1540.33 1289.76 1544.94 Q1286.7 1549.52 1280.89 1549.52 Q1275.08 1549.52 1272 1544.94 Q1268.95 1540.33 1268.95 1531.6 Q1268.95 1522.85 1272 1518.27 Q1275.08 1513.66 1280.89 1513.66 Z\" fill=\"#000000\" fill-rule=\"nonzero\" fill-opacity=\"1\" /><path clip-path=\"url(#clip690)\" d=\"M1776.77 1514.29 L1795.12 1514.29 L1795.12 1518.22 L1781.05 1518.22 L1781.05 1526.7 Q1782.07 1526.35 1783.09 1526.19 Q1784.1 1526 1785.12 1526 Q1790.91 1526 1794.29 1529.17 Q1797.67 1532.34 1797.67 1537.76 Q1797.67 1543.34 1794.2 1546.44 Q1790.72 1549.52 1784.4 1549.52 Q1782.23 1549.52 1779.96 1549.15 Q1777.72 1548.78 1775.31 1548.04 L1775.31 1543.34 Q1777.39 1544.47 1779.61 1545.03 Q1781.84 1545.58 1784.31 1545.58 Q1788.32 1545.58 1790.65 1543.48 Q1792.99 1541.37 1792.99 1537.76 Q1792.99 1534.15 1790.65 1532.04 Q1788.32 1529.94 1784.31 1529.94 Q1782.44 1529.94 1780.56 1530.35 Q1778.71 1530.77 1776.77 1531.65 L1776.77 1514.29 Z\" fill=\"#000000\" fill-rule=\"nonzero\" fill-opacity=\"1\" /><path clip-path=\"url(#clip690)\" d=\"M2266.77 1544.91 L2274.41 1544.91 L2274.41 1518.55 L2266.1 1520.21 L2266.1 1515.95 L2274.36 1514.29 L2279.04 1514.29 L2279.04 1544.91 L2286.68 1544.91 L2286.68 1548.85 L2266.77 1548.85 L2266.77 1544.91 Z\" fill=\"#000000\" fill-rule=\"nonzero\" fill-opacity=\"1\" /><path clip-path=\"url(#clip690)\" d=\"M2306.12 1517.37 Q2302.51 1517.37 2300.68 1520.93 Q2298.88 1524.47 2298.88 1531.6 Q2298.88 1538.71 2300.68 1542.27 Q2302.51 1545.82 2306.12 1545.82 Q2309.76 1545.82 2311.56 1542.27 Q2313.39 1538.71 2313.39 1531.6 Q2313.39 1524.47 2311.56 1520.93 Q2309.76 1517.37 2306.12 1517.37 M2306.12 1513.66 Q2311.93 1513.66 2314.99 1518.27 Q2318.07 1522.85 2318.07 1531.6 Q2318.07 1540.33 2314.99 1544.94 Q2311.93 1549.52 2306.12 1549.52 Q2300.31 1549.52 2297.23 1544.94 Q2294.18 1540.33 2294.18 1531.6 Q2294.18 1522.85 2297.23 1518.27 Q2300.31 1513.66 2306.12 1513.66 Z\" fill=\"#000000\" fill-rule=\"nonzero\" fill-opacity=\"1\" /><polyline clip-path=\"url(#clip692)\" style=\"stroke:#000000; stroke-linecap:round; stroke-linejoin:round; stroke-width:2; stroke-opacity:0.1; fill:none\" points=\"209.029,1293.07 2352.76,1293.07 \"/>\n",
       "<polyline clip-path=\"url(#clip692)\" style=\"stroke:#000000; stroke-linecap:round; stroke-linejoin:round; stroke-width:2; stroke-opacity:0.1; fill:none\" points=\"209.029,891.356 2352.76,891.356 \"/>\n",
       "<polyline clip-path=\"url(#clip692)\" style=\"stroke:#000000; stroke-linecap:round; stroke-linejoin:round; stroke-width:2; stroke-opacity:0.1; fill:none\" points=\"209.029,489.646 2352.76,489.646 \"/>\n",
       "<polyline clip-path=\"url(#clip692)\" style=\"stroke:#000000; stroke-linecap:round; stroke-linejoin:round; stroke-width:2; stroke-opacity:0.1; fill:none\" points=\"209.029,87.9361 2352.76,87.9361 \"/>\n",
       "<polyline clip-path=\"url(#clip690)\" style=\"stroke:#000000; stroke-linecap:round; stroke-linejoin:round; stroke-width:4; stroke-opacity:1; fill:none\" points=\"209.029,1486.45 209.029,47.2441 \"/>\n",
       "<polyline clip-path=\"url(#clip690)\" style=\"stroke:#000000; stroke-linecap:round; stroke-linejoin:round; stroke-width:4; stroke-opacity:1; fill:none\" points=\"209.029,1293.07 227.926,1293.07 \"/>\n",
       "<polyline clip-path=\"url(#clip690)\" style=\"stroke:#000000; stroke-linecap:round; stroke-linejoin:round; stroke-width:4; stroke-opacity:1; fill:none\" points=\"209.029,891.356 227.926,891.356 \"/>\n",
       "<polyline clip-path=\"url(#clip690)\" style=\"stroke:#000000; stroke-linecap:round; stroke-linejoin:round; stroke-width:4; stroke-opacity:1; fill:none\" points=\"209.029,489.646 227.926,489.646 \"/>\n",
       "<polyline clip-path=\"url(#clip690)\" style=\"stroke:#000000; stroke-linecap:round; stroke-linejoin:round; stroke-width:4; stroke-opacity:1; fill:none\" points=\"209.029,87.9361 227.926,87.9361 \"/>\n",
       "<path clip-path=\"url(#clip690)\" d=\"M50.9921 1293.52 L80.6679 1293.52 L80.6679 1297.45 L50.9921 1297.45 L50.9921 1293.52 Z\" fill=\"#000000\" fill-rule=\"nonzero\" fill-opacity=\"1\" /><path clip-path=\"url(#clip690)\" d=\"M91.5706 1306.41 L99.2095 1306.41 L99.2095 1280.05 L90.8993 1281.71 L90.8993 1277.45 L99.1632 1275.79 L103.839 1275.79 L103.839 1306.41 L111.478 1306.41 L111.478 1310.35 L91.5706 1310.35 L91.5706 1306.41 Z\" fill=\"#000000\" fill-rule=\"nonzero\" fill-opacity=\"1\" /><path clip-path=\"url(#clip690)\" d=\"M120.969 1275.79 L139.325 1275.79 L139.325 1279.72 L125.251 1279.72 L125.251 1288.19 Q126.27 1287.85 127.288 1287.68 Q128.307 1287.5 129.325 1287.5 Q135.112 1287.5 138.492 1290.67 Q141.871 1293.84 141.871 1299.26 Q141.871 1304.84 138.399 1307.94 Q134.927 1311.02 128.607 1311.02 Q126.432 1311.02 124.163 1310.65 Q121.918 1310.28 119.51 1309.54 L119.51 1304.84 Q121.594 1305.97 123.816 1306.53 Q126.038 1307.08 128.515 1307.08 Q132.519 1307.08 134.857 1304.98 Q137.195 1302.87 137.195 1299.26 Q137.195 1295.65 134.857 1293.54 Q132.519 1291.43 128.515 1291.43 Q126.64 1291.43 124.765 1291.85 Q122.913 1292.27 120.969 1293.15 L120.969 1275.79 Z\" fill=\"#000000\" fill-rule=\"nonzero\" fill-opacity=\"1\" /><path clip-path=\"url(#clip690)\" d=\"M161.084 1278.86 Q157.473 1278.86 155.644 1282.43 Q153.839 1285.97 153.839 1293.1 Q153.839 1300.21 155.644 1303.77 Q157.473 1307.31 161.084 1307.31 Q164.718 1307.31 166.524 1303.77 Q168.353 1300.21 168.353 1293.1 Q168.353 1285.97 166.524 1282.43 Q164.718 1278.86 161.084 1278.86 M161.084 1275.16 Q166.894 1275.16 169.95 1279.77 Q173.029 1284.35 173.029 1293.1 Q173.029 1301.83 169.95 1306.43 Q166.894 1311.02 161.084 1311.02 Q155.274 1311.02 152.195 1306.43 Q149.14 1301.83 149.14 1293.1 Q149.14 1284.35 152.195 1279.77 Q155.274 1275.16 161.084 1275.16 Z\" fill=\"#000000\" fill-rule=\"nonzero\" fill-opacity=\"1\" /><path clip-path=\"url(#clip690)\" d=\"M50.9921 891.807 L80.6679 891.807 L80.6679 895.743 L50.9921 895.743 L50.9921 891.807 Z\" fill=\"#000000\" fill-rule=\"nonzero\" fill-opacity=\"1\" /><path clip-path=\"url(#clip690)\" d=\"M91.5706 904.701 L99.2095 904.701 L99.2095 878.335 L90.8993 880.002 L90.8993 875.743 L99.1632 874.076 L103.839 874.076 L103.839 904.701 L111.478 904.701 L111.478 908.636 L91.5706 908.636 L91.5706 904.701 Z\" fill=\"#000000\" fill-rule=\"nonzero\" fill-opacity=\"1\" /><path clip-path=\"url(#clip690)\" d=\"M130.922 877.155 Q127.311 877.155 125.482 880.719 Q123.677 884.261 123.677 891.391 Q123.677 898.497 125.482 902.062 Q127.311 905.604 130.922 905.604 Q134.556 905.604 136.362 902.062 Q138.191 898.497 138.191 891.391 Q138.191 884.261 136.362 880.719 Q134.556 877.155 130.922 877.155 M130.922 873.451 Q136.732 873.451 139.788 878.057 Q142.867 882.641 142.867 891.391 Q142.867 900.118 139.788 904.724 Q136.732 909.307 130.922 909.307 Q125.112 909.307 122.033 904.724 Q118.978 900.118 118.978 891.391 Q118.978 882.641 122.033 878.057 Q125.112 873.451 130.922 873.451 Z\" fill=\"#000000\" fill-rule=\"nonzero\" fill-opacity=\"1\" /><path clip-path=\"url(#clip690)\" d=\"M161.084 877.155 Q157.473 877.155 155.644 880.719 Q153.839 884.261 153.839 891.391 Q153.839 898.497 155.644 902.062 Q157.473 905.604 161.084 905.604 Q164.718 905.604 166.524 902.062 Q168.353 898.497 168.353 891.391 Q168.353 884.261 166.524 880.719 Q164.718 877.155 161.084 877.155 M161.084 873.451 Q166.894 873.451 169.95 878.057 Q173.029 882.641 173.029 891.391 Q173.029 900.118 169.95 904.724 Q166.894 909.307 161.084 909.307 Q155.274 909.307 152.195 904.724 Q149.14 900.118 149.14 891.391 Q149.14 882.641 152.195 878.057 Q155.274 873.451 161.084 873.451 Z\" fill=\"#000000\" fill-rule=\"nonzero\" fill-opacity=\"1\" /><path clip-path=\"url(#clip690)\" d=\"M81.154 490.097 L110.83 490.097 L110.83 494.033 L81.154 494.033 L81.154 490.097 Z\" fill=\"#000000\" fill-rule=\"nonzero\" fill-opacity=\"1\" /><path clip-path=\"url(#clip690)\" d=\"M120.969 472.366 L139.325 472.366 L139.325 476.301 L125.251 476.301 L125.251 484.773 Q126.27 484.426 127.288 484.264 Q128.307 484.079 129.325 484.079 Q135.112 484.079 138.492 487.25 Q141.871 490.422 141.871 495.838 Q141.871 501.417 138.399 504.519 Q134.927 507.597 128.607 507.597 Q126.432 507.597 124.163 507.227 Q121.918 506.857 119.51 506.116 L119.51 501.417 Q121.594 502.551 123.816 503.107 Q126.038 503.662 128.515 503.662 Q132.519 503.662 134.857 501.556 Q137.195 499.449 137.195 495.838 Q137.195 492.227 134.857 490.121 Q132.519 488.014 128.515 488.014 Q126.64 488.014 124.765 488.431 Q122.913 488.847 120.969 489.727 L120.969 472.366 Z\" fill=\"#000000\" fill-rule=\"nonzero\" fill-opacity=\"1\" /><path clip-path=\"url(#clip690)\" d=\"M161.084 475.445 Q157.473 475.445 155.644 479.01 Q153.839 482.551 153.839 489.681 Q153.839 496.787 155.644 500.352 Q157.473 503.894 161.084 503.894 Q164.718 503.894 166.524 500.352 Q168.353 496.787 168.353 489.681 Q168.353 482.551 166.524 479.01 Q164.718 475.445 161.084 475.445 M161.084 471.741 Q166.894 471.741 169.95 476.348 Q173.029 480.931 173.029 489.681 Q173.029 498.408 169.95 503.014 Q166.894 507.597 161.084 507.597 Q155.274 507.597 152.195 503.014 Q149.14 498.408 149.14 489.681 Q149.14 480.931 152.195 476.348 Q155.274 471.741 161.084 471.741 Z\" fill=\"#000000\" fill-rule=\"nonzero\" fill-opacity=\"1\" /><path clip-path=\"url(#clip690)\" d=\"M161.084 73.7348 Q157.473 73.7348 155.644 77.2996 Q153.839 80.8412 153.839 87.9708 Q153.839 95.0773 155.644 98.6421 Q157.473 102.184 161.084 102.184 Q164.718 102.184 166.524 98.6421 Q168.353 95.0773 168.353 87.9708 Q168.353 80.8412 166.524 77.2996 Q164.718 73.7348 161.084 73.7348 M161.084 70.0311 Q166.894 70.0311 169.95 74.6376 Q173.029 79.2209 173.029 87.9708 Q173.029 96.6976 169.95 101.304 Q166.894 105.887 161.084 105.887 Q155.274 105.887 152.195 101.304 Q149.14 96.6976 149.14 87.9708 Q149.14 79.2209 152.195 74.6376 Q155.274 70.0311 161.084 70.0311 Z\" fill=\"#000000\" fill-rule=\"nonzero\" fill-opacity=\"1\" /><polyline clip-path=\"url(#clip692)\" style=\"stroke:#009af9; stroke-linecap:round; stroke-linejoin:round; stroke-width:4; stroke-opacity:1; fill:none\" points=\"269.7,1445.72 290.128,1403.84 310.556,1362.63 330.984,1322.07 351.413,1282.16 371.841,1242.91 392.269,1204.32 412.697,1166.38 433.125,1129.1 453.553,1092.48 473.981,1056.51 494.409,1021.19 514.838,986.534 535.266,952.532 555.694,919.185 576.122,886.494 596.55,854.459 616.978,823.08 637.406,792.356 657.834,762.288 678.263,732.876 698.691,704.12 719.119,676.02 739.547,648.575 759.975,621.786 780.403,595.653 800.831,570.176 821.259,545.354 841.688,521.189 862.116,497.679 882.544,474.824 902.972,452.626 923.4,431.084 943.828,410.197 964.256,389.966 984.684,370.391 1005.11,351.471 1025.54,333.207 1045.97,315.6 1066.4,298.648 1086.83,282.351 1107.25,266.711 1127.68,251.726 1148.11,237.397 1168.54,223.724 1188.97,210.707 1209.39,198.345 1229.82,186.639 1250.25,175.589 1270.68,165.195 1291.11,155.457 1311.53,146.374 1331.96,137.947 1352.39,130.176 1372.82,123.061 1393.25,116.601 1413.68,110.798 1434.1,105.65 1454.53,101.158 1474.96,97.3212 1495.39,94.1407 1515.82,91.6159 1536.24,89.7469 1556.67,88.5337 1577.1,87.9763 1597.53,88.0746 1617.96,88.8288 1638.38,90.2387 1658.81,92.3045 1679.24,95.026 1699.67,98.4033 1720.1,102.436 1740.53,107.125 1760.95,112.47 1781.38,118.47 1801.81,125.127 1822.24,132.439 1842.67,140.406 1863.09,149.03 1883.52,158.309 1903.95,168.244 1924.38,178.835 1944.81,190.082 1965.23,201.985 1985.66,214.543 2006.09,227.757 2026.52,241.627 2046.95,256.153 2067.38,271.334 2087.8,287.171 2108.23,303.664 2128.66,320.813 2149.09,338.618 2169.52,357.078 2189.94,376.194 2210.37,395.966 2230.8,416.394 2251.23,437.477 2271.66,459.217 2292.08,481.612 \"/>\n",
       "<circle clip-path=\"url(#clip692)\" cx=\"471.938\" cy=\"1060.07\" r=\"14.4\" fill=\"#e26f46\" fill-rule=\"evenodd\" fill-opacity=\"1\" stroke=\"#000000\" stroke-opacity=\"1\" stroke-width=\"3.2\"/>\n",
       "<circle clip-path=\"url(#clip692)\" cx=\"562.414\" cy=\"908.359\" r=\"14.4\" fill=\"#e26f46\" fill-rule=\"evenodd\" fill-opacity=\"1\" stroke=\"#000000\" stroke-opacity=\"1\" stroke-width=\"3.2\"/>\n",
       "<circle clip-path=\"url(#clip692)\" cx=\"652.889\" cy=\"769.508\" r=\"14.4\" fill=\"#e26f46\" fill-rule=\"evenodd\" fill-opacity=\"1\" stroke=\"#000000\" stroke-opacity=\"1\" stroke-width=\"3.2\"/>\n",
       "<circle clip-path=\"url(#clip692)\" cx=\"743.364\" cy=\"643.52\" r=\"14.4\" fill=\"#e26f46\" fill-rule=\"evenodd\" fill-opacity=\"1\" stroke=\"#000000\" stroke-opacity=\"1\" stroke-width=\"3.2\"/>\n",
       "<circle clip-path=\"url(#clip692)\" cx=\"833.839\" cy=\"530.396\" r=\"14.4\" fill=\"#e26f46\" fill-rule=\"evenodd\" fill-opacity=\"1\" stroke=\"#000000\" stroke-opacity=\"1\" stroke-width=\"3.2\"/>\n",
       "<circle clip-path=\"url(#clip692)\" cx=\"924.314\" cy=\"430.135\" r=\"14.4\" fill=\"#e26f46\" fill-rule=\"evenodd\" fill-opacity=\"1\" stroke=\"#000000\" stroke-opacity=\"1\" stroke-width=\"3.2\"/>\n",
       "<circle clip-path=\"url(#clip692)\" cx=\"1014.79\" cy=\"342.738\" r=\"14.4\" fill=\"#e26f46\" fill-rule=\"evenodd\" fill-opacity=\"1\" stroke=\"#000000\" stroke-opacity=\"1\" stroke-width=\"3.2\"/>\n",
       "<circle clip-path=\"url(#clip692)\" cx=\"1105.26\" cy=\"268.205\" r=\"14.4\" fill=\"#e26f46\" fill-rule=\"evenodd\" fill-opacity=\"1\" stroke=\"#000000\" stroke-opacity=\"1\" stroke-width=\"3.2\"/>\n",
       "<circle clip-path=\"url(#clip692)\" cx=\"1195.74\" cy=\"206.535\" r=\"14.4\" fill=\"#e26f46\" fill-rule=\"evenodd\" fill-opacity=\"1\" stroke=\"#000000\" stroke-opacity=\"1\" stroke-width=\"3.2\"/>\n",
       "<circle clip-path=\"url(#clip692)\" cx=\"1286.21\" cy=\"157.729\" r=\"14.4\" fill=\"#e26f46\" fill-rule=\"evenodd\" fill-opacity=\"1\" stroke=\"#000000\" stroke-opacity=\"1\" stroke-width=\"3.2\"/>\n",
       "<circle clip-path=\"url(#clip692)\" cx=\"1376.69\" cy=\"121.787\" r=\"14.4\" fill=\"#e26f46\" fill-rule=\"evenodd\" fill-opacity=\"1\" stroke=\"#000000\" stroke-opacity=\"1\" stroke-width=\"3.2\"/>\n",
       "<circle clip-path=\"url(#clip692)\" cx=\"1467.16\" cy=\"98.7077\" r=\"14.4\" fill=\"#e26f46\" fill-rule=\"evenodd\" fill-opacity=\"1\" stroke=\"#000000\" stroke-opacity=\"1\" stroke-width=\"3.2\"/>\n",
       "<circle clip-path=\"url(#clip692)\" cx=\"1557.64\" cy=\"88.4925\" r=\"14.4\" fill=\"#e26f46\" fill-rule=\"evenodd\" fill-opacity=\"1\" stroke=\"#000000\" stroke-opacity=\"1\" stroke-width=\"3.2\"/>\n",
       "<circle clip-path=\"url(#clip692)\" cx=\"1648.11\" cy=\"91.1409\" r=\"14.4\" fill=\"#e26f46\" fill-rule=\"evenodd\" fill-opacity=\"1\" stroke=\"#000000\" stroke-opacity=\"1\" stroke-width=\"3.2\"/>\n",
       "<circle clip-path=\"url(#clip692)\" cx=\"1738.59\" cy=\"106.653\" r=\"14.4\" fill=\"#e26f46\" fill-rule=\"evenodd\" fill-opacity=\"1\" stroke=\"#000000\" stroke-opacity=\"1\" stroke-width=\"3.2\"/>\n",
       "<circle clip-path=\"url(#clip692)\" cx=\"1829.06\" cy=\"135.029\" r=\"14.4\" fill=\"#e26f46\" fill-rule=\"evenodd\" fill-opacity=\"1\" stroke=\"#000000\" stroke-opacity=\"1\" stroke-width=\"3.2\"/>\n",
       "<circle clip-path=\"url(#clip692)\" cx=\"1919.54\" cy=\"176.268\" r=\"14.4\" fill=\"#e26f46\" fill-rule=\"evenodd\" fill-opacity=\"1\" stroke=\"#000000\" stroke-opacity=\"1\" stroke-width=\"3.2\"/>\n",
       "<circle clip-path=\"url(#clip692)\" cx=\"2010.01\" cy=\"230.371\" r=\"14.4\" fill=\"#e26f46\" fill-rule=\"evenodd\" fill-opacity=\"1\" stroke=\"#000000\" stroke-opacity=\"1\" stroke-width=\"3.2\"/>\n",
       "<circle clip-path=\"url(#clip692)\" cx=\"2100.49\" cy=\"297.337\" r=\"14.4\" fill=\"#e26f46\" fill-rule=\"evenodd\" fill-opacity=\"1\" stroke=\"#000000\" stroke-opacity=\"1\" stroke-width=\"3.2\"/>\n",
       "<circle clip-path=\"url(#clip692)\" cx=\"2190.97\" cy=\"377.167\" r=\"14.4\" fill=\"#e26f46\" fill-rule=\"evenodd\" fill-opacity=\"1\" stroke=\"#000000\" stroke-opacity=\"1\" stroke-width=\"3.2\"/>\n",
       "<path clip-path=\"url(#clip690)\" d=\"M280.486 250.738 L547.289 250.738 L547.289 95.2176 L280.486 95.2176  Z\" fill=\"#ffffff\" fill-rule=\"evenodd\" fill-opacity=\"1\"/>\n",
       "<polyline clip-path=\"url(#clip690)\" style=\"stroke:#000000; stroke-linecap:round; stroke-linejoin:round; stroke-width:4; stroke-opacity:1; fill:none\" points=\"280.486,250.738 547.289,250.738 547.289,95.2176 280.486,95.2176 280.486,250.738 \"/>\n",
       "<polyline clip-path=\"url(#clip690)\" style=\"stroke:#009af9; stroke-linecap:round; stroke-linejoin:round; stroke-width:4; stroke-opacity:1; fill:none\" points=\"304.305,147.058 447.22,147.058 \"/>\n",
       "<path clip-path=\"url(#clip690)\" d=\"M484.882 166.745 Q483.077 171.375 481.364 172.787 Q479.651 174.199 476.78 174.199 L473.378 174.199 L473.378 170.634 L475.878 170.634 Q477.637 170.634 478.609 169.8 Q479.581 168.967 480.762 165.865 L481.526 163.921 L471.04 138.412 L475.554 138.412 L483.655 158.689 L491.757 138.412 L496.271 138.412 L484.882 166.745 Z\" fill=\"#000000\" fill-rule=\"nonzero\" fill-opacity=\"1\" /><path clip-path=\"url(#clip690)\" d=\"M503.563 160.402 L511.201 160.402 L511.201 134.037 L502.891 135.703 L502.891 131.444 L511.155 129.778 L515.831 129.778 L515.831 160.402 L523.47 160.402 L523.47 164.338 L503.563 164.338 L503.563 160.402 Z\" fill=\"#000000\" fill-rule=\"nonzero\" fill-opacity=\"1\" /><circle clip-path=\"url(#clip690)\" cx=\"375.763\" cy=\"198.898\" r=\"20.48\" fill=\"#e26f46\" fill-rule=\"evenodd\" fill-opacity=\"1\" stroke=\"#000000\" stroke-opacity=\"1\" stroke-width=\"4.55111\"/>\n",
       "<path clip-path=\"url(#clip690)\" d=\"M484.882 218.585 Q483.077 223.215 481.364 224.627 Q479.651 226.039 476.78 226.039 L473.378 226.039 L473.378 222.474 L475.878 222.474 Q477.637 222.474 478.609 221.64 Q479.581 220.807 480.762 217.705 L481.526 215.761 L471.04 190.252 L475.554 190.252 L483.655 210.529 L491.757 190.252 L496.271 190.252 L484.882 218.585 Z\" fill=\"#000000\" fill-rule=\"nonzero\" fill-opacity=\"1\" /><path clip-path=\"url(#clip690)\" d=\"M506.78 212.242 L523.1 212.242 L523.1 216.178 L501.155 216.178 L501.155 212.242 Q503.817 209.488 508.401 204.858 Q513.007 200.205 514.188 198.863 Q516.433 196.34 517.313 194.604 Q518.215 192.844 518.215 191.155 Q518.215 188.4 516.271 186.664 Q514.35 184.928 511.248 184.928 Q509.049 184.928 506.595 185.692 Q504.164 186.455 501.387 188.006 L501.387 183.284 Q504.211 182.15 506.664 181.571 Q509.118 180.993 511.155 180.993 Q516.526 180.993 519.72 183.678 Q522.914 186.363 522.914 190.854 Q522.914 192.983 522.104 194.905 Q521.317 196.803 519.211 199.395 Q518.632 200.067 515.53 203.284 Q512.428 206.479 506.78 212.242 Z\" fill=\"#000000\" fill-rule=\"nonzero\" fill-opacity=\"1\" /></svg>\n"
      ]
     },
     "metadata": {},
     "output_type": "display_data"
    }
   ],
   "source": [
    "################################################################################\n",
    "# Step 4: Use the interpolated function to find the zero. \n",
    "\n",
    "\n",
    "# Wrap the funeval to handle parameters. There are now two: the original \n",
    "# parameter and the fspace, which is needed to evaluate the approximant.\n",
    "function to_max(x, paras)\n",
    "    # paras[1]=c, paras[2]=fspace\n",
    "    return funeval(paras[1], paras[2], x)[1]\n",
    "end\n",
    "\n",
    "# Check the to_max function. This works. \n",
    "Plots.plot(x, f(x,3))\n",
    "yy = to_max(range(-8, 9, 20), [c, fspace]);\n",
    "Plots.plot!(range(-8, 9, 20), yy, seriestype=:scatter)\n",
    "\n"
   ]
  },
  {
   "cell_type": "markdown",
   "metadata": {},
   "source": [
    "An easy fix with the ```NLsolve``` package. What you do is wrap it into a function of x and feed it into the ```nlsolve()``` function. It will automatically take use of finite differencing to find the correct zeros. It works quite generally with non-linear systems, as discussed."
   ]
  },
  {
   "cell_type": "code",
   "execution_count": 99,
   "metadata": {},
   "outputs": [
    {
     "data": {
      "text/plain": [
       "Results of Nonlinear Solver Algorithm\n",
       " * Algorithm: Trust-region with dogleg and autoscaling\n",
       " * Starting Point: [0.0]\n",
       " * Zero: [2.9999440511483537]\n",
       " * Inf-norm of residuals: 0.000000\n",
       " * Iterations: 18\n",
       " * Convergence: true\n",
       "   * |x - x'| < 0.0e+00: false\n",
       "   * |f(x)| < 1.0e-08: true\n",
       " * Function Calls (f): 19\n",
       " * Jacobian Calls (df/dx): 19"
      ]
     },
     "metadata": {},
     "output_type": "display_data"
    }
   ],
   "source": [
    "max_x = x -> to_max(x, [c, fspace])\n",
    "nlsolve(max_x, [0.0])\n"
   ]
  },
  {
   "cell_type": "markdown",
   "metadata": {},
   "source": [
    "And now you know why the following doesn't work:"
   ]
  },
  {
   "cell_type": "code",
   "execution_count": 44,
   "metadata": {},
   "outputs": [
    {
     "ename": "BoundsError",
     "evalue": "BoundsError: attempt to access Tuple{} at index [1]",
     "output_type": "error",
     "traceback": [
      "BoundsError: attempt to access Tuple{} at index [1]\n",
      "\n",
      "Stacktrace:\n",
      "  [1] getindex(t::Tuple, i::Int64)\n",
      "    @ Base ./tuple.jl:29\n",
      "  [2] map (repeats 2 times)\n",
      "    @ ./tuple.jl:302 [inlined]\n",
      "  [3] index_sizes\n",
      "    @ ~/.julia/packages/StaticArrays/cZ1ET/src/indexing.jl:81 [inlined]\n",
      "  [4] getindex\n",
      "    @ ~/.julia/packages/StaticArrays/cZ1ET/src/indexing.jl:260 [inlined]\n",
      "  [5] BasisMatrices.BasisMatrix(::Type{Nothing}, basis::BasisMatrices.Basis{1, Tuple{BasisMatrices.SplineParams{StepRangeLen{Float64, Base.TwicePrecision{Float64}, Base.TwicePrecision{Float64}, Int64}}}}, ::BasisMatrices.Direct, x::SVector{1, Float64}, order::Matrix{Int64})\n",
      "    @ BasisMatrices ~/.julia/packages/BasisMatrices/qnJMD/src/basis_structure.jl:231\n",
      "  [6] BasisMatrix\n",
      "    @ ~/.julia/packages/BasisMatrices/qnJMD/src/basis_structure.jl:282 [inlined]\n",
      "  [7] BasisMatrices.BasisMatrix(basis::BasisMatrices.Basis{1, Tuple{BasisMatrices.SplineParams{StepRangeLen{Float64, Base.TwicePrecision{Float64}, Base.TwicePrecision{Float64}, Int64}}}}, x::SVector{1, Float64}, order::Matrix{Int64})\n",
      "    @ BasisMatrices ~/.julia/packages/BasisMatrices/qnJMD/src/basis_structure.jl:308\n",
      "  [8] funeval(c::Vector{Float64}, basis::Dict{Symbol, Any}, B::SVector{1, Float64}, _order::Int64)\n",
      "    @ CompEcon ~/.julia/packages/CompEcon/9POAs/src/core.jl:152\n",
      "  [9] funeval(c::Vector{Float64}, basis::Dict{Symbol, Any}, B::SVector{1, Float64})\n",
      "    @ CompEcon ~/.julia/packages/CompEcon/9POAs/src/core.jl:144\n",
      " [10] to_max(x::SVector{1, Float64}, paras::Vector{Any})\n",
      "    @ Main ~/Documents/Notes/Julia code for kim/forKim.ipynb:9\n",
      " [11] NonlinearFunction\n",
      "    @ ~/.julia/packages/SciMLBase/MXZxL/src/scimlfunctions.jl:2097 [inlined]\n",
      " [12] Fix2\n",
      "    @ ./operators.jl:1125 [inlined]\n",
      " [13] value_derivative(f::Base.Fix2{NonlinearFunction{false, SciMLBase.FullSpecialize, typeof(to_max), UniformScaling{Bool}, Nothing, Nothing, Nothing, Nothing, Nothing, Nothing, Nothing, Nothing, Nothing, Nothing, Nothing, Nothing, typeof(SciMLBase.DEFAULT_OBSERVED_NO_TIME), Nothing, Nothing}, Vector{Any}}, x::SVector{1, Float64})\n",
      "    @ NonlinearSolve ~/.julia/packages/NonlinearSolve/hDIt1/src/utils.jl:234\n",
      " [14] solve(::NonlinearProblem{SVector{1, Int64}, false, Vector{Any}, NonlinearFunction{false, SciMLBase.FullSpecialize, typeof(to_max), UniformScaling{Bool}, Nothing, Nothing, Nothing, Nothing, Nothing, Nothing, Nothing, Nothing, Nothing, Nothing, Nothing, Nothing, typeof(SciMLBase.DEFAULT_OBSERVED_NO_TIME), Nothing, Nothing}, Base.Pairs{Symbol, Union{}, Tuple{}, NamedTuple{(), Tuple{}}}, SciMLBase.StandardNonlinearProblem}, ::NewtonRaphson{12, true, DataType, NonlinearSolve.DefaultLinSolve}; xatol::Nothing, xrtol::Nothing, maxiters::Int64, kwargs::Base.Pairs{Symbol, Float64, Tuple{Symbol}, NamedTuple{(:reltol,), Tuple{Float64}}})\n",
      "    @ NonlinearSolve ~/.julia/packages/NonlinearSolve/hDIt1/src/scalar.jl:19\n",
      " [15] top-level scope\n",
      "    @ ~/Documents/Notes/Julia code for kim/forKim.ipynb:9"
     ]
    }
   ],
   "source": [
    "# Now, can I find the zero using the interpolated function?\n",
    "# Not with my poor Julia skills. \n",
    "# It's not with your Julia skills, it is the problem with the package\n",
    "# this won't work with any interpolated function as far as I know\n",
    "\n",
    "x0 = @SVector[1];\n",
    "p = [c, fspace];\n",
    "prob = NonlinearProblem(to_max, x0, p)\n",
    "sol = solve(prob,NewtonRaphson(),  reltol=1e-6)"
   ]
  },
  {
   "cell_type": "code",
   "execution_count": 45,
   "metadata": {},
   "outputs": [],
   "source": []
  }
 ],
 "metadata": {
  "kernelspec": {
   "display_name": "Julia 1.9.3",
   "language": "julia",
   "name": "julia-1.9"
  },
  "language_info": {
   "file_extension": ".jl",
   "mimetype": "application/julia",
   "name": "julia",
   "version": "1.9.3"
  },
  "orig_nbformat": 4
 },
 "nbformat": 4,
 "nbformat_minor": 2
}
